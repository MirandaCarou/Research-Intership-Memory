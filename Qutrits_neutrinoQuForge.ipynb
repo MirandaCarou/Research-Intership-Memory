{
  "nbformat": 4,
  "nbformat_minor": 0,
  "metadata": {
    "colab": {
      "provenance": [],
      "authorship_tag": "ABX9TyN5IiXoRjEAoq5+bh5d3lZC",
      "include_colab_link": true
    },
    "kernelspec": {
      "name": "python3",
      "display_name": "Python 3"
    },
    "language_info": {
      "name": "python"
    }
  },
  "cells": [
    {
      "cell_type": "markdown",
      "metadata": {
        "id": "view-in-github",
        "colab_type": "text"
      },
      "source": [
        "<a href=\"https://colab.research.google.com/github/MirandaCarou/Research-Intership-Memory/blob/main/Qutrits_neutrinoQuForge.ipynb\" target=\"_parent\"><img src=\"https://colab.research.google.com/assets/colab-badge.svg\" alt=\"Open In Colab\"/></a>"
      ]
    },
    {
      "cell_type": "code",
      "source": [
        "!pip install quforge"
      ],
      "metadata": {
        "colab": {
          "base_uri": "https://localhost:8080/"
        },
        "id": "LkAFWYgRacVH",
        "outputId": "1f382f7f-19dc-46c5-de77-3ca32f3cec20"
      },
      "execution_count": 2,
      "outputs": [
        {
          "output_type": "stream",
          "name": "stdout",
          "text": [
            "Collecting quforge\n",
            "  Downloading quforge-0.1.13.tar.gz (16 kB)\n",
            "  Preparing metadata (setup.py) ... \u001b[?25l\u001b[?25hdone\n",
            "Building wheels for collected packages: quforge\n",
            "  Building wheel for quforge (setup.py) ... \u001b[?25l\u001b[?25hdone\n",
            "  Created wheel for quforge: filename=quforge-0.1.13-py3-none-any.whl size=16052 sha256=47e85a30b4e6f024ad1fd97095ce57172d1e7a65347864f8d240b4aa426b594e\n",
            "  Stored in directory: /root/.cache/pip/wheels/da/b4/06/89473ece0aa332c06dc555183d3cd70e2fd3fbab2229d5856e\n",
            "Successfully built quforge\n",
            "Installing collected packages: quforge\n",
            "Successfully installed quforge-0.1.13\n"
          ]
        }
      ]
    },
    {
      "cell_type": "code",
      "execution_count": 3,
      "metadata": {
        "id": "l4h8mxmnZ9g8"
      },
      "outputs": [],
      "source": [
        "# # First, we import the libaries\n",
        "# import quforge.quforge as qf\n",
        "# from quforge.quforge import State as State\n",
        "import sys\n",
        "sys.path.append('../')\n",
        "import quforge.quforge as qf\n",
        "from quforge.quforge import *"
      ]
    },
    {
      "cell_type": "code",
      "source": [
        "import matplotlib.pyplot as plt\n",
        "from IPython.display import display, Math, Latex\n",
        "import numpy as np\n"
      ],
      "metadata": {
        "id": "IGJoXeR6apyI"
      },
      "execution_count": 4,
      "outputs": []
    },
    {
      "cell_type": "markdown",
      "source": [
        "**Basic Gates**\n",
        "\n",
        "\n",
        "\n",
        "```\n",
        "State(dits, dim=2, device='cpu')\n",
        "density_matrix(state)\n",
        "partial_trace(state, index=[0], dim=2, wires=1)\n",
        "projector(index, dim)\n",
        "measure(state=None, index=[0], shots=1, dim=2, wires=1)\n",
        "project(state, index=[0], dim=2)\n",
        "mean(state, observable='Z', index=0)\n",
        "\n",
        "eye(dim, device='cpu', sparse=False) # Create a sparse identity matrix\n",
        "zeros(m,n, device='cpu')\n",
        "ones(m,n, device='cpu')\n",
        "kron(matrix1, matrix2, sparse=False) # Tensor product of dense or sparse matrix\n",
        "base(D, device='cpu')\n",
        "fidelity(state1, state2)\n",
        "argmax(x)\n",
        "mean(x)\n",
        "\n",
        "Linear(nn.Linear)\n",
        "Sequential(nn.Sequential)\n",
        "ReLU(nn.ReLU)\n",
        "Sigmoid(nn.Sigmoid)\n",
        "Tanh(nn.Tanh)\n",
        "LeakyReLU(nn.LeakyReLU)\n",
        "Softmax(nn.Softmax)\n",
        "```\n",
        "\n"
      ],
      "metadata": {
        "id": "3aYxC1IcbY6r"
      }
    },
    {
      "cell_type": "markdown",
      "source": [
        "**Quantum Circuit for qudits using QuForge**.\n",
        "\n",
        "    The Circuit class allows users to dynamically add various quantum gates to construct a quantum circuit for qudit systems. It supports a wide range of gates, including single, multi-qudit, and custom gates. The class provides methods to add specific gates as well as a general interface for adding custom gates.\n",
        "\n",
        "    **Details:**\n",
        "\n",
        "    This class facilitates the construction of quantum circuits by allowing the sequential addition of gates. The circuit is represented as a sequence of quantum operations (gates) that act on qudit states.\n",
        "\n",
        "    Args:\n",
        "        dim (int): The dimension of the qudits. Default is 2.\n",
        "        wires (int): The total number of qudits (wires) in the circuit. Default is 1.\n",
        "        device (str): The device to perform the computations on. Default is 'cpu'.\n",
        "        sparse (bool): Whether to use sparse matrix representations for the gates. Default is False.\n",
        "\n",
        "    Attributes:\n",
        "        dim (int): The dimension of the qudits.\n",
        "        wires (int): The number of qudits in the circuit.\n",
        "        device (str): The device for computations ('cpu' or 'cuda').\n",
        "        circuit (nn.Sequential): A sequential container for holding the quantum gates.\n",
        "        sparse (bool): Whether to use sparse matrices in the gates.\n",
        "\n",
        "    Methods:\n",
        "        add(module, **kwargs): Dynamically add a gate module to the circuit.\n",
        "        add_gate(gate, **kwargs): Add a specific gate instance to the circuit.\n",
        "        H(**kwargs): Add a Hadamard gate to the circuit.\n",
        "        RX(**kwargs): Add a rotation-X gate to the circuit.\n",
        "        RY(**kwargs): Add a rotation-Y gate to the circuit.\n",
        "        RZ(**kwargs): Add a rotation-Z gate to the circuit.\n",
        "        X(**kwargs): Add a Pauli-X gate to the circuit.\n",
        "        Y(**kwargs): Add a Pauli-Y gate to the circuit.\n",
        "        Z(**kwargs): Add a Pauli-Z gate to the circuit.\n",
        "        CNOT(**kwargs): Add a controlled-NOT gate to the circuit.\n",
        "        SWAP(**kwargs): Add a SWAP gate to the circuit.\n",
        "        CZ(**kwargs): Add a controlled-Z gate to the circuit.\n",
        "        CCNOT(**kwargs): Add a Toffoli (CCNOT) gate to the circuit.\n",
        "        MCX(**kwargs): Add a multi-controlled-X gate to the circuit.\n",
        "        CRX(**kwargs): Add a controlled rotation-X gate to the circuit.\n",
        "        CRY(**kwargs): Add a controlled rotation-Y gate to the circuit.\n",
        "        CRZ(**kwargs): Add a controlled rotation-Z gate to the circuit.\n",
        "        Custom(**kwargs): Add a custom gate to the circuit.\n",
        "\n",
        "    Examples:\n",
        "        >>> import quforge.quforge as qf\n",
        "        >>> circuit = qf.Circuit(dim=2, wires=3, device='cpu')\n",
        "        >>> circuit.H(index=[0])\n",
        "        >>> circuit.CNOT(index=[0, 1])\n",
        "        >>> state = qf.State('0-0-0')\n",
        "        >>> result = circuit(state)\n",
        "        >>> print(result)\n",
        "    \"\"\""
      ],
      "metadata": {
        "id": "LHuJDVSva3ZW"
      }
    },
    {
      "cell_type": "markdown",
      "source": [
        "class **CustomGate**(nn.Module):\n",
        "\n",
        "    Custom Quantum Gate for qudits.\n",
        "\n",
        "    The CustomGate class allows users to define and apply a custom quantum gate to a specific qudit in a multi-qudit system. This gate can be any user-defined matrix, making it highly flexible for custom operations.\n",
        "\n",
        "    **Details:**\n",
        "\n",
        "    This gate applies a custom unitary matrix :math:`M` to the specified qudit while leaving other qudits unaffected by applying the identity operation to them.\n",
        "\n",
        "    Args:\n",
        "        M (torch.Tensor): The custom matrix to be applied as the gate.\n",
        "        dim (int): The dimension of the qudits. Default is 2.\n",
        "        wires (int): The total number of qudits (wires) in the circuit. Default is 1.\n",
        "        index (int): The index of the qudit to which the custom gate is applied. Default is 0.\n",
        "        device (str): The device to perform the computations on. Default is 'cpu'.\n",
        "\n",
        "    Attributes:\n",
        "        M (torch.Tensor): The custom matrix for the gate.\n",
        "        dim (int): The dimension of the qudits.\n",
        "        index (int): The index of the qudit on which the custom gate operates.\n",
        "        wires (int): The total number of qudits in the system.\n",
        "        device (str): The device for computations ('cpu' or 'cuda').\n",
        "\n",
        "    Examples:\n",
        "        >>> import quforge.quforge as qf\n",
        "        >>> custom_matrix = torch.tensor([[0, 1], [1, 0]])  # Example custom matrix\n",
        "        >>> gate = qf.CustomGate(M=custom_matrix, dim=2, index=0, wires=2)\n",
        "        >>> state = qf.State('00')\n",
        "        >>> result = gate(state)\n",
        "        >>> print(result)\n",
        "    \"\"\""
      ],
      "metadata": {
        "id": "AAGvKi6EbEnN"
      }
    },
    {
      "cell_type": "code",
      "source": [
        "def print_matrix(matrix):\n",
        "    \"\"\"Prints a matrix using LaTeX formatting.\"\"\"\n",
        "\n",
        "    latex_code = \"\\\\begin{bmatrix}\\n\"\n",
        "    for row in matrix:\n",
        "        latex_code += \" & \".join(map(str, row)) + \" \\\\\\\\\\n\"  # Format each row\n",
        "    latex_code += \"\\\\end{bmatrix}\"\n",
        "\n",
        "    display(Math(latex_code))  # Display using IPython's Math function\n",
        "\n",
        "def pmns_matrix(theta12, theta23, theta13, delta):\n",
        "    \"\"\"Genera la matriz PMNS con los parámetros dados.\"\"\"\n",
        "    c12, s12 = np.cos(theta12), np.sin(theta12)\n",
        "    c23, s23 = np.cos(theta23), np.sin(theta23)\n",
        "    c13, s13 = np.cos(theta13), np.sin(theta13)\n",
        "\n",
        "    e_minus_idelta = np.exp(-1j * delta)\n",
        "    e_plus_idelta = np.exp(1j * delta)\n",
        "\n",
        "    return np.array([\n",
        "        [c12 * c13, s12 * c13, s13 * e_minus_idelta],\n",
        "        [-s12 * c23 - c12 * s23 * s13 * e_plus_idelta,\n",
        "         c12 * c23 - s12 * s23 * s13 * e_plus_idelta,\n",
        "         s23 * c13],\n",
        "        [s12 * s23 - c12 * c23 * s13 * e_plus_idelta,\n",
        "         -c12 * s23 - s12 * c23 * s13 * e_plus_idelta,\n",
        "         c23 * c13]\n",
        "    ])\n",
        "\n",
        "# Parámetros de ejemplo\n",
        "theta12 = np.pi / 4\n",
        "theta23 = np.pi / 6\n",
        "theta13 = np.pi / 8\n",
        "delta = np.pi / 2\n",
        "\n",
        "# Crear matriz PMNS\n",
        "U_pmns = pmns_matrix(theta12, theta23, theta13, delta)\n",
        "\n",
        "print(\"Matriz PMNS:\")\n",
        "print_matrix(U_pmns)\n",
        "\n",
        "U_pmns[0, 0]"
      ],
      "metadata": {
        "id": "ndg9w1wCf4yd"
      },
      "execution_count": null,
      "outputs": []
    },
    {
      "cell_type": "code",
      "source": [
        "def gell_mann_matrices():\n",
        "    gm1 = np.array([[0, 1, 0], [1, 0, 0], [0, 0, 0]], dtype=complex)\n",
        "    gm2 = np.array([[0, -1j, 0], [1j, 0, 0], [0, 0, 0]], dtype=complex)\n",
        "    gm3 = np.array([[1, 0, 0], [0, -1, 0], [0, 0, 0]], dtype=complex)\n",
        "    gm4 = np.array([[0, 0, 1], [0, 0, 0], [1, 0, 0]], dtype=complex)\n",
        "    gm5 = np.array([[0, 0, -1j], [0, 0, 0], [1j, 0, 0]], dtype=complex)\n",
        "    gm6 = np.array([[0, 0, 0], [0, 0, 1], [0, 1, 0]], dtype=complex)\n",
        "    gm7 = np.array([[0, 0, 0], [0, 0, -1j], [0, 1j, 0]], dtype=complex)\n",
        "    gm8 = np.array([[1 / np.sqrt(3), 0, 0], [0, 1 / np.sqrt(3), 0], [0, 0, -2 / np.sqrt(3)]], dtype=complex)\n",
        "\n",
        "    return [gm1, gm2, gm3, gm4, gm5, gm6, gm7, gm8]"
      ],
      "metadata": {
        "id": "TvWjAfDxlFS4"
      },
      "execution_count": null,
      "outputs": []
    },
    {
      "cell_type": "code",
      "source": [
        "#Define iniciala state\n",
        "def neutrino_state(theta, phi, eta, xi1, xi2):\n",
        "    alpha = np.sin(theta) * np.cos(phi) * np.exp(1j * xi1)\n",
        "    beta = np.sin(theta)* np.sin(phi) * np.exp(1j * xi2)\n",
        "    gamma = np.cos(theta)\n",
        "    return np.array([alpha, beta, gamma])"
      ],
      "metadata": {
        "id": "_-8UuacqlMcE"
      },
      "execution_count": 6,
      "outputs": []
    },
    {
      "cell_type": "code",
      "source": [
        "def evolve_state(state, delta_m2_ij, L, E):\n",
        "    if len(delta_m2_ij) != len(state) - 1:\n",
        "        raise ValueError(\"El tamaño de delta_m2_ij debe ser igual al número de diferencias de masas del estado (3 componentes => 2 diferencias de masa).\")\n",
        "\n",
        "    # Crear un array de fases con longitud igual al estado\n",
        "    phases = np.ones(len(state), dtype=complex)\n",
        "    for i in range(len(delta_m2_ij)):\n",
        "        phases[i] = np.exp(-1j * delta_m2_ij[i] * L / (2 * E))\n",
        "\n",
        "    # Aplicar las fases al estado\n",
        "    evolved_state = state * phases\n",
        "    # Normalizar el estado\n",
        "    norm = np.linalg.norm(evolved_state)\n",
        "    if not np.isclose(norm, 1):\n",
        "        evolved_state /= norm\n",
        "\n",
        "    return evolved_state\n"
      ],
      "metadata": {
        "id": "uow3AWezlQkO"
      },
      "execution_count": null,
      "outputs": []
    },
    {
      "cell_type": "code",
      "source": [
        "# EN PRINCIPIO ENM ESTE CASO NO HACE FALTA\n",
        "# def create_unitary_for_state(state):\n",
        "\n"
      ],
      "metadata": {
        "id": "ln8u4-QmlmV2"
      },
      "execution_count": null,
      "outputs": []
    },
    {
      "cell_type": "code",
      "source": [
        "#Define the circuit characteristics\n",
        "device = 'cpu'\n",
        "dim = 3 #dimension of the qudit\n",
        "wires = 2 #number of qudits\n",
        "\n",
        "def neutrinos_circuit(state1, state2, dim, wires , device):\n",
        "    circuit = qf.Circuit(dim=dim, wires=wires, device=device)\n",
        "    # Convert state1 and state2 to PyTorch tensors\n",
        "    circuit.Custom(M=torch.tensor(state1, dtype=torch.complex64, device=device), index=0)\n",
        "    circuit.Custom(M=torch.tensor(state2, dtype=torch.complex64, device=device), index=1)\n",
        "\n",
        "\n",
        "    # Introducir entrelazamiento\n",
        "    circuit.H(index=0)\n",
        "    circuit.H(index=1)\n",
        "    circuit.CNOT(index=[0, 1])\n",
        "\n",
        "    return circuit\n",
        "\n",
        "def get_final_state(circuit):\n",
        "    # Simulate the circuit and get the final state\n",
        "    final_state = circuit.state()\n",
        "    return final_state\n",
        "\n",
        "\n",
        "params1 = [np.pi / 2, 2*np.pi / 6, 3*np.pi / 2, 0, np.pi / 2]\n",
        "params2 = [np.pi / 6, np.pi / 4, np.pi / 3, np.pi / 2, 0]\n",
        "# Estado inicial\n",
        "state1 = neutrino_state(*params1)\n",
        "state2 = neutrino_state(*params2)\n",
        "\n",
        "# Create the circuit\n",
        "circuit = neutrinos_circuit(state1, state2, dim, wires, device)\n",
        "print(dir(circuit))\n",
        "print(circuit.state_dict)\n",
        "\n",
        "# Get the final state of the circuit\n",
        "#final_state = get_final_state(circuit)\n",
        "\n",
        "#print(\"Final state of the circuit:\")\n",
        "#print(final_state)"
      ],
      "metadata": {
        "colab": {
          "base_uri": "https://localhost:8080/"
        },
        "id": "wiep8nnvf_ds",
        "outputId": "e6a95b79-0c26-47a4-c2a2-20dbccc1aca2"
      },
      "execution_count": 25,
      "outputs": [
        {
          "output_type": "stream",
          "name": "stdout",
          "text": [
            "['CCNOT', 'CNOT', 'CRX', 'CRY', 'CRZ', 'CZ', 'Custom', 'H', 'MCX', 'RX', 'RY', 'RZ', 'SWAP', 'T_destination', 'U', 'X', 'Y', 'Z', '__annotations__', '__call__', '__class__', '__delattr__', '__dict__', '__dir__', '__doc__', '__eq__', '__format__', '__ge__', '__getattr__', '__getattribute__', '__getstate__', '__gt__', '__hash__', '__init__', '__init_subclass__', '__le__', '__lt__', '__module__', '__ne__', '__new__', '__reduce__', '__reduce_ex__', '__repr__', '__setattr__', '__setstate__', '__sizeof__', '__str__', '__subclasshook__', '__weakref__', '_apply', '_backward_hooks', '_backward_pre_hooks', '_buffers', '_call_impl', '_compiled_call_impl', '_forward_hooks', '_forward_hooks_always_called', '_forward_hooks_with_kwargs', '_forward_pre_hooks', '_forward_pre_hooks_with_kwargs', '_get_backward_hooks', '_get_backward_pre_hooks', '_get_name', '_is_full_backward_hook', '_load_from_state_dict', '_load_state_dict_post_hooks', '_load_state_dict_pre_hooks', '_maybe_warn_non_full_backward_hook', '_modules', '_named_members', '_non_persistent_buffers_set', '_parameters', '_register_load_state_dict_pre_hook', '_register_state_dict_hook', '_replicate_for_data_parallel', '_save_to_state_dict', '_slow_forward', '_state_dict_hooks', '_state_dict_pre_hooks', '_version', '_wrapped_call_impl', 'add', 'add_gate', 'add_module', 'apply', 'bfloat16', 'buffers', 'call_super_init', 'children', 'circuit', 'compile', 'cpu', 'cuda', 'device', 'dim', 'double', 'dump_patches', 'eval', 'extra_repr', 'float', 'forward', 'get_buffer', 'get_extra_state', 'get_parameter', 'get_submodule', 'half', 'ipu', 'load_state_dict', 'modules', 'mtia', 'named_buffers', 'named_children', 'named_modules', 'named_parameters', 'parameters', 'register_backward_hook', 'register_buffer', 'register_forward_hook', 'register_forward_pre_hook', 'register_full_backward_hook', 'register_full_backward_pre_hook', 'register_load_state_dict_post_hook', 'register_load_state_dict_pre_hook', 'register_module', 'register_parameter', 'register_state_dict_post_hook', 'register_state_dict_pre_hook', 'requires_grad_', 'set_extra_state', 'set_submodule', 'share_memory', 'sparse', 'state_dict', 'to', 'to_empty', 'train', 'training', 'type', 'wires', 'xpu', 'zero_grad']\n",
            "<bound method Module.state_dict of Circuit(\n",
            "  (circuit): Sequential(\n",
            "    (0): CustomGate()\n",
            "    (1): CustomGate()\n",
            "    (2): H()\n",
            "    (3): H()\n",
            "    (4): CNOT()\n",
            "  )\n",
            ")>\n"
          ]
        }
      ]
    }
  ]
}