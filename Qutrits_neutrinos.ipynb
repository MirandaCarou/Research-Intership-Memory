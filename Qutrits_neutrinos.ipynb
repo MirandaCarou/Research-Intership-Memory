{
  "nbformat": 4,
  "nbformat_minor": 0,
  "metadata": {
    "colab": {
      "provenance": [],
      "authorship_tag": "ABX9TyM2L6HPZWqllpBT6r/5OAiH",
      "include_colab_link": true
    },
    "kernelspec": {
      "name": "python3",
      "display_name": "Python 3"
    },
    "language_info": {
      "name": "python"
    }
  },
  "cells": [
    {
      "cell_type": "markdown",
      "metadata": {
        "id": "view-in-github",
        "colab_type": "text"
      },
      "source": [
        "<a href=\"https://colab.research.google.com/github/MirandaCarou/Research-Intership-Memory/blob/main/Qutrits_neutrinos.ipynb\" target=\"_parent\"><img src=\"https://colab.research.google.com/assets/colab-badge.svg\" alt=\"Open In Colab\"/></a>"
      ]
    },
    {
      "cell_type": "code",
      "execution_count": 2,
      "metadata": {
        "colab": {
          "base_uri": "https://localhost:8080/"
        },
        "id": "DehmdGyJru-2",
        "outputId": "1516df22-cb7f-4209-9144-7695cc3e4bb7"
      },
      "outputs": [
        {
          "output_type": "stream",
          "name": "stdout",
          "text": [
            "Collecting pennylane\n",
            "  Downloading PennyLane-0.39.0-py3-none-any.whl.metadata (9.2 kB)\n",
            "Requirement already satisfied: numpy<2.1 in /usr/local/lib/python3.10/dist-packages (from pennylane) (1.26.4)\n",
            "Requirement already satisfied: scipy in /usr/local/lib/python3.10/dist-packages (from pennylane) (1.13.1)\n",
            "Requirement already satisfied: networkx in /usr/local/lib/python3.10/dist-packages (from pennylane) (3.4.2)\n",
            "Collecting rustworkx>=0.14.0 (from pennylane)\n",
            "  Downloading rustworkx-0.15.1-cp38-abi3-manylinux_2_17_x86_64.manylinux2014_x86_64.whl.metadata (9.9 kB)\n",
            "Requirement already satisfied: autograd in /usr/local/lib/python3.10/dist-packages (from pennylane) (1.7.0)\n",
            "Requirement already satisfied: toml in /usr/local/lib/python3.10/dist-packages (from pennylane) (0.10.2)\n",
            "Collecting appdirs (from pennylane)\n",
            "  Downloading appdirs-1.4.4-py2.py3-none-any.whl.metadata (9.0 kB)\n",
            "Collecting autoray>=0.6.11 (from pennylane)\n",
            "  Downloading autoray-0.7.0-py3-none-any.whl.metadata (5.8 kB)\n",
            "Requirement already satisfied: cachetools in /usr/local/lib/python3.10/dist-packages (from pennylane) (5.5.0)\n",
            "Collecting pennylane-lightning>=0.39 (from pennylane)\n",
            "  Downloading PennyLane_Lightning-0.39.0-cp310-cp310-manylinux_2_28_x86_64.whl.metadata (26 kB)\n",
            "Requirement already satisfied: requests in /usr/local/lib/python3.10/dist-packages (from pennylane) (2.32.3)\n",
            "Requirement already satisfied: typing-extensions in /usr/local/lib/python3.10/dist-packages (from pennylane) (4.12.2)\n",
            "Requirement already satisfied: packaging in /usr/local/lib/python3.10/dist-packages (from pennylane) (24.2)\n",
            "Requirement already satisfied: charset-normalizer<4,>=2 in /usr/local/lib/python3.10/dist-packages (from requests->pennylane) (3.4.0)\n",
            "Requirement already satisfied: idna<4,>=2.5 in /usr/local/lib/python3.10/dist-packages (from requests->pennylane) (3.10)\n",
            "Requirement already satisfied: urllib3<3,>=1.21.1 in /usr/local/lib/python3.10/dist-packages (from requests->pennylane) (2.2.3)\n",
            "Requirement already satisfied: certifi>=2017.4.17 in /usr/local/lib/python3.10/dist-packages (from requests->pennylane) (2024.8.30)\n",
            "Downloading PennyLane-0.39.0-py3-none-any.whl (1.9 MB)\n",
            "\u001b[2K   \u001b[90m━━━━━━━━━━━━━━━━━━━━━━━━━━━━━━━━━━━━━━━━\u001b[0m \u001b[32m1.9/1.9 MB\u001b[0m \u001b[31m20.5 MB/s\u001b[0m eta \u001b[36m0:00:00\u001b[0m\n",
            "\u001b[?25hDownloading autoray-0.7.0-py3-none-any.whl (930 kB)\n",
            "\u001b[2K   \u001b[90m━━━━━━━━━━━━━━━━━━━━━━━━━━━━━━━━━━━━━━━━\u001b[0m \u001b[32m930.0/930.0 kB\u001b[0m \u001b[31m24.6 MB/s\u001b[0m eta \u001b[36m0:00:00\u001b[0m\n",
            "\u001b[?25hDownloading PennyLane_Lightning-0.39.0-cp310-cp310-manylinux_2_28_x86_64.whl (1.7 MB)\n",
            "\u001b[2K   \u001b[90m━━━━━━━━━━━━━━━━━━━━━━━━━━━━━━━━━━━━━━━━\u001b[0m \u001b[32m1.7/1.7 MB\u001b[0m \u001b[31m43.1 MB/s\u001b[0m eta \u001b[36m0:00:00\u001b[0m\n",
            "\u001b[?25hDownloading rustworkx-0.15.1-cp38-abi3-manylinux_2_17_x86_64.manylinux2014_x86_64.whl (2.0 MB)\n",
            "\u001b[2K   \u001b[90m━━━━━━━━━━━━━━━━━━━━━━━━━━━━━━━━━━━━━━━━\u001b[0m \u001b[32m2.0/2.0 MB\u001b[0m \u001b[31m42.9 MB/s\u001b[0m eta \u001b[36m0:00:00\u001b[0m\n",
            "\u001b[?25hDownloading appdirs-1.4.4-py2.py3-none-any.whl (9.6 kB)\n",
            "Installing collected packages: appdirs, rustworkx, autoray, pennylane-lightning, pennylane\n",
            "Successfully installed appdirs-1.4.4 autoray-0.7.0 pennylane-0.39.0 pennylane-lightning-0.39.0 rustworkx-0.15.1\n",
            "Collecting qiskit\n",
            "  Downloading qiskit-1.3.0-cp39-abi3-manylinux_2_17_x86_64.manylinux2014_x86_64.whl.metadata (12 kB)\n",
            "Requirement already satisfied: rustworkx>=0.15.0 in /usr/local/lib/python3.10/dist-packages (from qiskit) (0.15.1)\n",
            "Requirement already satisfied: numpy<3,>=1.17 in /usr/local/lib/python3.10/dist-packages (from qiskit) (1.26.4)\n",
            "Requirement already satisfied: scipy>=1.5 in /usr/local/lib/python3.10/dist-packages (from qiskit) (1.13.1)\n",
            "Requirement already satisfied: sympy>=1.3 in /usr/local/lib/python3.10/dist-packages (from qiskit) (1.13.1)\n",
            "Collecting dill>=0.3 (from qiskit)\n",
            "  Downloading dill-0.3.9-py3-none-any.whl.metadata (10 kB)\n",
            "Requirement already satisfied: python-dateutil>=2.8.0 in /usr/local/lib/python3.10/dist-packages (from qiskit) (2.8.2)\n",
            "Collecting stevedore>=3.0.0 (from qiskit)\n",
            "  Downloading stevedore-5.4.0-py3-none-any.whl.metadata (2.3 kB)\n",
            "Requirement already satisfied: typing-extensions in /usr/local/lib/python3.10/dist-packages (from qiskit) (4.12.2)\n",
            "Collecting symengine<0.14,>=0.11 (from qiskit)\n",
            "  Downloading symengine-0.13.0-cp310-cp310-manylinux_2_17_x86_64.manylinux2014_x86_64.whl.metadata (1.2 kB)\n",
            "Requirement already satisfied: six>=1.5 in /usr/local/lib/python3.10/dist-packages (from python-dateutil>=2.8.0->qiskit) (1.16.0)\n",
            "Collecting pbr>=2.0.0 (from stevedore>=3.0.0->qiskit)\n",
            "  Downloading pbr-6.1.0-py2.py3-none-any.whl.metadata (3.4 kB)\n",
            "Requirement already satisfied: mpmath<1.4,>=1.1.0 in /usr/local/lib/python3.10/dist-packages (from sympy>=1.3->qiskit) (1.3.0)\n",
            "Downloading qiskit-1.3.0-cp39-abi3-manylinux_2_17_x86_64.manylinux2014_x86_64.whl (6.7 MB)\n",
            "\u001b[2K   \u001b[90m━━━━━━━━━━━━━━━━━━━━━━━━━━━━━━━━━━━━━━━━\u001b[0m \u001b[32m6.7/6.7 MB\u001b[0m \u001b[31m49.5 MB/s\u001b[0m eta \u001b[36m0:00:00\u001b[0m\n",
            "\u001b[?25hDownloading dill-0.3.9-py3-none-any.whl (119 kB)\n",
            "\u001b[2K   \u001b[90m━━━━━━━━━━━━━━━━━━━━━━━━━━━━━━━━━━━━━━━━\u001b[0m \u001b[32m119.4/119.4 kB\u001b[0m \u001b[31m5.9 MB/s\u001b[0m eta \u001b[36m0:00:00\u001b[0m\n",
            "\u001b[?25hDownloading stevedore-5.4.0-py3-none-any.whl (49 kB)\n",
            "\u001b[2K   \u001b[90m━━━━━━━━━━━━━━━━━━━━━━━━━━━━━━━━━━━━━━━━\u001b[0m \u001b[32m49.5/49.5 kB\u001b[0m \u001b[31m2.6 MB/s\u001b[0m eta \u001b[36m0:00:00\u001b[0m\n",
            "\u001b[?25hDownloading symengine-0.13.0-cp310-cp310-manylinux_2_17_x86_64.manylinux2014_x86_64.whl (49.7 MB)\n",
            "\u001b[2K   \u001b[90m━━━━━━━━━━━━━━━━━━━━━━━━━━━━━━━━━━━━━━━━\u001b[0m \u001b[32m49.7/49.7 MB\u001b[0m \u001b[31m19.4 MB/s\u001b[0m eta \u001b[36m0:00:00\u001b[0m\n",
            "\u001b[?25hDownloading pbr-6.1.0-py2.py3-none-any.whl (108 kB)\n",
            "\u001b[2K   \u001b[90m━━━━━━━━━━━━━━━━━━━━━━━━━━━━━━━━━━━━━━━━\u001b[0m \u001b[32m108.5/108.5 kB\u001b[0m \u001b[31m6.0 MB/s\u001b[0m eta \u001b[36m0:00:00\u001b[0m\n",
            "\u001b[?25hInstalling collected packages: symengine, pbr, dill, stevedore, qiskit\n",
            "Successfully installed dill-0.3.9 pbr-6.1.0 qiskit-1.3.0 stevedore-5.4.0 symengine-0.13.0\n"
          ]
        }
      ],
      "source": [
        "!pip install pennylane --upgrade\n",
        "!pip install qiskit --upgrade"
      ]
    },
    {
      "cell_type": "markdown",
      "source": [
        "\n",
        "Los **qutrits** son sistemas cuánticos en un espacio de Hilbert tridimensional $H_3$. Los qutrits están representados por una superposición de tres estados ortonormales $|1\\rangle$, $|2\\rangle$ y $|3\\rangle$, y la densidad del estado cuántico se puede expresar mediante las matrices de Gell-Mann (generadores de $SU(3)$ ). Esto permite mapear el sistema de tres sabores de neutrinos a un modelo de qutrit y analizar su comportamiento mediante una representación geométrica en una esfera de Poincaré generalizada para $SU(3)$.\n",
        "\n",
        "La densidad de un qutrit se define como:\n",
        "\n",
        "$$\\rho_{3 \\times 3} = \\frac{1}{3} \\left(I + \\sqrt{3} \\, \\vec{n} \\cdot \\vec{\\lambda}\\right)$$,\n",
        "\n",
        "donde $\\vec{n}$ es un vector unitario en un espacio real de ocho dimensiones asociado a los parámetros de los estados de neutrinos, y $\\vec{\\lambda}$ son las matrices de Gell-Mann.\n",
        "\n",
        "El cálculo de la **entropía de mezcla** de un estado mixto reducido esimportante para caracterizar el entrelazamiento y las propiedades cuánticas del sistema. La entropía se obtiene como:\n",
        "\n",
        "$$E(\\rho) = -\\sum_{i} x_i \\log_3(x_i)$$\n",
        "\n",
        "donde $x_i$ son los autovalores de $\\rho$."
      ],
      "metadata": {
        "id": "tPMPXRu4us5Q"
      }
    },
    {
      "cell_type": "code",
      "source": [
        "import pennylane as qml\n",
        "import matplotlib.pyplot as plt\n",
        "from qiskit.quantum_info import DensityMatrix, entropy, Statevector\n",
        "from IPython.display import display, Math, Latex\n",
        "import numpy as np\n"
      ],
      "metadata": {
        "id": "KtKkHCg9s2BN"
      },
      "execution_count": 3,
      "outputs": []
    },
    {
      "cell_type": "markdown",
      "source": [
        "Here’s the list of operators and observables supported with default.qutrit:\n",
        "\n",
        "    Operators: qml.TRX, qml.TRY, qml.TRZ, qml.THadamard, qml.TShift, qml.TClock, qml.TAdd, qml.TSWAP, qml.QutritBasisState, qml.QutritUnitary, qml.ControlledQutritUnitary\n",
        "    Observables: qml.THermitian, qml.GellMann\n"
      ],
      "metadata": {
        "id": "AVzJOVbLzH4p"
      }
    },
    {
      "cell_type": "code",
      "source": [
        "import pennylane as qml\n",
        "from pennylane import numpy as np\n",
        "from IPython.display import display, Math\n",
        "\n",
        "def print_matrix(matrix):\n",
        "    \"\"\"Prints a matrix using LaTeX formatting.\"\"\"\n",
        "\n",
        "    latex_code = \"\\\\begin{bmatrix}\\n\"\n",
        "    for row in matrix:\n",
        "        latex_code += \" & \".join(map(str, row)) + \" \\\\\\\\\\n\"  # Format each row\n",
        "    latex_code += \"\\\\end{bmatrix}\"\n",
        "\n",
        "    display(Math(latex_code))  # Display using IPython's Math function\n",
        "\n",
        "def pmns_matrix(theta12, theta23, theta13, delta):\n",
        "    \"\"\"Genera la matriz PMNS con los parámetros dados.\"\"\"\n",
        "    c12, s12 = np.cos(theta12), np.sin(theta12)\n",
        "    c23, s23 = np.cos(theta23), np.sin(theta23)\n",
        "    c13, s13 = np.cos(theta13), np.sin(theta13)\n",
        "\n",
        "    e_minus_idelta = np.exp(-1j * delta)\n",
        "    e_plus_idelta = np.exp(1j * delta)\n",
        "\n",
        "    return np.array([\n",
        "        [c12 * c13, s12 * c13, s13 * e_minus_idelta],\n",
        "        [-s12 * c23 - c12 * s23 * s13 * e_plus_idelta,\n",
        "         c12 * c23 - s12 * s23 * s13 * e_plus_idelta,\n",
        "         s23 * c13],\n",
        "        [s12 * s23 - c12 * c23 * s13 * e_plus_idelta,\n",
        "         -c12 * s23 - s12 * c23 * s13 * e_plus_idelta,\n",
        "         c23 * c13]\n",
        "    ])\n",
        "\n",
        "# Parámetros de ejemplo\n",
        "theta12 = np.pi / 4\n",
        "theta23 = np.pi / 6\n",
        "theta13 = np.pi / 8\n",
        "delta = np.pi / 2\n",
        "\n",
        "# Crear matriz PMNS\n",
        "U_pmns = pmns_matrix(theta12, theta23, theta13, delta)\n",
        "\n",
        "print(\"Matriz PMNS:\")\n",
        "print_matrix(U_pmns)\n",
        "\n",
        "U_pmns[0, 0]\n"
      ],
      "metadata": {
        "colab": {
          "base_uri": "https://localhost:8080/",
          "height": 134
        },
        "id": "0zyg0KlV8WFn",
        "outputId": "53aca2cb-541b-499e-fd69-72fae1926838"
      },
      "execution_count": 4,
      "outputs": [
        {
          "output_type": "stream",
          "name": "stdout",
          "text": [
            "Matriz PMNS:\n"
          ]
        },
        {
          "output_type": "display_data",
          "data": {
            "text/plain": [
              "<IPython.core.display.Math object>"
            ],
            "text/latex": "$\\displaystyle \\begin{bmatrix}\n(0.6532814824381883+0j) & (0.6532814824381882+0j) & (2.3432602026631493e-17-0.3826834323650898j) \\\\\n(-0.6123724356957945-0.13529902503654923j) & (0.6123724356957946-0.13529902503654923j) & (0.4619397662556433+0j) \\\\\n(0.3535533905932737-0.2343447855778369j) & (-0.35355339059327373-0.23434478557783686j) & (0.8001031451912656+0j) \\\\\n\\end{bmatrix}$"
          },
          "metadata": {}
        },
        {
          "output_type": "execute_result",
          "data": {
            "text/plain": [
              "tensor(0.65328148+0.j, requires_grad=True)"
            ]
          },
          "metadata": {},
          "execution_count": 4
        }
      ]
    },
    {
      "cell_type": "code",
      "source": [
        "import pennylane as qml\n",
        "from pennylane import numpy as np\n",
        "from IPython.display import display, Math\n",
        "\n",
        "# Definir dispositivo con 2 wires para dos qutrits\n",
        "dev = qml.device(\"default.qutrit\", wires=2, shots=None)\n"
      ],
      "metadata": {
        "id": "nuINg02zrNAO"
      },
      "execution_count": 5,
      "outputs": []
    },
    {
      "cell_type": "markdown",
      "source": [
        "\"The density matrix ρ3×3 = |ψ⟩⟨ψ| is a 3 × 3 unitary matrix... The qutrit representation of the density matrix uses the eight (Hermitian, traceless) generators of SU(3) as an operator basis called the Gell-Mann matrices.\"\n",
        "\n",
        "**Fórmula matriz densidd**\n",
        "\n",
        "\n",
        "$$\\rho_{3 \\times 3} = \\frac{1}{3}\\left(I + \\sqrt{3} \\, \\vec{n} \\cdot \\vec{\\lambda} \\right)$$\n",
        "\n",
        "**Coeficientes expansion**\n",
        "\n",
        "\n",
        "$$n_j = \\frac{\\sqrt{3}}{2} \\operatorname{Tr}(\\rho \\lambda_j)$$\n"
      ],
      "metadata": {
        "id": "-p67oeMmUY7P"
      }
    },
    {
      "cell_type": "code",
      "source": [
        "def gell_mann_matrices():\n",
        "    gm1 = np.array([[0, 1, 0], [1, 0, 0], [0, 0, 0]], dtype=complex)\n",
        "    gm2 = np.array([[0, -1j, 0], [1j, 0, 0], [0, 0, 0]], dtype=complex)\n",
        "    gm3 = np.array([[1, 0, 0], [0, -1, 0], [0, 0, 0]], dtype=complex)\n",
        "    gm4 = np.array([[0, 0, 1], [0, 0, 0], [1, 0, 0]], dtype=complex)\n",
        "    gm5 = np.array([[0, 0, -1j], [0, 0, 0], [1j, 0, 0]], dtype=complex)\n",
        "    gm6 = np.array([[0, 0, 0], [0, 0, 1], [0, 1, 0]], dtype=complex)\n",
        "    gm7 = np.array([[0, 0, 0], [0, 0, -1j], [0, 1j, 0]], dtype=complex)\n",
        "    gm8 = np.array([[1 / np.sqrt(3), 0, 0], [0, 1 / np.sqrt(3), 0], [0, 0, -2 / np.sqrt(3)]], dtype=complex)\n",
        "\n",
        "    return [gm1, gm2, gm3, gm4, gm5, gm6, gm7, gm8]"
      ],
      "metadata": {
        "id": "3BHH7ddsUoFl"
      },
      "execution_count": 6,
      "outputs": []
    },
    {
      "cell_type": "markdown",
      "source": [
        "\"A quantum state in the Hilbert space H3 spanned by the three orthogonal qutrit states is $|ψ⟩ = α|1⟩ + β|2⟩ + γ|3⟩$... where $|α|² + |β|² + |γ|² = 1.$\"\n",
        "\n",
        "-\n",
        "\n",
        "$$|\\nu_e(\\theta, \\phi, \\eta, \\xi_1, \\xi_2)\\rangle = e^{i\\xi_1}\\cos(\\theta)\\cos(\\phi)|\\nu_1\\rangle + e^{i\\xi_2}\\sin(\\theta)\\cos(\\eta)|\\nu_2\\rangle + \\sin(\\theta)\\sin(\\eta)|\\nu_3\\rangle$$"
      ],
      "metadata": {
        "id": "uRrEvALrUqoH"
      }
    },
    {
      "cell_type": "code",
      "source": [
        "def neutrino_state(theta, phi, eta, xi1, xi2):\n",
        "    alpha = np.cos(theta) * np.cos(phi)\n",
        "    beta = np.sin(theta) * np.cos(eta) + np.cos(theta) * np.sin(phi) * np.sin(eta) * np.exp(1j * xi1)\n",
        "    gamma = np.sin(theta) * np.sin(eta) - np.cos(theta) * np.sin(phi) * np.cos(eta) * np.exp(1j * xi2)\n",
        "    return np.array([alpha, beta, gamma])"
      ],
      "metadata": {
        "id": "GMK1PFgXUwS1"
      },
      "execution_count": 7,
      "outputs": []
    },
    {
      "cell_type": "markdown",
      "source": [
        "\"Taking the ultra-relativistic limit $L ≈ t (c = 1, ℏ = 1)$ and defining $ξ1 = (E3 − E1)t/ℏ ≈ ∆m²31L/2E$, the normalized time evolved electron neutrino flavour state $|νe(t)⟩$ in qutrit basis can be written as...\"\n",
        "\n",
        "**Fórmula**\n",
        "\n",
        "$$|\\nu_e(t)\\rangle = e^{-i \\phi_{ij}} |\\nu_e(0)\\rangle$$\n",
        "\n",
        "-\n",
        "\n",
        "$$\\phi_{ij} = \\frac{\\Delta m^2_{ij} L}{2E}, \\quad \\Delta m^2_{ij} = m_i^2 - m_j^2$$\n",
        "\n",
        "\n"
      ],
      "metadata": {
        "id": "F2kmLEc_U2YR"
      }
    },
    {
      "cell_type": "code",
      "source": [
        "def evolve_state(state, delta_m2_ij, L, E):\n",
        "    if len(delta_m2_ij) != len(state) - 1:\n",
        "        raise ValueError(\"El tamaño de delta_m2_ij debe ser igual al número de diferencias de masas del estado (3 componentes => 2 diferencias de masa).\")\n",
        "\n",
        "    # Crear un array de fases con longitud igual al estado\n",
        "    phases = np.ones(len(state), dtype=complex)\n",
        "    for i in range(len(delta_m2_ij)):\n",
        "        phases[i] = np.exp(-1j * delta_m2_ij[i] * L / (2 * E))\n",
        "\n",
        "    # Aplicar las fases al estado\n",
        "    evolved_state = state * phases\n",
        "    # Normalizar el estado\n",
        "    norm = np.linalg.norm(evolved_state)\n",
        "    if not np.isclose(norm, 1):\n",
        "        evolved_state /= norm\n",
        "\n",
        "    return evolved_state\n"
      ],
      "metadata": {
        "id": "7C4PgpOlU7si"
      },
      "execution_count": 8,
      "outputs": []
    },
    {
      "cell_type": "markdown",
      "source": [
        "\"The density matrix for the state |νe⟩ can now be cast into the form ρ3×3 = |νe⟩⟨νe| = (1/3)(I + √3 n̂·λ⃗).\"\n",
        "\n",
        "**Fórmula**\n",
        "\n",
        "$$U = \\text{QR}(\\text{basis})$$"
      ],
      "metadata": {
        "id": "umXhFFMrVBg6"
      }
    },
    {
      "cell_type": "code",
      "source": [
        "def create_unitary_for_state(state):\n",
        "    # Asegurarse de que el estado esté normalizado\n",
        "    if not np.isclose(np.linalg.norm(state), 1):\n",
        "        raise ValueError(\"El estado no está normalizado.\")\n",
        "\n",
        "    # Completar con dos vectores ortogonales para formar una base ortonormal\n",
        "    basis = np.eye(3, dtype=complex)\n",
        "    basis[:, 0] = state\n",
        "    q, _ = np.linalg.qr(basis)  # QR decomposition para garantizar ortonormalidad\n",
        "    return q\n"
      ],
      "metadata": {
        "id": "Oas2oMKQVAD6"
      },
      "execution_count": 9,
      "outputs": []
    },
    {
      "cell_type": "markdown",
      "source": [
        "\"The three-flavour states of a neutrino system can be written in the qutrit basis by identifying the mass eigenstates with the qutrit basis states of the three-dimensional Hilbert space H3.\""
      ],
      "metadata": {
        "id": "G_VBYi0jVb21"
      }
    },
    {
      "cell_type": "code",
      "source": [
        "@qml.qnode(dev)\n",
        "def neutrinos_circuit(state1, state2):\n",
        "\n",
        "    unitary1 = create_unitary_for_state(state1)\n",
        "    unitary2 = create_unitary_for_state(state2)\n",
        "\n",
        "    # Preparar los estados en el dispositivo\n",
        "    qml.QutritUnitary(unitary1, wires=0)\n",
        "    qml.QutritUnitary(unitary2, wires=1)\n",
        "\n",
        "    # Introducir entrelazamiento\n",
        "    qml.THadamard(wires=0)\n",
        "    qml.THadamard(wires=1)\n",
        "    qml.TAdd(wires=[0, 1])  # Entrelazamiento\n",
        "\n",
        "    # Retornar matriz de densidad total\n",
        "    return qml.state()\n"
      ],
      "metadata": {
        "id": "XASkMCRRVc7S"
      },
      "execution_count": 10,
      "outputs": []
    },
    {
      "cell_type": "markdown",
      "source": [
        "The study of the Bloch matrix using the density matrix ρ gives useful symmetries in the Bloch-vector space.\"\n",
        "\n",
        "**Fórmula matriz densidad**\n",
        "\n",
        "$$\\rho = |\\Psi\\rangle\\langle\\Psi|$$\n",
        "\n",
        "\n",
        "**Fórmula matriz densidad  reducida**\n",
        "\n",
        "$$\\rho_A = \\operatorname{Tr}_B(\\rho)$$"
      ],
      "metadata": {
        "id": "ZTVHiqNDVhz1"
      }
    },
    {
      "cell_type": "code",
      "source": [
        "def reduced_density_matrix(rho, dimA=3, dimB=3):\n",
        "    \"\"\"\n",
        "    Calcula la matriz de densidad reducida del primer sistema (traza parcial).\n",
        "    \"\"\"\n",
        "    rho = rho.reshape((dimA, dimB, dimA, dimB))\n",
        "    reduced_rho = np.trace(rho, axis1=1, axis2=3)\n",
        "    return reduced_rho\n"
      ],
      "metadata": {
        "id": "rg7Dxg9mVish"
      },
      "execution_count": 11,
      "outputs": []
    },
    {
      "cell_type": "markdown",
      "source": [
        "\"The coefficients $cα = (3/2) Tr(ρ3×3λα)$ characterize the density matrix in the $SU(3)$ representation.\"\n",
        "\n",
        "**Fórmula**\n",
        "\n",
        "$$\\rho = \\frac{1}{3}\\left(I + \\sum_{i=1}^8 c_i \\lambda_i \\right)$$\n",
        "\n",
        "-\n",
        "\n",
        "$$c_i = \\frac{3}{2} \\operatorname{Tr}(\\rho \\lambda_i)$$"
      ],
      "metadata": {
        "id": "0Pf-HkBeVkua"
      }
    },
    {
      "cell_type": "code",
      "source": [
        "def su3_density_matrix(state):\n",
        "    lambda_matrices = gell_mann_matrices()\n",
        "    c_alpha = [(3/2) * np.real(np.trace(state @ l)) for l in lambda_matrices]\n",
        "    return c_alpha"
      ],
      "metadata": {
        "id": "v1el9tt6Vnut"
      },
      "execution_count": 12,
      "outputs": []
    },
    {
      "cell_type": "markdown",
      "source": [
        "\"We calculate the entropy of mixing of the mixed state ρ using the formula ...\"\n",
        "\n",
        "**Fórmula**\n",
        "\n",
        "$$E(\\rho) = -\\sum_{i} x_i \\log_3(x_i)$$"
      ],
      "metadata": {
        "id": "d7T7roazVtHm"
      }
    },
    {
      "cell_type": "code",
      "source": [
        "def entropy_of_mixing(rho):\n",
        "    eigenvalues = np.linalg.eigvalsh(rho)\n",
        "    entropy = -np.sum(eigenvalues * np.log(eigenvalues) / np.log(3))\n",
        "    return entropy"
      ],
      "metadata": {
        "id": "8GBcNu46VrhU"
      },
      "execution_count": 13,
      "outputs": []
    },
    {
      "cell_type": "markdown",
      "source": [
        " \"The generalized concurrence formula as a measure of two qutrits entanglement has also been studied.\"\n",
        "\n",
        " **Fórmula**\n",
        "\n",
        "$$C = \\max\\left(0, \\sqrt{\\lambda_1} - \\sum_{i=2}^d \\sqrt{\\lambda_i}\\right)$$\n",
        "\n",
        ",\n",
        "\n",
        "$$\\rho_{9 \\times 9} = (\\mathcal{O}_3 \\otimes \\mathcal{O}_3) \\rho_{9 \\times 9}^* (\\mathcal{O}_3 \\otimes \\mathcal{O}_3)$$"
      ],
      "metadata": {
        "id": "MhsRB8LTV3LB"
      }
    },
    {
      "cell_type": "code",
      "source": [
        "def generalized_concurrence(rho):\n",
        "    dim = rho.shape[0]\n",
        "    flipped_rho = np.zeros_like(rho, dtype=complex)\n",
        "\n",
        "    # Crear la versión \"spin-flipped\" de la matriz de densidad\n",
        "    for i in range(dim):\n",
        "        for j in range(dim):\n",
        "            flipped_rho[i, j] = rho[dim - 1 - i, dim - 1 - j].conjugate()\n",
        "\n",
        "        # Producto de \\rho y flipped_rho\n",
        "    product = np.dot(rho, flipped_rho)\n",
        "\n",
        "    # Autovalores del producto\n",
        "    eigenvalues = np.linalg.eigvalsh(product)\n",
        "    print(eigenvalues)\n",
        "    print(eigenvalues[1:])\n",
        "\n",
        "    # Calcular los autovalores del producto\n",
        "    eigenvalues = np.linalg.eigvalsh(product)\n",
        "\n",
        "    eigenvalues = np.sort(eigenvalues)[::-1]  # Orden descendente\n",
        "    #Aqui voy a trincar a cero los autovalores que sean ligeramente negativos igual por algun desajuste de calclos\n",
        "    eigenvalues = np.clip(eigenvalues, 0, None)\n",
        "    # Calcular concurrencia\n",
        "    concurrence = max(0, np.sqrt(eigenvalues[0]) - sum(np.sqrt(eigenvalues[1:])))\n",
        "    return concurrence"
      ],
      "metadata": {
        "id": "NW_mS33fVyU1"
      },
      "execution_count": 21,
      "outputs": []
    },
    {
      "cell_type": "code",
      "source": [
        "# Parámetros de mezcla\n",
        "params1 = [np.pi / 4, np.pi / 6, np.pi / 3, 0, np.pi / 2]\n",
        "params2 = [np.pi / 6, np.pi / 4, np.pi / 3, np.pi / 2, 0]\n",
        "\n",
        "# Diferencias de masas al cuadrado y parámetros de evolución\n",
        "delta_m2_ij = np.array([2.4e-3, 7.5e-5])  # Diferencias de masas al cuadrado en eV^2\n",
        "L = 100  # Distancia recorrida en km\n",
        "E = 1  # Energía del neutrino en GeV\n",
        "\n",
        "\n",
        "# Estado inicial\n",
        "state1 = neutrino_state(*params1)\n",
        "state2 = neutrino_state(*params2)\n",
        "\n",
        "# Evolución temporal\n",
        "state1_evo = evolve_state(state1, delta_m2_ij, L, E)\n",
        "state2_evo = evolve_state(state2, delta_m2_ij, L, E)\n",
        "\n",
        "\n",
        "# Obtener el estado del sistema\n",
        "state = neutrinos_circuit(state1_evo, state2_evo)\n",
        "print(qml.draw_mpl(neutrinos_circuit, wire_order=[0,1], show_all_wires=True, decimals=1)(state1_evo, state2_evo))\n",
        "print()\n",
        "print(\"Estado completo del sistema de dos qutrits:\")\n",
        "print(state)\n",
        "print()\n",
        "# Calcular la matriz de densidad\n",
        "rho = np.outer(state, np.conj(state))  # Matriz de densidad total\n",
        "print(\"\\nMatriz de densidad calculada manualmente:\")\n",
        "print()\n",
        "print_matrix(rho.real)\n",
        "print()\n",
        "\n",
        "# Matriz de densidad reducida\n",
        "reduced_rho_matrix_qutrit1 = reduced_density_matrix(rho)\n",
        "print(\"\\nMatriz de densidad reducida del Qutrit 1:\")\n",
        "print()\n",
        "print_matrix(reduced_rho_matrix_qutrit1.real)\n",
        "print()\n",
        "# Coeficientes SU(3)\n",
        "su3_reduced_rho = su3_density_matrix(reduced_rho_matrix_qutrit1)\n",
        "\n",
        "# Entropía de mezcla\n",
        "entropy_qutrit1 = entropy_of_mixing(reduced_rho_matrix_qutrit1)\n",
        "print(\"\\nEntropía de mezcla del Qutrit 1:\")\n",
        "print()\n",
        "print(entropy_qutrit1.real)\n",
        "print()\n",
        "# Concurrencia Generalizada\n",
        "concurrence_value = generalized_concurrence(rho)\n",
        "print(\"\\nConcurrencia Generalizada:\")\n",
        "print(concurrence_value)\n",
        "print()\n"
      ],
      "metadata": {
        "colab": {
          "base_uri": "https://localhost:8080/",
          "height": 1000
        },
        "id": "PMjvnl5U4zo4",
        "outputId": "2a3d149f-304b-40ec-a960-15eb38e71b7b"
      },
      "execution_count": 27,
      "outputs": [
        {
          "output_type": "stream",
          "name": "stdout",
          "text": [
            "(<Figure size 600x300 with 1 Axes>, <Axes: >)\n",
            "\n",
            "Estado completo del sistema de dos qutrits:\n",
            "[-0.69467848-0.21443969j  0.04689318+0.14863991j -0.54157166+0.37397521j\n",
            "  0.04633461-0.04590407j  0.07150449+0.00884151j -0.00715984-0.01368644j\n",
            "  0.00372794+0.00959853j -0.03410269+0.02697373j -0.0467159 -0.01116286j]\n",
            "\n",
            "\n",
            "Matriz de densidad calculada manualmente:\n",
            "\n"
          ]
        },
        {
          "output_type": "display_data",
          "data": {
            "text/plain": [
              "<IPython.core.display.Math object>"
            ],
            "text/latex": "$\\displaystyle \\begin{bmatrix}\n0.5285625724294508 & -0.06444998225131174 & 0.2960230471123295 & -0.022344000347064453 & -0.05156860071848033 & 0.007908702102325029 & -0.004648021872618796 & 0.017906164422354834 & 0.03484629001243209 \\\\\n-0.06444998225131174 & 0.024292792160085307 & 0.0301916197287131 & -0.004650399745064455 & 0.004667274988730372 & -0.002370098384912936 & 0.0016015392026930845 & 0.002410188730775805 & -0.0038499039737106776 \\\\\n0.2960230471123295 & 0.0301916197287131 & 0.43315732023297154 & -0.042260496789833665 & -0.035418297311804126 & -0.0012408217074041882 & 0.0015706679998706739 & 0.028556553924106463 & 0.02112537314046381 \\\\\n-0.022344000347064453 & -0.004650399745064455 & -0.042260496789833665 & 0.004254079986894781 & 0.0029072710111486973 & 0.00029651482096799373 & -0.00026787917603889196 & -0.0028183386262500016 & -0.0016521420768187396 \\\\\n-0.05156860071848033 & 0.004667274988730372 & -0.035418297311804126 & 0.0029072710111486973 & 0.005191064207305509 & -0.0006329695167186964 & 0.00035142961391087813 & -0.0022000065489423647 & -0.003439093014673686 \\\\\n0.007908702102325029 & -0.002370098384912936 & -0.0012408217074041882 & 0.00029651482096799373 & -0.0006329695167186964 & 0.0002385818642022038 & -0.00015806108147360377 & -0.00012500444428047763 & 0.0004872581605092988 \\\\\n-0.004648021872618796 & 0.0016015392026930845 & 0.0015706679998706739 & -0.00026787917603889196 & 0.00035142961391087813 & -0.00015806108147360377 & 0.00010602926069990013 & 0.0001317755117679608 & -0.00028130088650148404 \\\\\n0.017906164422354834 & 0.002410188730775805 & 0.028556553924106463 & -0.0028183386262500016 & -0.0022000065489423647 & -0.00012500444428047763 & 0.0001317755117679608 & 0.0018905752014177133 & 0.0012920336463843449 \\\\\n0.03484629001243209 & -0.0038499039737106776 & 0.02112537314046381 & -0.0016521420768187396 & -0.003439093014673686 & 0.0004872581605092988 & -0.00028130088650148404 & 0.0012920336463843449 & 0.002306984656972234 \\\\\n\\end{bmatrix}$"
          },
          "metadata": {}
        },
        {
          "output_type": "stream",
          "name": "stdout",
          "text": [
            "\n",
            "\n",
            "Matriz de densidad reducida del Qutrit 1:\n",
            "\n"
          ]
        },
        {
          "output_type": "display_data",
          "data": {
            "text/plain": [
              "<IPython.core.display.Math object>"
            ],
            "text/latex": "$\\displaystyle \\begin{bmatrix}\n0.9860126848225077 & -0.01891754706573827 & 0.01888753999862082 \\\\\n-0.01891754706573827 & 0.009683726058402495 & -0.001980627564471958 \\\\\n0.01888753999862082 & -0.001980627564471958 & 0.004303589119089847 \\\\\n\\end{bmatrix}$"
          },
          "metadata": {}
        },
        {
          "output_type": "stream",
          "name": "stdout",
          "text": [
            "\n",
            "\n",
            "Entropía de mezcla del Qutrit 1:\n",
            "\n",
            "0.056766534606751406\n",
            "\n",
            "[-2.21544463e-03 -2.00097168e-03 -5.21554231e-05 -4.75973451e-05\n",
            "  2.50730512e-04  6.33729448e-04  6.45657147e-04  2.36083475e-03\n",
            "  2.52992144e-03]\n",
            "[-2.00097168e-03 -5.21554231e-05 -4.75973451e-05  2.50730512e-04\n",
            "  6.33729448e-04  6.45657147e-04  2.36083475e-03  2.52992144e-03]\n",
            "\n",
            "Concurrencia Generalizada:\n",
            "0\n",
            "\n"
          ]
        },
        {
          "output_type": "display_data",
          "data": {
            "text/plain": [
              "<Figure size 600x300 with 1 Axes>"
            ],
            "image/png": "[encoded data removed]"
          },
          "metadata": {}
        }
      ]
    },
    {
      "cell_type": "markdown",
      "source": [
        "\n",
        "# **RESULTADOS**\n",
        "\n",
        "- El estado completo del sistema de dos qutrits se muestra como un vector complejo de dimensión 9, lo cual es correcto para un sistema de dos qutrits. La representación de este estado depende de los parámetros de mezcla $\\theta, \\phi, \\eta, \\xi_1, \\xi_2\\$, así como de la evolución temporal. Este vector parece adecuado y no presenta anomalías.\n",
        "\n",
        "- La **matriz de densidad** parece una matriz compleja, que es esperada. El estado total de dos qutrits tiene que ser una combinación de amplitudes complejas en las distintas bases. Aunque, el hecho de que la matriz de densidad sea principalmente diagonal y tenga elementos no cero fuera de la diagonal podría indicar que hay correlaciones, pero aún se necesita más información para determinar si hay entrelazamiento.\n",
        "\n",
        "- La **matriz de densidad reducida del primer qutrit** también muestra componentes no diagonales, lo que es una buena señal de que existen correlaciones entre los dos qutrits. Sin embargo, los valores fuera de la diagonal son pequeños, lo que sugiere que el grado de entrelazamiento no es muy fuerte. La entropía de mezcla también es relativamente baja, lo que podría indicar que el sistema no está completamente mezclado.\n",
        "\n",
        "- La **entropía de mezcla** $S = 0.0568$ es pequeña, lo que indica que el qutrit 1 no está en un estado completamente mixto, pero tampoco en un estado puro (para un estado puro, la entropía sería cero). Esto podría estar de acuerdo con un estado cuántico entrelazado parcial, donde hay algo de coherencia, pero también algo de decoherencia.\n",
        "\n",
        "- $C = 0$ . En sistemas mixtos la **concurrencia puede** ser cero, incluso si hay correlaciones. Esto es posible si el estado total del sistema no es completamente entrelazado, es decir, aunque haya algo de correlación entre los qutrits, no hay entrelazamiento cuántico puro.\n",
        "\n",
        "### **Conclusión**\n",
        "- Los resultados **son consistentes** con el caso en que los dos qutrits están **parcialmente entrelazados o no completamente entrelazados**. El estado del sistema es **parcialmente mezclado** o las correlaciones no son lo suficientemente fuertes como para generar entrelazamiento cuántico significativo.\n",
        "- La **entropía de mezcla** también sugiere que el sistema no es completamente puro y no está completamente mezclado.\n",
        "\n",
        "\n",
        "\n"
      ],
      "metadata": {
        "id": "AjAvsOB999x6"
      }
    },
    {
      "cell_type": "markdown",
      "source": [
        "#Prueba con un circuito diferente y puertas más arbitrarías\n",
        "\n",
        "( *Puramente experimental* )"
      ],
      "metadata": {
        "id": "j35VBKJ_Hz2K"
      }
    },
    {
      "cell_type": "code",
      "source": [
        "@qml.qnode(dev)\n",
        "def circuit_more_entangled(state1, state2):\n",
        "\n",
        "        state1 = state1 / np.linalg.norm(state1)\n",
        "        state2 = state2 / np.linalg.norm(state2)\n",
        "\n",
        "        # Unitaries para preparar los estados iniciales\n",
        "        unitary1 = create_unitary_for_state(state1)\n",
        "        unitary2 = create_unitary_for_state(state2)\n",
        "\n",
        "        qml.QutritUnitary(unitary1, wires=0)\n",
        "        qml.QutritUnitary(unitary2, wires=1)\n",
        "\n",
        "        # Entrelazamiento adicional\n",
        "        qml.THadamard(wires=0)\n",
        "        qml.THadamard(wires=1)\n",
        "        qml.TAdd(wires=[0, 1])\n",
        "\n",
        "        # Introducir rotaciones en ambos qutrits\n",
        "        qml.TRX(np.pi / 4, wires=0)\n",
        "        qml.TRY(np.pi / 3, wires=1)\n",
        "        qml.TShift(wires=0)\n",
        "\n",
        "        qml.TClock(wires=1)\n",
        "\n",
        "        return qml.state()"
      ],
      "metadata": {
        "id": "VXuyMsBahk--"
      },
      "execution_count": 24,
      "outputs": []
    },
    {
      "cell_type": "code",
      "source": [
        "# Parámetros de mezcla\n",
        "params1 = [np.pi / 4, np.pi / 6, np.pi / 3, 0, np.pi / 2]\n",
        "params2 = [np.pi / 6, np.pi / 4, np.pi / 3, np.pi / 2, 0]\n",
        "\n",
        "# Diferencias de masas al cuadrado y parámetros de evolución\n",
        "delta_m2_ij = np.array([2.4e-3, 7.5e-5])\n",
        "L = 100\n",
        "E = 1\n",
        "\n",
        "\n",
        "# Estado inicial\n",
        "state1 = neutrino_state(*params1)\n",
        "state2 = neutrino_state(*params2)\n",
        "\n",
        "# Evolución temporal\n",
        "state1_evo = evolve_state(state1, delta_m2_ij, L, E)\n",
        "state2_evo = evolve_state(state2, delta_m2_ij, L, E)\n",
        "\n",
        "\n",
        "# Obtener el estado del sistema\n",
        "state = circuit_more_entangled(state1_evo, state2_evo)\n",
        "print(qml.draw_mpl(circuit_more_entangled)(state1_evo, state2_evo))\n",
        "print()\n",
        "print(\"Estado completo del sistema de dos qutrits:\")\n",
        "print(state)\n",
        "print()\n",
        "# Calcular la matriz de densidad\n",
        "rho = np.outer(state, np.conj(state))  # Matriz de densidad total\n",
        "print(\"\\nMatriz de densidad calculada manualmente:\")\n",
        "print()\n",
        "print_matrix(rho.real)\n",
        "print()\n",
        "\n",
        "# Matriz de densidad reducida\n",
        "reduced_rho_matrix_qutrit1 = reduced_density_matrix(rho)\n",
        "print(\"\\nMatriz de densidad reducida del Qutrit 1:\")\n",
        "print()\n",
        "print_matrix(reduced_rho_matrix_qutrit1.real)\n",
        "print()\n",
        "# Coeficientes SU(3)\n",
        "su3_reduced_rho = su3_density_matrix(reduced_rho_matrix_qutrit1)\n",
        "\n",
        "# Entropía de mezcla\n",
        "entropy_qutrit1 = entropy_of_mixing(reduced_rho_matrix_qutrit1)\n",
        "print(\"\\nEntropía de mezcla del Qutrit 1:\")\n",
        "print()\n",
        "print(entropy_qutrit1.real)\n",
        "print()\n",
        "# Concurrencia Generalizada\n",
        "concurrence_value = generalized_concurrence(rho)\n",
        "print(\"\\nConcurrencia Generalizada:\")\n",
        "print(concurrence_value)\n",
        "print()\n"
      ],
      "metadata": {
        "colab": {
          "base_uri": "https://localhost:8080/",
          "height": 1000
        },
        "id": "ATCxlhmkhsKq",
        "outputId": "604a0ab6-7c69-459a-ca0c-5d5427abe5c6"
      },
      "execution_count": 25,
      "outputs": [
        {
          "output_type": "stream",
          "name": "stdout",
          "text": [
            "(<Figure size 800x300 with 1 Axes>, <Axes: >)\n",
            "\n",
            "Estado completo del sistema de dos qutrits:\n",
            "[ 0.02027983-0.00517429j -0.01055167-0.03804237j  0.01369063+0.04603859j\n",
            " -0.59438125-0.24191068j  0.15561026-0.24413633j  0.55438388+0.26372506j\n",
            " -0.09546754+0.19838626j -0.13283877+0.02358522j  0.10028399-0.21551479j]\n",
            "\n",
            "\n",
            "Matriz de densidad calculada manualmente:\n",
            "\n"
          ]
        },
        {
          "output_type": "display_data",
          "data": {
            "text/plain": [
              "<IPython.core.display.Math object>"
            ],
            "text/latex": "$\\displaystyle \\begin{bmatrix}\n0.0004380448050916041 & -1.7143631338552023e-05 & 3.9426425510011075e-05 & -0.010802233471247034 & 0.004418982609954436 & 0.009878219733413848 & -0.002962574230903925 & -0.002815984535959809 & 0.003148879158732779 \\\\\n-1.7143631338552023e-05 & 0.0015585596570260093 & -0.0018958758954540956 & 0.015474569530209207 & 0.007645577110456514 & -0.015882401259566078 & -0.006539741799824844 & 0.0005044328884877506 & 0.007140530143880068 \\\\\n3.9426425510011075e-05 & -0.0018958758954540956 & 0.0023069846569722355 & -0.019274677979130177 & -0.009109289507574302 & 0.019731392067243666 & 0.00782641229631763 & -0.000732815883412286 & -0.008549045416173962 \\\\\n-0.010802233471247034 & 0.015474569530209207 & -0.019274677979130177 & 0.41180984554621275 & -0.033432630972715725 & -0.3933132931887987 & 0.0087523597752837 & 0.07325135797418104 & -0.007471594878530497 \\\\\n0.004418982609954436 & 0.007645577110456514 & -0.009109289507574302 & -0.033432630972715725 & 0.08381710189647458 & 0.021882948538838983 & -0.06328902267732187 & -0.02642908513361776 & 0.06822020942749646 \\\\\n0.009878219733413848 & -0.015882401259566078 & 0.019731392067243666 & -0.3933132931887987 & 0.021882948538838983 & 0.3768923970861818 & -0.0006062369383296809 & -0.06742366022401437 & -0.0012408217074041845 \\\\\n-0.002962574230903925 & -0.006539741799824844 & 0.00782641229631763 & 0.0087523597752837 & -0.06328902267732187 & -0.0006062369383296809 & 0.04847115920964544 & 0.017360774779999116 & -0.05232903968652363 \\\\\n-0.002815984535959809 & 0.0005044328884877506 & -0.000732815883412286 & 0.07325135797418104 & -0.02642908513361776 & -0.06742366022401437 & 0.017360774779999116 & 0.018202402131403467 & -0.018404566876183533 \\\\\n0.003148879158732779 & 0.007140530143880068 & -0.008549045416173962 & -0.007471594878530497 & 0.06822020942749646 & -0.0012408217074041845 & -0.05232903968652363 & -0.018404566876183533 & 0.0565035050109917 \\\\\n\\end{bmatrix}$"
          },
          "metadata": {}
        },
        {
          "output_type": "stream",
          "name": "stdout",
          "text": [
            "\n",
            "\n",
            "Matriz de densidad reducida del Qutrit 1:\n",
            "\n"
          ]
        },
        {
          "output_type": "display_data",
          "data": {
            "text/plain": [
              "<IPython.core.display.Math object>"
            ],
            "text/latex": "$\\displaystyle \\begin{bmatrix}\n0.004303589119089849 & 0.016574735706453146 & -0.011007186758590136 \\\\\n0.016574735706453146 & 0.872519344528869 & -0.018917547065738245 \\\\\n-0.011007186758590136 & -0.018917547065738245 & 0.1231770663520406 \\\\\n\\end{bmatrix}$"
          },
          "metadata": {}
        },
        {
          "output_type": "stream",
          "name": "stdout",
          "text": [
            "\n",
            "\n",
            "Entropía de mezcla del Qutrit 1:\n",
            "\n",
            "0.056766534606751164\n",
            "\n",
            "[-0.10538578 -0.08481829 -0.02246807 -0.00697007 -0.00695837  0.00597492\n",
            "  0.00597558  0.04067702  0.9490815 ]\n",
            "[-0.08481829 -0.02246807 -0.00697007 -0.00695837  0.00597492  0.00597558\n",
            "  0.04067702  0.9490815 ]\n",
            "\n",
            "Concurrencia Generalizada:\n",
            "0.6179231917300538\n",
            "\n"
          ]
        },
        {
          "output_type": "display_data",
          "data": {
            "text/plain": [
              "<Figure size 800x300 with 1 Axes>"
            ],
            "image/png": "[encoded data removed]"
          },
          "metadata": {}
        }
      ]
    }
  ]
}
