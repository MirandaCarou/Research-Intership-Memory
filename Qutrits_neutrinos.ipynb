{
  "nbformat": 4,
  "nbformat_minor": 0,
  "metadata": {
    "colab": {
      "provenance": [],
      "authorship_tag": "ABX9TyMAnS05TvpWo7vs4ODUw/jA",
      "include_colab_link": true
    },
    "kernelspec": {
      "name": "python3",
      "display_name": "Python 3"
    },
    "language_info": {
      "name": "python"
    }
  },
  "cells": [
    {
      "cell_type": "markdown",
      "metadata": {
        "id": "view-in-github",
        "colab_type": "text"
      },
      "source": [
        "<a href=\"https://colab.research.google.com/github/MirandaCarou/Research-Intership-Memory/blob/main/Qutrits_neutrinos.ipynb\" target=\"_parent\"><img src=\"https://colab.research.google.com/assets/colab-badge.svg\" alt=\"Open In Colab\"/></a>"
      ]
    },
    {
      "cell_type": "code",
      "execution_count": null,
      "metadata": {
        "colab": {
          "base_uri": "https://localhost:8080/"
        },
        "id": "DehmdGyJru-2",
        "outputId": "5b51c20f-dfa5-4a97-f51c-a31445dbc2c2"
      },
      "outputs": [
        {
          "output_type": "stream",
          "name": "stdout",
          "text": [
            "Collecting pennylane\n",
            "  Downloading PennyLane-0.40.0-py3-none-any.whl.metadata (10 kB)\n",
            "Requirement already satisfied: numpy<2.1 in /usr/local/lib/python3.11/dist-packages (from pennylane) (1.26.4)\n",
            "Requirement already satisfied: scipy in /usr/local/lib/python3.11/dist-packages (from pennylane) (1.13.1)\n",
            "Requirement already satisfied: networkx in /usr/local/lib/python3.11/dist-packages (from pennylane) (3.4.2)\n",
            "Collecting rustworkx>=0.14.0 (from pennylane)\n",
            "  Downloading rustworkx-0.16.0-cp39-abi3-manylinux_2_17_x86_64.manylinux2014_x86_64.whl.metadata (10 kB)\n",
            "Requirement already satisfied: autograd in /usr/local/lib/python3.11/dist-packages (from pennylane) (1.7.0)\n",
            "Collecting tomlkit (from pennylane)\n",
            "  Downloading tomlkit-0.13.2-py3-none-any.whl.metadata (2.7 kB)\n",
            "Collecting appdirs (from pennylane)\n",
            "  Downloading appdirs-1.4.4-py2.py3-none-any.whl.metadata (9.0 kB)\n",
            "Collecting autoray>=0.6.11 (from pennylane)\n",
            "  Downloading autoray-0.7.0-py3-none-any.whl.metadata (5.8 kB)\n",
            "Requirement already satisfied: cachetools in /usr/local/lib/python3.11/dist-packages (from pennylane) (5.5.1)\n",
            "Collecting pennylane-lightning>=0.40 (from pennylane)\n",
            "  Downloading PennyLane_Lightning-0.40.0-cp311-cp311-manylinux_2_28_x86_64.whl.metadata (27 kB)\n",
            "Requirement already satisfied: requests in /usr/local/lib/python3.11/dist-packages (from pennylane) (2.32.3)\n",
            "Requirement already satisfied: typing-extensions in /usr/local/lib/python3.11/dist-packages (from pennylane) (4.12.2)\n",
            "Requirement already satisfied: packaging in /usr/local/lib/python3.11/dist-packages (from pennylane) (24.2)\n",
            "Collecting diastatic-malt (from pennylane)\n",
            "  Downloading diastatic_malt-2.15.2-py3-none-any.whl.metadata (2.6 kB)\n",
            "Collecting scipy-openblas32>=0.3.26 (from pennylane-lightning>=0.40->pennylane)\n",
            "  Downloading scipy_openblas32-0.3.29.0.0-py3-none-manylinux_2_17_x86_64.manylinux2014_x86_64.whl.metadata (56 kB)\n",
            "\u001b[2K     \u001b[90m━━━━━━━━━━━━━━━━━━━━━━━━━━━━━━━━━━━━━━━━\u001b[0m \u001b[32m56.1/56.1 kB\u001b[0m \u001b[31m2.5 MB/s\u001b[0m eta \u001b[36m0:00:00\u001b[0m\n",
            "\u001b[?25hRequirement already satisfied: astunparse in /usr/local/lib/python3.11/dist-packages (from diastatic-malt->pennylane) (1.6.3)\n",
            "Requirement already satisfied: gast in /usr/local/lib/python3.11/dist-packages (from diastatic-malt->pennylane) (0.6.0)\n",
            "Requirement already satisfied: termcolor in /usr/local/lib/python3.11/dist-packages (from diastatic-malt->pennylane) (2.5.0)\n",
            "Requirement already satisfied: charset-normalizer<4,>=2 in /usr/local/lib/python3.11/dist-packages (from requests->pennylane) (3.4.1)\n",
            "Requirement already satisfied: idna<4,>=2.5 in /usr/local/lib/python3.11/dist-packages (from requests->pennylane) (3.10)\n",
            "Requirement already satisfied: urllib3<3,>=1.21.1 in /usr/local/lib/python3.11/dist-packages (from requests->pennylane) (2.3.0)\n",
            "Requirement already satisfied: certifi>=2017.4.17 in /usr/local/lib/python3.11/dist-packages (from requests->pennylane) (2024.12.14)\n",
            "Requirement already satisfied: wheel<1.0,>=0.23.0 in /usr/local/lib/python3.11/dist-packages (from astunparse->diastatic-malt->pennylane) (0.45.1)\n",
            "Requirement already satisfied: six<2.0,>=1.6.1 in /usr/local/lib/python3.11/dist-packages (from astunparse->diastatic-malt->pennylane) (1.17.0)\n",
            "Downloading PennyLane-0.40.0-py3-none-any.whl (2.0 MB)\n",
            "\u001b[2K   \u001b[90m━━━━━━━━━━━━━━━━━━━━━━━━━━━━━━━━━━━━━━━━\u001b[0m \u001b[32m2.0/2.0 MB\u001b[0m \u001b[31m30.9 MB/s\u001b[0m eta \u001b[36m0:00:00\u001b[0m\n",
            "\u001b[?25hDownloading autoray-0.7.0-py3-none-any.whl (930 kB)\n",
            "\u001b[2K   \u001b[90m━━━━━━━━━━━━━━━━━━━━━━━━━━━━━━━━━━━━━━━━\u001b[0m \u001b[32m930.0/930.0 kB\u001b[0m \u001b[31m52.1 MB/s\u001b[0m eta \u001b[36m0:00:00\u001b[0m\n",
            "\u001b[?25hDownloading PennyLane_Lightning-0.40.0-cp311-cp311-manylinux_2_28_x86_64.whl (2.4 MB)\n",
            "\u001b[2K   \u001b[90m━━━━━━━━━━━━━━━━━━━━━━━━━━━━━━━━━━━━━━━━\u001b[0m \u001b[32m2.4/2.4 MB\u001b[0m \u001b[31m66.7 MB/s\u001b[0m eta \u001b[36m0:00:00\u001b[0m\n",
            "\u001b[?25hDownloading rustworkx-0.16.0-cp39-abi3-manylinux_2_17_x86_64.manylinux2014_x86_64.whl (2.1 MB)\n",
            "\u001b[2K   \u001b[90m━━━━━━━━━━━━━━━━━━━━━━━━━━━━━━━━━━━━━━━━\u001b[0m \u001b[32m2.1/2.1 MB\u001b[0m \u001b[31m74.7 MB/s\u001b[0m eta \u001b[36m0:00:00\u001b[0m\n",
            "\u001b[?25hDownloading appdirs-1.4.4-py2.py3-none-any.whl (9.6 kB)\n",
            "Downloading diastatic_malt-2.15.2-py3-none-any.whl (167 kB)\n",
            "\u001b[2K   \u001b[90m━━━━━━━━━━━━━━━━━━━━━━━━━━━━━━━━━━━━━━━━\u001b[0m \u001b[32m167.9/167.9 kB\u001b[0m \u001b[31m14.6 MB/s\u001b[0m eta \u001b[36m0:00:00\u001b[0m\n",
            "\u001b[?25hDownloading tomlkit-0.13.2-py3-none-any.whl (37 kB)\n",
            "Downloading scipy_openblas32-0.3.29.0.0-py3-none-manylinux_2_17_x86_64.manylinux2014_x86_64.whl (8.6 MB)\n",
            "\u001b[2K   \u001b[90m━━━━━━━━━━━━━━━━━━━━━━━━━━━━━━━━━━━━━━━━\u001b[0m \u001b[32m8.6/8.6 MB\u001b[0m \u001b[31m95.9 MB/s\u001b[0m eta \u001b[36m0:00:00\u001b[0m\n",
            "\u001b[?25hInstalling collected packages: appdirs, tomlkit, scipy-openblas32, rustworkx, autoray, diastatic-malt, pennylane-lightning, pennylane\n",
            "Successfully installed appdirs-1.4.4 autoray-0.7.0 diastatic-malt-2.15.2 pennylane-0.40.0 pennylane-lightning-0.40.0 rustworkx-0.16.0 scipy-openblas32-0.3.29.0.0 tomlkit-0.13.2\n",
            "Collecting qiskit\n",
            "  Downloading qiskit-1.3.2-cp39-abi3-manylinux_2_17_x86_64.manylinux2014_x86_64.whl.metadata (12 kB)\n",
            "Requirement already satisfied: rustworkx>=0.15.0 in /usr/local/lib/python3.11/dist-packages (from qiskit) (0.16.0)\n",
            "Requirement already satisfied: numpy<3,>=1.17 in /usr/local/lib/python3.11/dist-packages (from qiskit) (1.26.4)\n",
            "Requirement already satisfied: scipy>=1.5 in /usr/local/lib/python3.11/dist-packages (from qiskit) (1.13.1)\n",
            "Requirement already satisfied: sympy>=1.3 in /usr/local/lib/python3.11/dist-packages (from qiskit) (1.13.1)\n",
            "Collecting dill>=0.3 (from qiskit)\n",
            "  Downloading dill-0.3.9-py3-none-any.whl.metadata (10 kB)\n",
            "Requirement already satisfied: python-dateutil>=2.8.0 in /usr/local/lib/python3.11/dist-packages (from qiskit) (2.8.2)\n",
            "Collecting stevedore>=3.0.0 (from qiskit)\n",
            "  Downloading stevedore-5.4.0-py3-none-any.whl.metadata (2.3 kB)\n",
            "Requirement already satisfied: typing-extensions in /usr/local/lib/python3.11/dist-packages (from qiskit) (4.12.2)\n",
            "Collecting symengine<0.14,>=0.11 (from qiskit)\n",
            "  Downloading symengine-0.13.0-cp311-cp311-manylinux_2_17_x86_64.manylinux2014_x86_64.whl.metadata (1.2 kB)\n",
            "Requirement already satisfied: six>=1.5 in /usr/local/lib/python3.11/dist-packages (from python-dateutil>=2.8.0->qiskit) (1.17.0)\n",
            "Collecting pbr>=2.0.0 (from stevedore>=3.0.0->qiskit)\n",
            "  Downloading pbr-6.1.0-py2.py3-none-any.whl.metadata (3.4 kB)\n",
            "Requirement already satisfied: mpmath<1.4,>=1.1.0 in /usr/local/lib/python3.11/dist-packages (from sympy>=1.3->qiskit) (1.3.0)\n",
            "Downloading qiskit-1.3.2-cp39-abi3-manylinux_2_17_x86_64.manylinux2014_x86_64.whl (6.8 MB)\n",
            "\u001b[2K   \u001b[90m━━━━━━━━━━━━━━━━━━━━━━━━━━━━━━━━━━━━━━━━\u001b[0m \u001b[32m6.8/6.8 MB\u001b[0m \u001b[31m43.4 MB/s\u001b[0m eta \u001b[36m0:00:00\u001b[0m\n",
            "\u001b[?25hDownloading dill-0.3.9-py3-none-any.whl (119 kB)\n",
            "\u001b[2K   \u001b[90m━━━━━━━━━━━━━━━━━━━━━━━━━━━━━━━━━━━━━━━━\u001b[0m \u001b[32m119.4/119.4 kB\u001b[0m \u001b[31m9.2 MB/s\u001b[0m eta \u001b[36m0:00:00\u001b[0m\n",
            "\u001b[?25hDownloading stevedore-5.4.0-py3-none-any.whl (49 kB)\n",
            "\u001b[2K   \u001b[90m━━━━━━━━━━━━━━━━━━━━━━━━━━━━━━━━━━━━━━━━\u001b[0m \u001b[32m49.5/49.5 kB\u001b[0m \u001b[31m3.8 MB/s\u001b[0m eta \u001b[36m0:00:00\u001b[0m\n",
            "\u001b[?25hDownloading symengine-0.13.0-cp311-cp311-manylinux_2_17_x86_64.manylinux2014_x86_64.whl (49.7 MB)\n",
            "\u001b[2K   \u001b[90m━━━━━━━━━━━━━━━━━━━━━━━━━━━━━━━━━━━━━━━━\u001b[0m \u001b[32m49.7/49.7 MB\u001b[0m \u001b[31m14.5 MB/s\u001b[0m eta \u001b[36m0:00:00\u001b[0m\n",
            "\u001b[?25hDownloading pbr-6.1.0-py2.py3-none-any.whl (108 kB)\n",
            "\u001b[2K   \u001b[90m━━━━━━━━━━━━━━━━━━━━━━━━━━━━━━━━━━━━━━━━\u001b[0m \u001b[32m108.5/108.5 kB\u001b[0m \u001b[31m10.5 MB/s\u001b[0m eta \u001b[36m0:00:00\u001b[0m\n",
            "\u001b[?25hInstalling collected packages: symengine, pbr, dill, stevedore, qiskit\n",
            "Successfully installed dill-0.3.9 pbr-6.1.0 qiskit-1.3.2 stevedore-5.4.0 symengine-0.13.0\n"
          ]
        }
      ],
      "source": [
        "!pip install pennylane --upgrade\n",
        "!pip install qiskit --upgrade"
      ]
    },
    {
      "cell_type": "markdown",
      "source": [
        "### Sección sobre Qutrits en el Paper y Cálculo de Entropía\n",
        "\n",
        "Los **qutrits** son sistemas cuánticos en un espacio de Hilbert tridimensional $H_3$. Los qutrits están representados por una superposición de tres estados ortonormales $|1\\rangle$, $|2\\rangle$ y $|3\\rangle$, y la densidad del estado cuántico se puede expresar mediante las matrices de Gell-Mann (generadores de $SU(3)$ ). Esto permite mapear el sistema de tres sabores de neutrinos a un modelo de qutrit y analizar su comportamiento mediante una representación geométrica en una esfera de Poincaré generalizada para $SU(3)$.\n",
        "\n",
        "La densidad de un qutrit se define como:\n",
        "\n",
        "$$\\rho_{3 \\times 3} = \\frac{1}{3} \\left(I + \\sqrt{3} \\, \\vec{n} \\cdot \\vec{\\lambda}\\right)$$,\n",
        "\n",
        "donde $\\vec{n}$ es un vector unitario en un espacio real de ocho dimensiones asociado a los parámetros de los estados de neutrinos, y $\\vec{\\lambda}$ son las matrices de Gell-Mann.\n",
        "\n",
        "El cálculo de la **entropía de mezcla** de un estado mixto reducido esimportante para caracterizar el entrelazamiento y las propiedades cuánticas del sistema. La entropía se obtiene como:\n",
        "\n",
        "$$E(\\rho) = -\\sum_{i} x_i \\log_3(x_i)$$\n",
        "\n",
        "donde $x_i$ son los autovalores de $\\rho$."
      ],
      "metadata": {
        "id": "tPMPXRu4us5Q"
      }
    },
    {
      "cell_type": "code",
      "source": [
        "import pennylane as qml\n",
        "import matplotlib.pyplot as plt\n",
        "from qiskit.quantum_info import DensityMatrix, entropy, Statevector\n",
        "from IPython.display import display, Math, Latex\n",
        "import numpy as np\n"
      ],
      "metadata": {
        "id": "KtKkHCg9s2BN"
      },
      "execution_count": null,
      "outputs": []
    },
    {
      "cell_type": "markdown",
      "source": [
        "Here’s the list of operators and observables supported with default.qutrit:\n",
        "\n",
        "    Operators: qml.TRX, qml.TRY, qml.TRZ, qml.THadamard, qml.TShift, qml.TClock, qml.TAdd, qml.TSWAP, qml.QutritBasisState, qml.QutritUnitary, qml.ControlledQutritUnitary\n",
        "    Observables: qml.THermitian, qml.GellMann\n"
      ],
      "metadata": {
        "id": "AVzJOVbLzH4p"
      }
    },
    {
      "cell_type": "code",
      "source": [
        "def print_matrix(matrix):\n",
        "    \"\"\"Prints a matrix using LaTeX formatting.\"\"\"\n",
        "\n",
        "    latex_code = \"\\\\begin{bmatrix}\\n\"\n",
        "    for row in matrix:\n",
        "        latex_code += \" & \".join(map(str, row)) + \" \\\\\\\\\\n\"  # Format each row\n",
        "    latex_code += \"\\\\end{bmatrix}\"\n",
        "\n",
        "    display(Math(latex_code))  # Display using IPython's Math function\n",
        "\n",
        "def pmns_matrix(theta12, theta23, theta13, delta):\n",
        "    \"\"\"Genera la matriz PMNS con los parámetros dados.\"\"\"\n",
        "    c12, s12 = np.cos(theta12), np.sin(theta12)\n",
        "    c23, s23 = np.cos(theta23), np.sin(theta23)\n",
        "    c13, s13 = np.cos(theta13), np.sin(theta13)\n",
        "\n",
        "    e_minus_idelta = np.exp(-1j * delta)\n",
        "    e_plus_idelta = np.exp(1j * delta)\n",
        "\n",
        "    return np.array([\n",
        "        [c12 * c13, s12 * c13, s13 * e_minus_idelta],\n",
        "        [-s12 * c23 - c12 * s23 * s13 * e_plus_idelta,\n",
        "         c12 * c23 - s12 * s23 * s13 * e_plus_idelta,\n",
        "         s23 * c13],\n",
        "        [s12 * s23 - c12 * c23 * s13 * e_plus_idelta,\n",
        "         -c12 * s23 - s12 * c23 * s13 * e_plus_idelta,\n",
        "         c23 * c13]\n",
        "    ])\n",
        "\n",
        "# Parámetros de ejemplo\n",
        "theta12 = np.pi / 4\n",
        "theta23 = np.pi / 6\n",
        "theta13 = np.pi / 8\n",
        "delta = np.pi / 2\n",
        "\n",
        "# Crear matriz PMNS\n",
        "U_pmns = pmns_matrix(theta12, theta23, theta13, delta)\n",
        "\n",
        "print(\"Matriz PMNS:\")\n",
        "print_matrix(U_pmns)\n",
        "\n",
        "U_pmns[0, 0]\n"
      ],
      "metadata": {
        "colab": {
          "base_uri": "https://localhost:8080/",
          "height": 114
        },
        "id": "0zyg0KlV8WFn",
        "outputId": "6e0107fe-cedd-4dc7-f80e-acc668991962"
      },
      "execution_count": null,
      "outputs": [
        {
          "output_type": "stream",
          "name": "stdout",
          "text": [
            "Matriz PMNS:\n"
          ]
        },
        {
          "output_type": "display_data",
          "data": {
            "text/plain": [
              "<IPython.core.display.Math object>"
            ],
            "text/latex": "$\\displaystyle \\begin{bmatrix}\n(0.6532814824381883+0j) & (0.6532814824381882+0j) & (2.3432602026631493e-17-0.3826834323650898j) \\\\\n(-0.6123724356957945-0.13529902503654923j) & (0.6123724356957946-0.13529902503654923j) & (0.4619397662556433+0j) \\\\\n(0.3535533905932737-0.2343447855778369j) & (-0.35355339059327373-0.23434478557783686j) & (0.8001031451912656+0j) \\\\\n\\end{bmatrix}$"
          },
          "metadata": {}
        },
        {
          "output_type": "execute_result",
          "data": {
            "text/plain": [
              "(0.6532814824381883+0j)"
            ]
          },
          "metadata": {},
          "execution_count": 3
        }
      ]
    },
    {
      "cell_type": "code",
      "source": [
        "# Definir dispositivo con 2 wires para dos qutrits\n",
        "dev = qml.device(\"default.qutrit\", wires=2, shots=None)\n"
      ],
      "metadata": {
        "id": "nuINg02zrNAO"
      },
      "execution_count": null,
      "outputs": []
    },
    {
      "cell_type": "markdown",
      "source": [
        "\"The density matrix ρ3×3 = |ψ⟩⟨ψ| is a 3 × 3 unitary matrix... The qutrit representation of the density matrix uses the eight (Hermitian, traceless) generators of SU(3) as an operator basis called the Gell-Mann matrices.\"\n",
        "\n",
        "**Fórmula matriz densidd**\n",
        "\n",
        "\n",
        "$$\\rho_{3 \\times 3} = \\frac{1}{3}\\left(I + \\sqrt{3} \\, \\vec{n} \\cdot \\vec{\\lambda} \\right)$$\n",
        "\n",
        "**Coeficientes expansion**\n",
        "\n",
        "\n",
        "$$n_j = \\frac{\\sqrt{3}}{2} \\operatorname{Tr}(\\rho \\lambda_j)$$\n"
      ],
      "metadata": {
        "id": "-p67oeMmUY7P"
      }
    },
    {
      "cell_type": "code",
      "source": [
        "def gell_mann_matrices():\n",
        "    gm1 = np.array([[0, 1, 0], [1, 0, 0], [0, 0, 0]], dtype=complex)\n",
        "    gm2 = np.array([[0, -1j, 0], [1j, 0, 0], [0, 0, 0]], dtype=complex)\n",
        "    gm3 = np.array([[1, 0, 0], [0, -1, 0], [0, 0, 0]], dtype=complex)\n",
        "    gm4 = np.array([[0, 0, 1], [0, 0, 0], [1, 0, 0]], dtype=complex)\n",
        "    gm5 = np.array([[0, 0, -1j], [0, 0, 0], [1j, 0, 0]], dtype=complex)\n",
        "    gm6 = np.array([[0, 0, 0], [0, 0, 1], [0, 1, 0]], dtype=complex)\n",
        "    gm7 = np.array([[0, 0, 0], [0, 0, -1j], [0, 1j, 0]], dtype=complex)\n",
        "    gm8 = np.array([[1 / np.sqrt(3), 0, 0], [0, 1 / np.sqrt(3), 0], [0, 0, -2 / np.sqrt(3)]], dtype=complex)\n",
        "\n",
        "    return [gm1, gm2, gm3, gm4, gm5, gm6, gm7, gm8]"
      ],
      "metadata": {
        "id": "3BHH7ddsUoFl"
      },
      "execution_count": null,
      "outputs": []
    },
    {
      "cell_type": "markdown",
      "source": [
        "\"A quantum state in the Hilbert space H3 spanned by the three orthogonal qutrit states is $|ψ⟩ = α|1⟩ + β|2⟩ + γ|3⟩$... where $|α|² + |β|² + |γ|² = 1.$\"\n",
        "\n",
        "-\n",
        "\n",
        "$$|\\nu_e\\rangle = e^{i\\xi_1}\\sin(\\theta)\\cos(\\phi)|\\nu_1\\rangle + e^{i\\xi_2}\\sin(\\theta)\\sin(\\phi)|\\nu_2\\rangle + \\cos(\\theta)|\\nu_3\\rangle$$"
      ],
      "metadata": {
        "id": "uRrEvALrUqoH"
      }
    },
    {
      "cell_type": "code",
      "source": [
        "def neutrino_state(theta, phi, eta, xi1, xi2):\n",
        "    alpha = np.sin(theta) * np.cos(phi) * np.exp(1j * xi1)\n",
        "    beta = np.sin(theta)* np.sin(phi) * np.exp(1j * xi2)\n",
        "    gamma = np.cos(theta)\n",
        "    return np.array([alpha, beta, gamma])"
      ],
      "metadata": {
        "id": "GMK1PFgXUwS1"
      },
      "execution_count": null,
      "outputs": []
    },
    {
      "cell_type": "markdown",
      "source": [
        "\"Taking the ultra-relativistic limit $L ≈ t (c = 1, ℏ = 1)$ and defining $ξ1 = (E3 − E1)t/ℏ ≈ ∆m²31L/2E$, the normalized time evolved electron neutrino flavour state $|νe(t)⟩$ in qutrit basis can be written as...\"\n",
        "\n",
        "**Fórmula**\n",
        "\n",
        "$$|\\nu_e(t)\\rangle = e^{-i \\phi_{ij}} |\\nu_e(0)\\rangle$$\n",
        "\n",
        "-\n",
        "\n",
        "$$\\phi_{ij} = \\frac{\\Delta m^2_{ij} L}{2E}, \\quad \\Delta m^2_{ij} = m_i^2 - m_j^2$$\n",
        "\n",
        "\n"
      ],
      "metadata": {
        "id": "F2kmLEc_U2YR"
      }
    },
    {
      "cell_type": "code",
      "source": [
        "def evolve_state(state, delta_m2_ij, L, E):\n",
        "    if len(delta_m2_ij) != len(state) - 1:\n",
        "        raise ValueError(\"El tamaño de delta_m2_ij debe ser igual al número de diferencias de masas del estado (3 componentes => 2 diferencias de masa).\")\n",
        "\n",
        "    # Crear un array de fases con longitud igual al estado\n",
        "    phases = np.ones(len(state), dtype=complex)\n",
        "    for i in range(len(delta_m2_ij)):\n",
        "        phases[i] = np.exp(-1j * delta_m2_ij[i] * L / (2 * E))\n",
        "\n",
        "    # Aplicar las fases al estado\n",
        "    evolved_state = state * phases\n",
        "    # Normalizar el estado\n",
        "    norm = np.linalg.norm(evolved_state)\n",
        "    if not np.isclose(norm, 1):\n",
        "        evolved_state /= norm\n",
        "\n",
        "    return evolved_state\n"
      ],
      "metadata": {
        "id": "7C4PgpOlU7si"
      },
      "execution_count": null,
      "outputs": []
    },
    {
      "cell_type": "markdown",
      "source": [
        "\"The density matrix for the state |νe⟩ can now be cast into the form ρ3×3 = |νe⟩⟨νe| = (1/3)(I + √3 n̂·λ⃗).\"\n",
        "\n",
        "**Fórmula**\n",
        "\n",
        "$$U = \\text{QR}(\\text{basis})$$"
      ],
      "metadata": {
        "id": "umXhFFMrVBg6"
      }
    },
    {
      "cell_type": "code",
      "source": [
        "\n",
        "#Esto es para poder usar un estado como operador unitario y inicializar el circuito a un estado (temas de pennylane)\n",
        "def create_unitary_for_state(state):\n",
        "    # Asegurarse de que el estado esté normalizado\n",
        "    if not np.isclose(np.linalg.norm(state), 1):\n",
        "        raise ValueError(\"El estado no está normalizado.\")\n",
        "\n",
        "    # Completar con dos vectores ortogonales para formar una base ortonormal\n",
        "    basis = np.eye(3, dtype=complex)\n",
        "    basis[:, 0] = state\n",
        "    q, _ = np.linalg.qr(basis)  # QR decomposition para garantizar ortonormalidad\n",
        "    return q\n"
      ],
      "metadata": {
        "id": "Oas2oMKQVAD6"
      },
      "execution_count": null,
      "outputs": []
    },
    {
      "cell_type": "markdown",
      "source": [
        "\"The three-flavour states of a neutrino system can be written in the qutrit basis by identifying the mass eigenstates with the qutrit basis states of the three-dimensional Hilbert space H3.\""
      ],
      "metadata": {
        "id": "G_VBYi0jVb21"
      }
    },
    {
      "cell_type": "code",
      "source": [
        "@qml.qnode(dev)\n",
        "def neutrinos_circuit(state1, state2):\n",
        "\n",
        "    unitary1 = create_unitary_for_state(state1)\n",
        "    unitary2 = create_unitary_for_state(state2)\n",
        "\n",
        "    # Preparar los estados en el dispositivo\n",
        "    qml.QutritUnitary(unitary1, wires=0)\n",
        "    qml.QutritUnitary(unitary2, wires=1)\n",
        "\n",
        "    # Introducir entrelazamiento\n",
        "    qml.THadamard(wires=0)\n",
        "    qml.THadamard(wires=1)\n",
        "    qml.TAdd(wires=[0, 1])  # Entrelazamiento\n",
        "\n",
        "    # Retornar matriz de densidad total\n",
        "    return qml.state()\n"
      ],
      "metadata": {
        "id": "XASkMCRRVc7S"
      },
      "execution_count": null,
      "outputs": []
    },
    {
      "cell_type": "markdown",
      "source": [
        "The study of the Bloch matrix using the density matrix ρ gives useful symmetries in the Bloch-vector space.\"\n",
        "\n",
        "**Fórmula matriz densidad**\n",
        "\n",
        "$$\\rho = |\\Psi\\rangle\\langle\\Psi|$$\n",
        "\n",
        "\n",
        "**Fórmula matriz densidad  reducida**\n",
        "\n",
        "$$\\rho_A = \\operatorname{Tr}_B(\\rho)$$"
      ],
      "metadata": {
        "id": "ZTVHiqNDVhz1"
      }
    },
    {
      "cell_type": "code",
      "source": [
        "def reduced_density_matrix(rho, qutrit_index):\n",
        "    dim = 3\n",
        "    reduced_matrix = np.zeros((dim, dim), dtype=complex)\n",
        "\n",
        "    if qutrit_index == 1:\n",
        "        # Trace over the second qutrit\n",
        "        for i in range(dim):\n",
        "            for j in range(dim):\n",
        "                for k in range(dim):\n",
        "                    reduced_matrix[i, j] += rho[i * dim + k, j * dim + k]\n",
        "    elif qutrit_index == 2:\n",
        "        # Trace over the first qutrit\n",
        "        for i in range(dim):\n",
        "            for j in range(dim):\n",
        "                for k in range(dim):\n",
        "                    reduced_matrix[i, j] += rho[k * dim + i, k * dim + j]\n",
        "    else:\n",
        "        raise ValueError(\"qutrit_index must be 1 or 2. Received: {}\".format(qutrit_index))\n",
        "\n",
        "    return reduced_matrix"
      ],
      "metadata": {
        "id": "rg7Dxg9mVish"
      },
      "execution_count": null,
      "outputs": []
    },
    {
      "cell_type": "markdown",
      "source": [
        "\"The coefficients $cα = (3/2) Tr(ρ3×3λα)$ characterize the density matrix in the $SU(3)$ representation.\"\n",
        "\n",
        "**Fórmula**\n",
        "\n",
        "$$\\rho = \\frac{1}{3}\\left(I + \\sum_{i=1}^8 c_i \\lambda_i \\right)$$\n",
        "\n",
        "-\n",
        "\n",
        "$$c_i = \\frac{3}{2} \\operatorname{Tr}(\\rho \\lambda_i)$$"
      ],
      "metadata": {
        "id": "0Pf-HkBeVkua"
      }
    },
    {
      "cell_type": "code",
      "source": [
        "def su3_density_matrix(state):\n",
        "    lambda_matrices = gell_mann_matrices()\n",
        "    c_alpha = [(3/2) * np.real(np.trace(state @ l)) for l in lambda_matrices]\n",
        "    return c_alpha"
      ],
      "metadata": {
        "id": "v1el9tt6Vnut"
      },
      "execution_count": null,
      "outputs": []
    },
    {
      "cell_type": "markdown",
      "source": [
        "\"We calculate the entropy of mixing of the mixed state ρ using the formula ...\"\n",
        "\n",
        "**Fórmula**\n",
        "\n",
        "$$E(\\rho) = -\\sum_{i} x_i \\log_3(x_i)$$"
      ],
      "metadata": {
        "id": "d7T7roazVtHm"
      }
    },
    {
      "cell_type": "code",
      "source": [
        "def entropy_of_mixing(rho):\n",
        "    eigenvalues = np.linalg.eigvalsh(rho)\n",
        "    entropy = -np.sum(eigenvalues * np.log(eigenvalues) / np.log(3))\n",
        "    return entropy"
      ],
      "metadata": {
        "id": "8GBcNu46VrhU"
      },
      "execution_count": null,
      "outputs": []
    },
    {
      "cell_type": "markdown",
      "source": [
        " \"The generalized concurrence formula as a measure of two qutrits entanglement has also been studied.\"\n",
        "\n",
        " **Fórmula**\n",
        "\n",
        "$$C = \\max\\left(0, \\sqrt{\\lambda_1} - \\sum_{i=2}^d \\sqrt{\\lambda_i}\\right)$$\n",
        "\n",
        ",\n",
        "\n",
        "$$\\rho_{9 \\times 9} = (\\mathcal{O}_3 \\otimes \\mathcal{O}_3) \\rho_{9 \\times 9}^* (\\mathcal{O}_3 \\otimes \\mathcal{O}_3)$$"
      ],
      "metadata": {
        "id": "MhsRB8LTV3LB"
      }
    },
    {
      "cell_type": "code",
      "source": [
        "def generalized_concurrence(rho):\n",
        "    # Ensure rho is a valid density matrix\n",
        "    assert np.allclose(rho, rho.conj().T), \"Input matrix must be Hermitian.\"\n",
        "    assert np.isclose(np.trace(rho), 1.0), \"Input matrix must have trace 1.\"\n",
        "\n",
        "    # 0_3 matrix\n",
        "    o_3_matrix = np.array([[0, -1j, 1j], [1j, 0, -1j], [-1j, 1j, 0]], dtype=complex)\n",
        "\n",
        "    # Compute the spin-flip operation: tilde_rho = (o_3_matrix ⊗ o_3_matrix) rho* (o_3_matrix ⊗ o_3_matrix)\n",
        "    rho_conj = np.conjugate(rho)\n",
        "    sigma_y_tensor = np.kron(o_3_matrix, o_3_matrix)\n",
        "    tilde_rho = sigma_y_tensor @ rho_conj @ sigma_y_tensor\n",
        "\n",
        "    # Compute the product rho * tilde_rho\n",
        "    product = rho @ tilde_rho\n",
        "\n",
        "    # Compute the eigenvalues of the product\n",
        "    eigenvalues = np.linalg.eigvals(product)\n",
        "\n",
        "    # Sort eigenvalues in descending order and clip negative values (due to numerical errors)\n",
        "    eigenvalues = np.sort(eigenvalues)[::-1]\n",
        "    eigenvalues = np.clip(eigenvalues, 0, None)\n",
        "\n",
        "    # Calculate the generalized concurrence\n",
        "    concurrence = max(0, np.sqrt(eigenvalues[0]) - sum(np.sqrt(eigenvalues[1:])))\n",
        "\n",
        "    return concurrence"
      ],
      "metadata": {
        "id": "NW_mS33fVyU1"
      },
      "execution_count": null,
      "outputs": []
    },
    {
      "cell_type": "code",
      "source": [
        "# Parámetros de mezcla\n",
        "params1 = [np.pi / 2, 2*np.pi / 6, 3*np.pi / 2, 0, np.pi / 2]\n",
        "params2 = [np.pi / 6, np.pi / 4, np.pi / 3, np.pi / 2, 0]\n",
        "\n",
        "# Diferencias de masas al cuadrado y parámetros de evolución\n",
        "delta_m2_ij = np.array([2.4e-3, 7.5e-5])  # Diferencias de masas al cuadrado en eV^2\n",
        "L = 100  # Distancia recorrida en km\n",
        "E = 1  # Energía del neutrino en GeV\n",
        "\n",
        "\n",
        "# Estado inicial\n",
        "state1 = neutrino_state(*params1)\n",
        "state2 = neutrino_state(*params2)\n",
        "\n",
        "\n",
        "\n",
        "# Evolución temporal\n",
        "state1_evo = evolve_state(state1, delta_m2_ij, L, E)\n",
        "state2_evo = evolve_state(state2, delta_m2_ij, L, E)\n",
        "\n",
        "\n",
        "# Obtener el estado del sistema\n",
        "state = neutrinos_circuit(state1_evo, state2_evo)\n",
        "print(\"VECTOR ESTADO\")\n",
        "print(state)\n",
        "print(qml.draw_mpl(neutrinos_circuit, wire_order=[0,1], show_all_wires=True, decimals=1)(state1_evo, state2_evo))\n",
        "print()\n",
        "print(\"Estado completo del sistema de dos qutrits:\")\n",
        "print(state)\n",
        "print()\n",
        "# Calcular la matriz de densidad\n",
        "rho = np.outer(state, np.conj(state))  # Matriz de densidad total\n",
        "print(\"\\nMatriz de densidad calculada manualmente:\")\n",
        "print()\n",
        "print_matrix(rho.real)\n",
        "print()\n",
        "\n",
        "# Matrices de densidad reducida\n",
        "# Qutrit 1 ----------------------\n",
        "reduced_rho_matrix_qutrit1 = reduced_density_matrix(rho, 1)\n",
        "print(\"\\nMatriz de densidad reducida del Qutrit 1:\")\n",
        "print()\n",
        "print_matrix(reduced_rho_matrix_qutrit1.real)\n",
        "print()\n",
        "# Qutrit 2 ----------------------\n",
        "reduced_rho_matrix_qutrit2 = reduced_density_matrix(rho, 2)\n",
        "print(\"\\nMatriz de densidad reducida del Qutrit 2:\")\n",
        "print()\n",
        "print_matrix(reduced_rho_matrix_qutrit2.real)\n",
        "print()\n",
        "\n",
        "\n",
        "# Coeficientes SU(3)\n",
        "su3_reduced_rho = su3_density_matrix(reduced_rho_matrix_qutrit1)\n",
        "\n",
        "\n",
        "# Qutrit 1 -------------------------------------------------\n",
        "# Entropía de mezcla\n",
        "entropy_qutrit1 = entropy_of_mixing(reduced_rho_matrix_qutrit1)\n",
        "print(\"\\nEntropía de mezcla del Qutrit 1:\")\n",
        "print()\n",
        "print(entropy_qutrit1.real)\n",
        "print()\n",
        "# Qutrit 2 -------------------------------------------------\n",
        "entropy_qutrit2 = entropy_of_mixing(reduced_rho_matrix_qutrit2)\n",
        "print(\"\\nEntropía de mezcla del Qutrit 2:\")\n",
        "print()\n",
        "print(entropy_qutrit2.real)\n",
        "print()\n",
        "# Concurrencia Generalizada\n",
        "concurrence_value = generalized_concurrence(rho)\n",
        "print(\"\\nConcurrencia Generalizada:\")\n",
        "print(concurrence_value.real)\n",
        "print()\n"
      ],
      "metadata": {
        "colab": {
          "base_uri": "https://localhost:8080/",
          "height": 1000
        },
        "id": "PMjvnl5U4zo4",
        "outputId": "52167437-06be-4f05-a6ce-5f14bcc7faae"
      },
      "execution_count": null,
      "outputs": [
        {
          "output_type": "stream",
          "name": "stdout",
          "text": [
            "VECTOR ESTADO\n",
            "[-0.11620267-0.39733964j  0.06955963+0.16752719j  0.30846748+0.02030863j\n",
            " -0.1783167 -0.02520992j  0.05023025+0.23588109j -0.03312571-0.10034688j\n",
            "  0.25020271-0.05533796j  0.1044956 -0.42401812j -0.58137145+0.06340586j]\n",
            "(<Figure size 600x300 with 1 Axes>, <Axes: >)\n",
            "\n",
            "Estado completo del sistema de dos qutrits:\n",
            "[-0.11620267-0.39733964j  0.06955963+0.16752719j  0.30846748+0.02030863j\n",
            " -0.1783167 -0.02520992j  0.05023025+0.23588109j -0.03312571-0.10034688j\n",
            "  0.25020271-0.05533796j  0.1044956 -0.42401812j -0.58137145+0.06340586j]\n",
            "\n",
            "\n",
            "Matriz de densidad calculada manualmente:\n",
            "\n"
          ]
        },
        {
          "output_type": "display_data",
          "data": {
            "text/plain": [
              "<IPython.core.display.Math object>"
            ],
            "text/latex": "$\\displaystyle \\begin{bmatrix}\n0.17138185243247106 & -0.07464820887555387 & -0.04391416776899391 & 0.03073777591264541 & -0.09956179861160568 & 0.043721091524446774 & -0.007086256088813652 & 0.1563365387426269 & 0.0423632522117246 \\\\\n-0.07464820887555387 & 0.032903901838215684 & 0.02485913191875949 & -0.01662699062799957 & 0.043010494501715686 & -0.019115043990105607 & 0.008133394945485262 & -0.06376588773741988 & -0.02981777843835001 \\\\\n-0.04391416776899391 & 0.02485913191875949 & 0.09556462885183588 & -0.05551688348034587 & 0.02028482030226701 & -0.012256112811789595 & 0.07605556322279716 & 0.02362227048610861 & -0.17804650322791452 \\\\\n0.03073777591264541 & -0.01662699062799957 & -0.05551688348034587 & 0.0324323864479381 & -0.014903435264021722 & 0.008436604451208439 & -0.04322025745336646 & -0.007943850715840257 & 0.10206978431355841 \\\\\n-0.09956179861160568 & 0.043010494501715686 & 0.02028482030226701 & -0.014903435264021722 & 0.05816296819266744 & -0.02533384566011273 & -0.0004854345105394003 & -0.0947690162938739 & -0.014246189908177094 \\\\\n0.043721091524446774 & -0.019115043990105607 & -0.012256112811789595 & 0.008436604451208439 & -0.02533384566011273 & 0.011166810072757698 & -0.002735150937243723 & 0.0390874054711927 & 0.012895763198816834 \\\\\n-0.007086256088813652 & 0.008133394945485262 & 0.07605556322279716 & -0.04322025745336646 & -0.0004854345105394003 & -0.002735150937243723 & 0.06566368794393944 & 0.049609383376374876 & -0.14896946621343887 \\\\\n0.1563365387426269 & -0.06376588773741988 & 0.02362227048610861 & -0.007943850715840257 & -0.0947690162938739 & 0.0390874054711927 & 0.049609383376374876 & 0.1907106943808471 & -0.08763599596422182 \\\\\n0.0423632522117246 & -0.02981777843835001 & -0.17804650322791452 & 0.10206978431355841 & -0.014246189908177094 & 0.012895763198816834 & -0.14896946621343887 & -0.08763599596422182 & 0.34201306983932805 \\\\\n\\end{bmatrix}$"
          },
          "metadata": {}
        },
        {
          "output_type": "stream",
          "name": "stdout",
          "text": [
            "\n",
            "\n",
            "Matriz de densidad reducida del Qutrit 1:\n",
            "\n"
          ]
        },
        {
          "output_type": "display_data",
          "data": {
            "text/plain": [
              "<IPython.core.display.Math object>"
            ],
            "text/latex": "$\\displaystyle \\begin{bmatrix}\n0.2998503831225226 & 0.0614921576025715 & -0.24889864705414805 \\\\\n0.0614921576025715 & 0.10176216471336323 & -0.12509351054842352 \\\\\n-0.24889864705414805 & -0.12509351054842352 & 0.5983874521641146 \\\\\n\\end{bmatrix}$"
          },
          "metadata": {}
        },
        {
          "output_type": "stream",
          "name": "stdout",
          "text": [
            "\n",
            "\n",
            "Matriz de densidad reducida del Qutrit 2:\n",
            "\n"
          ]
        },
        {
          "output_type": "display_data",
          "data": {
            "text/plain": [
              "<IPython.core.display.Math object>"
            ],
            "text/latex": "$\\displaystyle \\begin{bmatrix}\n0.2694779268243486 & -0.039942260763200725 & -0.18444702953122433 \\\\\n-0.039942260763200725 & 0.2817775644117302 & -0.08811070970557505 \\\\\n-0.18444702953122433 & -0.08811070970557505 & 0.44874450876392163 \\\\\n\\end{bmatrix}$"
          },
          "metadata": {}
        },
        {
          "output_type": "stream",
          "name": "stdout",
          "text": [
            "\n",
            "[0.04864653 0.14779056 0.8035629 ]\n",
            "\n",
            "Entropía de mezcla del Qutrit 1:\n",
            "\n",
            "0.5510365633168823\n",
            "\n",
            "[0.04864653 0.14779056 0.8035629 ]\n",
            "\n",
            "Entropía de mezcla del Qutrit 2:\n",
            "\n",
            "0.5510365633168827\n",
            "\n",
            "\n",
            "Concurrencia Generalizada:\n",
            "0.45927929292213754\n",
            "\n"
          ]
        },
        {
          "output_type": "display_data",
          "data": {
            "text/plain": [
              "<Figure size 600x300 with 1 Axes>"
            ],
            "image/png": "[encoded data removed]"
          },
          "metadata": {}
        }
      ]
    },
    {
      "cell_type": "markdown",
      "source": [
        "\n",
        "**RESULTADOS**.\n",
        "\n",
        "\n",
        "- Ambos qutrits tienen prácticamente el mismo valor de **entropía** (aprox. 0.551), lo que puede indicar en este caso que el sistema bipartito se encuentra en un estado de entrelazamiento puro y el entrelazamiento se distribuye simétricamente entre los dos qutrits. Esta simetría muestra que el entrelazamiento está equilibrado.\n",
        "\n",
        "- En cuanto a la **concurrencia generalizada**, obtenemos un valor de 0,459 que es casi la mitad del valor máximo posible (1), lo que indicaría que los dos qutrits están máximamente entrelazados. Asimismo, este resultado indica la presencia de un entrelazamiento moderado entre los dos qutrits.\n",
        "\n",
        "\n",
        "\n",
        "\n",
        "\n"
      ],
      "metadata": {
        "id": "AjAvsOB999x6"
      }
    },
    {
      "cell_type": "markdown",
      "source": [
        "#Prueba con un circuito diferente y puertas más arbitrarías\n",
        "\n",
        "( *Puramente experimental* )"
      ],
      "metadata": {
        "id": "j35VBKJ_Hz2K"
      }
    },
    {
      "cell_type": "code",
      "source": [
        "@qml.qnode(dev)\n",
        "def circuit_more_entangled(state1, state2):\n",
        "\n",
        "        state1 = state1 / np.linalg.norm(state1)\n",
        "        state2 = state2 / np.linalg.norm(state2)\n",
        "\n",
        "        # Unitaries para preparar los estados iniciales\n",
        "        unitary1 = create_unitary_for_state(state1)\n",
        "        unitary2 = create_unitary_for_state(state2)\n",
        "\n",
        "        qml.QutritUnitary(unitary1, wires=0)\n",
        "        qml.QutritUnitary(unitary2, wires=1)\n",
        "\n",
        "        # Entrelazamiento adicional\n",
        "        qml.THadamard(wires=0)\n",
        "        qml.TAdd(wires=[0, 1])\n",
        "\n",
        "        # Introducir rotaciones\n",
        "        qml.TRY(np.pi / 3, wires=1)\n",
        "        qml.TShift(wires=0)\n",
        "\n",
        "        qml.TClock(wires=1)\n",
        "\n",
        "        return qml.state()"
      ],
      "metadata": {
        "id": "VXuyMsBahk--"
      },
      "execution_count": null,
      "outputs": []
    },
    {
      "cell_type": "code",
      "source": [
        "# Parámetros de mezcla\n",
        "params1 = [np.pi / 2, 2*np.pi / 6, 3*np.pi / 2, 0, np.pi / 2]\n",
        "params2 = [np.pi / 6, np.pi / 4, np.pi / 3, np.pi / 2, 0]\n",
        "\n",
        "# Diferencias de masas al cuadrado y parámetros de evolución\n",
        "delta_m2_ij = np.array([2.4e-3, 7.5e-5])\n",
        "L = 100\n",
        "E = 1\n",
        "\n",
        "\n",
        "# Estado inicial\n",
        "state1 = neutrino_state(*params1)\n",
        "state2 = neutrino_state(*params2)\n",
        "\n",
        "# Evolución temporal\n",
        "state1_evo = evolve_state(state1, delta_m2_ij, L, E)\n",
        "state2_evo = evolve_state(state2, delta_m2_ij, L, E)\n",
        "\n",
        "\n",
        "# Obtener el estado del sistema\n",
        "state = circuit_more_entangled(state1_evo, state2_evo)\n",
        "print(qml.draw_mpl(circuit_more_entangled)(state1_evo, state2_evo))\n",
        "print()\n",
        "print(\"Estado completo del sistema de dos qutrits:\")\n",
        "print(state)\n",
        "print()\n",
        "# Calcular la matriz de densidad\n",
        "rho = np.outer(state, np.conj(state))  # Matriz de densidad total\n",
        "print(\"\\nMatriz de densidad calculada manualmente:\")\n",
        "print()\n",
        "print_matrix(rho.real)\n",
        "print()\n",
        "\n",
        "# Matriz de densidad reducida Q1\n",
        "reduced_rho_matrix_qutrit1 = reduced_density_matrix(rho, 1)\n",
        "print(\"\\nMatriz de densidad reducida del Qutrit 1:\")\n",
        "print()\n",
        "print_matrix(reduced_rho_matrix_qutrit1.real)\n",
        "print()\n",
        "# Matriz de densidad reducida Q2\n",
        "reduced_rho_matrix_qutrit2 = reduced_density_matrix(rho, 2)\n",
        "print(\"\\nMatriz de densidad reducida del Qutrit 2:\")\n",
        "print()\n",
        "print_matrix(reduced_rho_matrix_qutrit2.real)\n",
        "print()\n",
        "# Coeficientes SU(3)\n",
        "su3_reduced_rho = su3_density_matrix(reduced_rho_matrix_qutrit1)\n",
        "\n",
        "# Entropía de mezcla Q1\n",
        "entropy_qutrit1 = entropy_of_mixing(reduced_rho_matrix_qutrit1)\n",
        "print(\"\\nEntropía de mezcla del Qutrit 1:\")\n",
        "print()\n",
        "print(entropy_qutrit1.real)\n",
        "print()\n",
        "# Entropía de mezcla\n",
        "entropy_qutrit2 = entropy_of_mixing(reduced_rho_matrix_qutrit2)\n",
        "print(\"\\nEntropía de mezcla del Qutrit 2:\")\n",
        "print()\n",
        "print(entropy_qutrit1.real)\n",
        "print()\n",
        "# Concurrencia Generalizada\n",
        "concurrence_value = generalized_concurrence(rho)\n",
        "print(\"\\nConcurrencia Generalizada:\")\n",
        "print(concurrence_value)\n",
        "print()\n"
      ],
      "metadata": {
        "colab": {
          "base_uri": "https://localhost:8080/",
          "height": 1000
        },
        "id": "ATCxlhmkhsKq",
        "outputId": "f9f07e5b-5ffd-499b-995f-829d95d61b61"
      },
      "execution_count": null,
      "outputs": [
        {
          "output_type": "stream",
          "name": "stdout",
          "text": [
            "(<Figure size 800x300 with 1 Axes>, <Axes: >)\n",
            "\n",
            "Estado completo del sistema de dos qutrits:\n",
            "[ 0.03547064+0.0914767j   0.70949977+0.10282481j -0.23341105-0.14254021j\n",
            "  0.02266504+0.18221592j -0.08982916+0.18214547j -0.41789642-0.22416593j\n",
            " -0.18035141+0.15704893j  0.10338915-0.1454702j   0.09535829+0.06022514j]\n",
            "\n",
            "\n",
            "Matriz de densidad calculada manualmente:\n",
            "\n"
          ]
        },
        {
          "output_type": "display_data",
          "data": {
            "text/plain": [
              "<IPython.core.display.Math object>"
            ],
            "text/latex": "$\\displaystyle \\begin{bmatrix}\n0.009626152127553448 & 0.03457248520643125 & -0.021318347075607015 & 0.0174724533449485 & 0.013475767830172111 & -0.03532901272142624 & 0.007969137514569156 & -0.009639853624901664 & 0.008891616171315295 \\\\\n0.03457248520643125 & 0.5139628685160467 & -0.18026175898163607 & 0.034817154863163356 & -0.045004697112187186 & -0.31954723731622053 & -0.1118107571865153 & 0.05839663381827996 & 0.07384932309388269 \\\\\n-0.021318347075607015 & -0.18026175898163607 & 0.07479843152051424 & -0.03126336539474966 & -0.004995934579497958 & 0.12949430403052836 & 0.019710223984588708 & -0.0033968177267463635 & -0.030842182625952036 \\\\\n0.0174724533449485 & 0.034817154863163356 & -0.03126336539474966 & 0.03371634459702129 & 0.03115382304835905 & -0.05031823890402701 & 0.024529144617995997 & -0.02416366698339187 & 0.013135277765872823 \\\\\n0.013475767830172111 & -0.045004697112187186 & -0.004995934579497958 & 0.03115382304835905 & 0.041246251183609306 & -0.00329152382830115 & 0.04480656832580692 & -0.03578409881507638 & 0.0024037807323889727 \\\\\n-0.03532901272142624 & -0.31954723731622053 & 0.12949430403052836 & -0.05031823890402701 & -0.00329152382830115 & 0.22488778734189183 & 0.040163187976287706 & -0.010596493615170923 & -0.053350312458232914 \\\\\n0.007969137514569156 & -0.1118107571865153 & 0.019710223984588708 & 0.024529144617995997 & 0.04480656832580692 & 0.040163187976287706 & 0.05719099877736388 & -0.041492318906912413 & -0.007739708262515313 \\\\\n-0.009639853624901664 & 0.05839663381827996 & -0.0033968177267463635 & -0.02416366698339187 & -0.03578409881507638 & -0.010596493615170923 & -0.041492318906912413 & 0.03185089534682892 & 0.0010980499111248434 \\\\\n0.008891616171315295 & 0.07384932309388269 & -0.030842182625952036 & 0.013135277765872823 & 0.0024037807323889727 & -0.053350312458232914 & -0.007739708262515313 & 0.0010980499111248434 & 0.012720270589170397 \\\\\n\\end{bmatrix}$"
          },
          "metadata": {}
        },
        {
          "output_type": "stream",
          "name": "stdout",
          "text": [
            "\n",
            "\n",
            "Matriz de densidad reducida del Qutrit 1:\n",
            "\n"
          ]
        },
        {
          "output_type": "display_data",
          "data": {
            "text/plain": [
              "<IPython.core.display.Math object>"
            ],
            "text/latex": "$\\displaystyle \\begin{bmatrix}\n0.5983874521641144 & 0.10196206026328967 & 0.03552358870689708 \\\\\n0.10196206026328967 & 0.29985038312252243 & -0.0646052666553133 \\\\\n0.03552358870689708 & -0.0646052666553133 & 0.1017621647133632 \\\\\n\\end{bmatrix}$"
          },
          "metadata": {}
        },
        {
          "output_type": "stream",
          "name": "stdout",
          "text": [
            "\n",
            "\n",
            "Matriz de densidad reducida del Qutrit 2:\n",
            "\n"
          ]
        },
        {
          "output_type": "display_data",
          "data": {
            "text/plain": [
              "<IPython.core.display.Math object>"
            ],
            "text/latex": "$\\displaystyle \\begin{bmatrix}\n0.10053349550193862 & 0.024233989347877884 & -0.07937629424214933 \\\\\n0.024233989347877884 & 0.587060015046485 & -0.18245523289881238 \\\\\n-0.07937629424214933 & -0.18245523289881238 & 0.3124064894515765 \\\\\n\\end{bmatrix}$"
          },
          "metadata": {}
        },
        {
          "output_type": "stream",
          "name": "stdout",
          "text": [
            "\n",
            "\n",
            "Entropía de mezcla del Qutrit 1:\n",
            "\n",
            "0.6958941440837603\n",
            "\n",
            "\n",
            "Entropía de mezcla del Qutrit 2:\n",
            "\n",
            "0.6958941440837603\n",
            "\n",
            "\n",
            "Concurrencia Generalizada:\n",
            "(0.997333826055995+1.5255211711928736e-09j)\n",
            "\n"
          ]
        },
        {
          "output_type": "display_data",
          "data": {
            "text/plain": [
              "<Figure size 800x300 with 1 Axes>"
            ],
            "image/png": "[encoded data removed]"
          },
          "metadata": {}
        }
      ]
    }
  ]
}