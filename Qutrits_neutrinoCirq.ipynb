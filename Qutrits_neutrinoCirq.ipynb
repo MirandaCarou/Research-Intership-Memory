{
  "nbformat": 4,
  "nbformat_minor": 0,
  "metadata": {
    "colab": {
      "provenance": [],
      "authorship_tag": "ABX9TyM0nPZUa3HWbKeksapGTujt",
      "include_colab_link": true
    },
    "kernelspec": {
      "name": "python3",
      "display_name": "Python 3"
    },
    "language_info": {
      "name": "python"
    }
  },
  "cells": [
    {
      "cell_type": "markdown",
      "metadata": {
        "id": "view-in-github",
        "colab_type": "text"
      },
      "source": [
        "<a href=\"https://colab.research.google.com/github/MirandaCarou/Research-Intership-Memory/blob/main/Qutrits_neutrinoCirq.ipynb\" target=\"_parent\"><img src=\"https://colab.research.google.com/assets/colab-badge.svg\" alt=\"Open In Colab\"/></a>"
      ]
    },
    {
      "cell_type": "code",
      "source": [
        "!pip install cirq\n",
        "!pip install qudit"
      ],
      "metadata": {
        "colab": {
          "base_uri": "https://localhost:8080/"
        },
        "id": "EMbyG0oR4q4A",
        "outputId": "db615f25-87f4-409f-b2eb-333e9235184e"
      },
      "execution_count": 1,
      "outputs": [
        {
          "output_type": "stream",
          "name": "stdout",
          "text": [
            "Collecting cirq\n",
            "  Downloading cirq-1.4.1-py3-none-any.whl.metadata (7.4 kB)\n",
            "Collecting cirq-aqt==1.4.1 (from cirq)\n",
            "  Downloading cirq_aqt-1.4.1-py3-none-any.whl.metadata (1.6 kB)\n",
            "Collecting cirq-core==1.4.1 (from cirq)\n",
            "  Downloading cirq_core-1.4.1-py3-none-any.whl.metadata (1.8 kB)\n",
            "Collecting cirq-google==1.4.1 (from cirq)\n",
            "  Downloading cirq_google-1.4.1-py3-none-any.whl.metadata (2.0 kB)\n",
            "Collecting cirq-ionq==1.4.1 (from cirq)\n",
            "  Downloading cirq_ionq-1.4.1-py3-none-any.whl.metadata (1.6 kB)\n",
            "Collecting cirq-pasqal==1.4.1 (from cirq)\n",
            "  Downloading cirq_pasqal-1.4.1-py3-none-any.whl.metadata (1.6 kB)\n",
            "Collecting cirq-rigetti==1.4.1 (from cirq)\n",
            "  Downloading cirq_rigetti-1.4.1-py3-none-any.whl.metadata (1.7 kB)\n",
            "Collecting cirq-web==1.4.1 (from cirq)\n",
            "  Downloading cirq_web-1.4.1-py3-none-any.whl.metadata (2.6 kB)\n",
            "Requirement already satisfied: requests~=2.18 in /usr/local/lib/python3.11/dist-packages (from cirq-aqt==1.4.1->cirq) (2.32.3)\n",
            "Requirement already satisfied: attrs>=21.3.0 in /usr/local/lib/python3.11/dist-packages (from cirq-core==1.4.1->cirq) (25.1.0)\n",
            "Collecting duet>=0.2.8 (from cirq-core==1.4.1->cirq)\n",
            "  Downloading duet-0.2.9-py3-none-any.whl.metadata (2.3 kB)\n",
            "Requirement already satisfied: matplotlib~=3.0 in /usr/local/lib/python3.11/dist-packages (from cirq-core==1.4.1->cirq) (3.10.0)\n",
            "Requirement already satisfied: networkx>=2.4 in /usr/local/lib/python3.11/dist-packages (from cirq-core==1.4.1->cirq) (3.4.2)\n",
            "Requirement already satisfied: numpy~=1.22 in /usr/local/lib/python3.11/dist-packages (from cirq-core==1.4.1->cirq) (1.26.4)\n",
            "Requirement already satisfied: pandas in /usr/local/lib/python3.11/dist-packages (from cirq-core==1.4.1->cirq) (2.2.2)\n",
            "Collecting sortedcontainers~=2.0 (from cirq-core==1.4.1->cirq)\n",
            "  Downloading sortedcontainers-2.4.0-py2.py3-none-any.whl.metadata (10 kB)\n",
            "Requirement already satisfied: scipy~=1.0 in /usr/local/lib/python3.11/dist-packages (from cirq-core==1.4.1->cirq) (1.13.1)\n",
            "Requirement already satisfied: sympy in /usr/local/lib/python3.11/dist-packages (from cirq-core==1.4.1->cirq) (1.13.1)\n",
            "Requirement already satisfied: typing-extensions>=4.2 in /usr/local/lib/python3.11/dist-packages (from cirq-core==1.4.1->cirq) (4.12.2)\n",
            "Requirement already satisfied: tqdm in /usr/local/lib/python3.11/dist-packages (from cirq-core==1.4.1->cirq) (4.67.1)\n",
            "Requirement already satisfied: google-api-core>=1.14.0 in /usr/local/lib/python3.11/dist-packages (from google-api-core[grpc]>=1.14.0->cirq-google==1.4.1->cirq) (2.19.2)\n",
            "Requirement already satisfied: proto-plus>=1.20.0 in /usr/local/lib/python3.11/dist-packages (from cirq-google==1.4.1->cirq) (1.26.0)\n",
            "Requirement already satisfied: protobuf<5.0.0,>=3.15.0 in /usr/local/lib/python3.11/dist-packages (from cirq-google==1.4.1->cirq) (4.25.6)\n",
            "Collecting pyquil<5.0.0,>=4.11.0 (from cirq-rigetti==1.4.1->cirq)\n",
            "  Downloading pyquil-4.16.0-py3-none-any.whl.metadata (10 kB)\n",
            "Requirement already satisfied: googleapis-common-protos<2.0.dev0,>=1.56.2 in /usr/local/lib/python3.11/dist-packages (from google-api-core>=1.14.0->google-api-core[grpc]>=1.14.0->cirq-google==1.4.1->cirq) (1.66.0)\n",
            "Requirement already satisfied: google-auth<3.0.dev0,>=2.14.1 in /usr/local/lib/python3.11/dist-packages (from google-api-core>=1.14.0->google-api-core[grpc]>=1.14.0->cirq-google==1.4.1->cirq) (2.27.0)\n",
            "Requirement already satisfied: grpcio<2.0dev,>=1.33.2 in /usr/local/lib/python3.11/dist-packages (from google-api-core[grpc]>=1.14.0->cirq-google==1.4.1->cirq) (1.70.0)\n",
            "Requirement already satisfied: grpcio-status<2.0.dev0,>=1.33.2 in /usr/local/lib/python3.11/dist-packages (from google-api-core[grpc]>=1.14.0->cirq-google==1.4.1->cirq) (1.62.3)\n",
            "Requirement already satisfied: contourpy>=1.0.1 in /usr/local/lib/python3.11/dist-packages (from matplotlib~=3.0->cirq-core==1.4.1->cirq) (1.3.1)\n",
            "Requirement already satisfied: cycler>=0.10 in /usr/local/lib/python3.11/dist-packages (from matplotlib~=3.0->cirq-core==1.4.1->cirq) (0.12.1)\n",
            "Requirement already satisfied: fonttools>=4.22.0 in /usr/local/lib/python3.11/dist-packages (from matplotlib~=3.0->cirq-core==1.4.1->cirq) (4.55.7)\n",
            "Requirement already satisfied: kiwisolver>=1.3.1 in /usr/local/lib/python3.11/dist-packages (from matplotlib~=3.0->cirq-core==1.4.1->cirq) (1.4.8)\n",
            "Requirement already satisfied: packaging>=20.0 in /usr/local/lib/python3.11/dist-packages (from matplotlib~=3.0->cirq-core==1.4.1->cirq) (24.2)\n",
            "Requirement already satisfied: pillow>=8 in /usr/local/lib/python3.11/dist-packages (from matplotlib~=3.0->cirq-core==1.4.1->cirq) (11.1.0)\n",
            "Requirement already satisfied: pyparsing>=2.3.1 in /usr/local/lib/python3.11/dist-packages (from matplotlib~=3.0->cirq-core==1.4.1->cirq) (3.2.1)\n",
            "Requirement already satisfied: python-dateutil>=2.7 in /usr/local/lib/python3.11/dist-packages (from matplotlib~=3.0->cirq-core==1.4.1->cirq) (2.8.2)\n",
            "Requirement already satisfied: deprecated<2.0.0,>=1.2.14 in /usr/local/lib/python3.11/dist-packages (from pyquil<5.0.0,>=4.11.0->cirq-rigetti==1.4.1->cirq) (1.2.18)\n",
            "Requirement already satisfied: matplotlib-inline<0.2.0,>=0.1.7 in /usr/local/lib/python3.11/dist-packages (from pyquil<5.0.0,>=4.11.0->cirq-rigetti==1.4.1->cirq) (0.1.7)\n",
            "Collecting packaging>=20.0 (from matplotlib~=3.0->cirq-core==1.4.1->cirq)\n",
            "  Downloading packaging-23.2-py3-none-any.whl.metadata (3.2 kB)\n",
            "Collecting qcs-sdk-python>=0.20.1 (from pyquil<5.0.0,>=4.11.0->cirq-rigetti==1.4.1->cirq)\n",
            "  Downloading qcs_sdk_python-0.21.8-cp311-cp311-manylinux_2_28_x86_64.whl.metadata (7.0 kB)\n",
            "Collecting quil>=0.15.2 (from pyquil<5.0.0,>=4.11.0->cirq-rigetti==1.4.1->cirq)\n",
            "  Downloading quil-0.15.2-cp311-cp311-manylinux_2_17_x86_64.manylinux2014_x86_64.whl.metadata (1.8 kB)\n",
            "Collecting rpcq<4.0.0,>=3.11.0 (from pyquil<5.0.0,>=4.11.0->cirq-rigetti==1.4.1->cirq)\n",
            "  Downloading rpcq-3.11.0.tar.gz (45 kB)\n",
            "\u001b[2K     \u001b[90m━━━━━━━━━━━━━━━━━━━━━━━━━━━━━━━━━━━━━━━━\u001b[0m \u001b[32m45.6/45.6 kB\u001b[0m \u001b[31m3.0 MB/s\u001b[0m eta \u001b[36m0:00:00\u001b[0m\n",
            "\u001b[?25h  Preparing metadata (setup.py) ... \u001b[?25l\u001b[?25hdone\n",
            "Collecting types-deprecated<2.0.0.0,>=1.2.9.3 (from pyquil<5.0.0,>=4.11.0->cirq-rigetti==1.4.1->cirq)\n",
            "  Downloading types_Deprecated-1.2.15.20241117-py3-none-any.whl.metadata (1.8 kB)\n",
            "Requirement already satisfied: charset-normalizer<4,>=2 in /usr/local/lib/python3.11/dist-packages (from requests~=2.18->cirq-aqt==1.4.1->cirq) (3.4.1)\n",
            "Requirement already satisfied: idna<4,>=2.5 in /usr/local/lib/python3.11/dist-packages (from requests~=2.18->cirq-aqt==1.4.1->cirq) (3.10)\n",
            "Requirement already satisfied: urllib3<3,>=1.21.1 in /usr/local/lib/python3.11/dist-packages (from requests~=2.18->cirq-aqt==1.4.1->cirq) (2.3.0)\n",
            "Requirement already satisfied: certifi>=2017.4.17 in /usr/local/lib/python3.11/dist-packages (from requests~=2.18->cirq-aqt==1.4.1->cirq) (2024.12.14)\n",
            "Requirement already satisfied: pytz>=2020.1 in /usr/local/lib/python3.11/dist-packages (from pandas->cirq-core==1.4.1->cirq) (2024.2)\n",
            "Requirement already satisfied: tzdata>=2022.7 in /usr/local/lib/python3.11/dist-packages (from pandas->cirq-core==1.4.1->cirq) (2025.1)\n",
            "Requirement already satisfied: mpmath<1.4,>=1.1.0 in /usr/local/lib/python3.11/dist-packages (from sympy->cirq-core==1.4.1->cirq) (1.3.0)\n",
            "Requirement already satisfied: wrapt<2,>=1.10 in /usr/local/lib/python3.11/dist-packages (from deprecated<2.0.0,>=1.2.14->pyquil<5.0.0,>=4.11.0->cirq-rigetti==1.4.1->cirq) (1.17.2)\n",
            "Requirement already satisfied: cachetools<6.0,>=2.0.0 in /usr/local/lib/python3.11/dist-packages (from google-auth<3.0.dev0,>=2.14.1->google-api-core>=1.14.0->google-api-core[grpc]>=1.14.0->cirq-google==1.4.1->cirq) (5.5.1)\n",
            "Requirement already satisfied: pyasn1-modules>=0.2.1 in /usr/local/lib/python3.11/dist-packages (from google-auth<3.0.dev0,>=2.14.1->google-api-core>=1.14.0->google-api-core[grpc]>=1.14.0->cirq-google==1.4.1->cirq) (0.4.1)\n",
            "Requirement already satisfied: rsa<5,>=3.1.4 in /usr/local/lib/python3.11/dist-packages (from google-auth<3.0.dev0,>=2.14.1->google-api-core>=1.14.0->google-api-core[grpc]>=1.14.0->cirq-google==1.4.1->cirq) (4.9)\n",
            "Requirement already satisfied: traitlets in /usr/local/lib/python3.11/dist-packages (from matplotlib-inline<0.2.0,>=0.1.7->pyquil<5.0.0,>=4.11.0->cirq-rigetti==1.4.1->cirq) (5.7.1)\n",
            "Requirement already satisfied: six>=1.5 in /usr/local/lib/python3.11/dist-packages (from python-dateutil>=2.7->matplotlib~=3.0->cirq-core==1.4.1->cirq) (1.17.0)\n",
            "Collecting qcs-api-client-common>=0.10.0 (from qcs-sdk-python>=0.20.1->pyquil<5.0.0,>=4.11.0->cirq-rigetti==1.4.1->cirq)\n",
            "  Downloading qcs_api_client_common-0.11.8-cp311-cp311-manylinux_2_28_x86_64.whl.metadata (2.5 kB)\n",
            "Requirement already satisfied: msgpack<2.0,>=0.6 in /usr/local/lib/python3.11/dist-packages (from rpcq<4.0.0,>=3.11.0->pyquil<5.0.0,>=4.11.0->cirq-rigetti==1.4.1->cirq) (1.1.0)\n",
            "Collecting python-rapidjson (from rpcq<4.0.0,>=3.11.0->pyquil<5.0.0,>=4.11.0->cirq-rigetti==1.4.1->cirq)\n",
            "  Downloading python_rapidjson-1.20-cp311-cp311-manylinux_2_17_x86_64.manylinux2014_x86_64.whl.metadata (22 kB)\n",
            "Requirement already satisfied: pyzmq>=17 in /usr/local/lib/python3.11/dist-packages (from rpcq<4.0.0,>=3.11.0->pyquil<5.0.0,>=4.11.0->cirq-rigetti==1.4.1->cirq) (24.0.1)\n",
            "Collecting ruamel.yaml (from rpcq<4.0.0,>=3.11.0->pyquil<5.0.0,>=4.11.0->cirq-rigetti==1.4.1->cirq)\n",
            "  Downloading ruamel.yaml-0.18.10-py3-none-any.whl.metadata (23 kB)\n",
            "Requirement already satisfied: pyasn1<0.7.0,>=0.4.6 in /usr/local/lib/python3.11/dist-packages (from pyasn1-modules>=0.2.1->google-auth<3.0.dev0,>=2.14.1->google-api-core>=1.14.0->google-api-core[grpc]>=1.14.0->cirq-google==1.4.1->cirq) (0.6.1)\n",
            "Requirement already satisfied: grpc-interceptor>=0.15.0 in /usr/local/lib/python3.11/dist-packages (from qcs-api-client-common>=0.10.0->qcs-sdk-python>=0.20.1->pyquil<5.0.0,>=4.11.0->cirq-rigetti==1.4.1->cirq) (0.15.4)\n",
            "Requirement already satisfied: httpx>=0.27.0 in /usr/local/lib/python3.11/dist-packages (from qcs-api-client-common>=0.10.0->qcs-sdk-python>=0.20.1->pyquil<5.0.0,>=4.11.0->cirq-rigetti==1.4.1->cirq) (0.28.1)\n",
            "Collecting ruamel.yaml.clib>=0.2.7 (from ruamel.yaml->rpcq<4.0.0,>=3.11.0->pyquil<5.0.0,>=4.11.0->cirq-rigetti==1.4.1->cirq)\n",
            "  Downloading ruamel.yaml.clib-0.2.12-cp311-cp311-manylinux_2_17_x86_64.manylinux2014_x86_64.whl.metadata (2.7 kB)\n",
            "Requirement already satisfied: anyio in /usr/local/lib/python3.11/dist-packages (from httpx>=0.27.0->qcs-api-client-common>=0.10.0->qcs-sdk-python>=0.20.1->pyquil<5.0.0,>=4.11.0->cirq-rigetti==1.4.1->cirq) (3.7.1)\n",
            "Requirement already satisfied: httpcore==1.* in /usr/local/lib/python3.11/dist-packages (from httpx>=0.27.0->qcs-api-client-common>=0.10.0->qcs-sdk-python>=0.20.1->pyquil<5.0.0,>=4.11.0->cirq-rigetti==1.4.1->cirq) (1.0.7)\n",
            "Requirement already satisfied: h11<0.15,>=0.13 in /usr/local/lib/python3.11/dist-packages (from httpcore==1.*->httpx>=0.27.0->qcs-api-client-common>=0.10.0->qcs-sdk-python>=0.20.1->pyquil<5.0.0,>=4.11.0->cirq-rigetti==1.4.1->cirq) (0.14.0)\n",
            "Requirement already satisfied: sniffio>=1.1 in /usr/local/lib/python3.11/dist-packages (from anyio->httpx>=0.27.0->qcs-api-client-common>=0.10.0->qcs-sdk-python>=0.20.1->pyquil<5.0.0,>=4.11.0->cirq-rigetti==1.4.1->cirq) (1.3.1)\n",
            "Downloading cirq-1.4.1-py3-none-any.whl (8.0 kB)\n",
            "Downloading cirq_aqt-1.4.1-py3-none-any.whl (30 kB)\n",
            "Downloading cirq_core-1.4.1-py3-none-any.whl (1.9 MB)\n",
            "\u001b[2K   \u001b[90m━━━━━━━━━━━━━━━━━━━━━━━━━━━━━━━━━━━━━━━━\u001b[0m \u001b[32m1.9/1.9 MB\u001b[0m \u001b[31m42.9 MB/s\u001b[0m eta \u001b[36m0:00:00\u001b[0m\n",
            "\u001b[?25hDownloading cirq_google-1.4.1-py3-none-any.whl (532 kB)\n",
            "\u001b[2K   \u001b[90m━━━━━━━━━━━━━━━━━━━━━━━━━━━━━━━━━━━━━━━━\u001b[0m \u001b[32m532.7/532.7 kB\u001b[0m \u001b[31m20.9 MB/s\u001b[0m eta \u001b[36m0:00:00\u001b[0m\n",
            "\u001b[?25hDownloading cirq_ionq-1.4.1-py3-none-any.whl (60 kB)\n",
            "\u001b[2K   \u001b[90m━━━━━━━━━━━━━━━━━━━━━━━━━━━━━━━━━━━━━━━━\u001b[0m \u001b[32m60.5/60.5 kB\u001b[0m \u001b[31m2.7 MB/s\u001b[0m eta \u001b[36m0:00:00\u001b[0m\n",
            "\u001b[?25hDownloading cirq_pasqal-1.4.1-py3-none-any.whl (31 kB)\n",
            "Downloading cirq_rigetti-1.4.1-py3-none-any.whl (69 kB)\n",
            "\u001b[2K   \u001b[90m━━━━━━━━━━━━━━━━━━━━━━━━━━━━━━━━━━━━━━━━\u001b[0m \u001b[32m69.3/69.3 kB\u001b[0m \u001b[31m3.2 MB/s\u001b[0m eta \u001b[36m0:00:00\u001b[0m\n",
            "\u001b[?25hDownloading cirq_web-1.4.1-py3-none-any.whl (596 kB)\n",
            "\u001b[2K   \u001b[90m━━━━━━━━━━━━━━━━━━━━━━━━━━━━━━━━━━━━━━━━\u001b[0m \u001b[32m596.5/596.5 kB\u001b[0m \u001b[31m22.3 MB/s\u001b[0m eta \u001b[36m0:00:00\u001b[0m\n",
            "\u001b[?25hDownloading duet-0.2.9-py3-none-any.whl (29 kB)\n",
            "Downloading pyquil-4.16.0-py3-none-any.whl (202 kB)\n",
            "\u001b[2K   \u001b[90m━━━━━━━━━━━━━━━━━━━━━━━━━━━━━━━━━━━━━━━━\u001b[0m \u001b[32m202.9/202.9 kB\u001b[0m \u001b[31m5.9 MB/s\u001b[0m eta \u001b[36m0:00:00\u001b[0m\n",
            "\u001b[?25hDownloading sortedcontainers-2.4.0-py2.py3-none-any.whl (29 kB)\n",
            "Downloading packaging-23.2-py3-none-any.whl (53 kB)\n",
            "\u001b[2K   \u001b[90m━━━━━━━━━━━━━━━━━━━━━━━━━━━━━━━━━━━━━━━━\u001b[0m \u001b[32m53.0/53.0 kB\u001b[0m \u001b[31m1.2 MB/s\u001b[0m eta \u001b[36m0:00:00\u001b[0m\n",
            "\u001b[?25hDownloading qcs_sdk_python-0.21.8-cp311-cp311-manylinux_2_28_x86_64.whl (6.5 MB)\n",
            "\u001b[2K   \u001b[90m━━━━━━━━━━━━━━━━━━━━━━━━━━━━━━━━━━━━━━━━\u001b[0m \u001b[32m6.5/6.5 MB\u001b[0m \u001b[31m32.5 MB/s\u001b[0m eta \u001b[36m0:00:00\u001b[0m\n",
            "\u001b[?25hDownloading quil-0.15.2-cp311-cp311-manylinux_2_17_x86_64.manylinux2014_x86_64.whl (2.2 MB)\n",
            "\u001b[2K   \u001b[90m━━━━━━━━━━━━━━━━━━━━━━━━━━━━━━━━━━━━━━━━\u001b[0m \u001b[32m2.2/2.2 MB\u001b[0m \u001b[31m39.5 MB/s\u001b[0m eta \u001b[36m0:00:00\u001b[0m\n",
            "\u001b[?25hDownloading types_Deprecated-1.2.15.20241117-py3-none-any.whl (3.8 kB)\n",
            "Downloading qcs_api_client_common-0.11.8-cp311-cp311-manylinux_2_28_x86_64.whl (2.7 MB)\n",
            "\u001b[2K   \u001b[90m━━━━━━━━━━━━━━━━━━━━━━━━━━━━━━━━━━━━━━━━\u001b[0m \u001b[32m2.7/2.7 MB\u001b[0m \u001b[31m43.1 MB/s\u001b[0m eta \u001b[36m0:00:00\u001b[0m\n",
            "\u001b[?25hDownloading python_rapidjson-1.20-cp311-cp311-manylinux_2_17_x86_64.manylinux2014_x86_64.whl (1.7 MB)\n",
            "\u001b[2K   \u001b[90m━━━━━━━━━━━━━━━━━━━━━━━━━━━━━━━━━━━━━━━━\u001b[0m \u001b[32m1.7/1.7 MB\u001b[0m \u001b[31m43.2 MB/s\u001b[0m eta \u001b[36m0:00:00\u001b[0m\n",
            "\u001b[?25hDownloading ruamel.yaml-0.18.10-py3-none-any.whl (117 kB)\n",
            "\u001b[2K   \u001b[90m━━━━━━━━━━━━━━━━━━━━━━━━━━━━━━━━━━━━━━━━\u001b[0m \u001b[32m117.7/117.7 kB\u001b[0m \u001b[31m7.4 MB/s\u001b[0m eta \u001b[36m0:00:00\u001b[0m\n",
            "\u001b[?25hDownloading ruamel.yaml.clib-0.2.12-cp311-cp311-manylinux_2_17_x86_64.manylinux2014_x86_64.whl (739 kB)\n",
            "\u001b[2K   \u001b[90m━━━━━━━━━━━━━━━━━━━━━━━━━━━━━━━━━━━━━━━━\u001b[0m \u001b[32m739.1/739.1 kB\u001b[0m \u001b[31m24.0 MB/s\u001b[0m eta \u001b[36m0:00:00\u001b[0m\n",
            "\u001b[?25hBuilding wheels for collected packages: rpcq\n",
            "  Building wheel for rpcq (setup.py) ... \u001b[?25l\u001b[?25hdone\n",
            "  Created wheel for rpcq: filename=rpcq-3.11.0-py3-none-any.whl size=45967 sha256=bbd12a8f32837678d881be68873f9213fe72be32c64769fdc1d8ad8e84bc9ae7\n",
            "  Stored in directory: /root/.cache/pip/wheels/b3/b6/ad/8f05ac735661e828024c764a6e6fc3eb6f84434e408aad5eab\n",
            "Successfully built rpcq\n",
            "Installing collected packages: sortedcontainers, types-deprecated, ruamel.yaml.clib, quil, python-rapidjson, packaging, duet, ruamel.yaml, rpcq, qcs-api-client-common, cirq-core, qcs-sdk-python, cirq-web, cirq-pasqal, cirq-ionq, cirq-aqt, pyquil, cirq-google, cirq-rigetti, cirq\n",
            "  Attempting uninstall: packaging\n",
            "    Found existing installation: packaging 24.2\n",
            "    Uninstalling packaging-24.2:\n",
            "      Successfully uninstalled packaging-24.2\n",
            "Successfully installed cirq-1.4.1 cirq-aqt-1.4.1 cirq-core-1.4.1 cirq-google-1.4.1 cirq-ionq-1.4.1 cirq-pasqal-1.4.1 cirq-rigetti-1.4.1 cirq-web-1.4.1 duet-0.2.9 packaging-23.2 pyquil-4.16.0 python-rapidjson-1.20 qcs-api-client-common-0.11.8 qcs-sdk-python-0.21.8 quil-0.15.2 rpcq-3.11.0 ruamel.yaml-0.18.10 ruamel.yaml.clib-0.2.12 sortedcontainers-2.4.0 types-deprecated-1.2.15.20241117\n",
            "Collecting qudit\n",
            "  Downloading qudit-0.0.2-py3-none-any.whl.metadata (1.5 kB)\n",
            "Requirement already satisfied: numpy in /usr/local/lib/python3.11/dist-packages (from qudit) (1.26.4)\n",
            "Requirement already satisfied: scipy in /usr/local/lib/python3.11/dist-packages (from qudit) (1.13.1)\n",
            "Downloading qudit-0.0.2-py3-none-any.whl (6.2 kB)\n",
            "Installing collected packages: qudit\n",
            "Successfully installed qudit-0.0.2\n"
          ]
        }
      ]
    },
    {
      "cell_type": "code",
      "execution_count": 2,
      "metadata": {
        "id": "wwTwAoNhzOnd"
      },
      "outputs": [],
      "source": [
        "import cirq\n",
        "import qudit\n",
        "import numpy as np"
      ]
    },
    {
      "cell_type": "code",
      "source": [
        "import matplotlib.pyplot as plt\n",
        "from IPython.display import display, Math, Latex\n",
        "import numpy as np"
      ],
      "metadata": {
        "id": "a8XRpOt-6KoO"
      },
      "execution_count": 3,
      "outputs": []
    },
    {
      "cell_type": "code",
      "source": [
        "def print_matrix(matrix):\n",
        "    \"\"\"Prints a matrix using LaTeX formatting.\"\"\"\n",
        "\n",
        "    latex_code = \"\\\\begin{bmatrix}\\n\"\n",
        "    for row in matrix:\n",
        "        latex_code += \" & \".join(map(str, row)) + \" \\\\\\\\\\n\"  # Format each row\n",
        "    latex_code += \"\\\\end{bmatrix}\"\n",
        "\n",
        "    display(Math(latex_code))  # Display using IPython's Math function\n",
        "\n",
        "def pmns_matrix(theta12, theta23, theta13, delta):\n",
        "    \"\"\"Genera la matriz PMNS con los parámetros dados.\"\"\"\n",
        "    c12, s12 = np.cos(theta12), np.sin(theta12)\n",
        "    c23, s23 = np.cos(theta23), np.sin(theta23)\n",
        "    c13, s13 = np.cos(theta13), np.sin(theta13)\n",
        "\n",
        "    e_minus_idelta = np.exp(-1j * delta)\n",
        "    e_plus_idelta = np.exp(1j * delta)\n",
        "\n",
        "    return np.array([\n",
        "        [c12 * c13, s12 * c13, s13 * e_minus_idelta],\n",
        "        [-s12 * c23 - c12 * s23 * s13 * e_plus_idelta,\n",
        "         c12 * c23 - s12 * s23 * s13 * e_plus_idelta,\n",
        "         s23 * c13],\n",
        "        [s12 * s23 - c12 * c23 * s13 * e_plus_idelta,\n",
        "         -c12 * s23 - s12 * c23 * s13 * e_plus_idelta,\n",
        "         c23 * c13]\n",
        "    ])\n",
        "\n",
        "# Parámetros de ejemplo\n",
        "theta12 = np.pi / 4\n",
        "theta23 = np.pi / 6\n",
        "theta13 = np.pi / 8\n",
        "delta = np.pi / 2\n",
        "\n",
        "# Crear matriz PMNS\n",
        "U_pmns = pmns_matrix(theta12, theta23, theta13, delta)\n",
        "\n",
        "print(\"Matriz PMNS:\")\n",
        "print_matrix(U_pmns)\n",
        "\n",
        "U_pmns[0, 0]"
      ],
      "metadata": {
        "colab": {
          "base_uri": "https://localhost:8080/",
          "height": 114
        },
        "id": "fZ921eiY6NBS",
        "outputId": "09dafc23-bf6f-436b-9285-1ed01b6b0e02"
      },
      "execution_count": 4,
      "outputs": [
        {
          "output_type": "stream",
          "name": "stdout",
          "text": [
            "Matriz PMNS:\n"
          ]
        },
        {
          "output_type": "display_data",
          "data": {
            "text/plain": [
              "<IPython.core.display.Math object>"
            ],
            "text/latex": "$\\displaystyle \\begin{bmatrix}\n(0.6532814824381883+0j) & (0.6532814824381882+0j) & (2.3432602026631493e-17-0.3826834323650898j) \\\\\n(-0.6123724356957945-0.13529902503654923j) & (0.6123724356957946-0.13529902503654923j) & (0.4619397662556433+0j) \\\\\n(0.3535533905932737-0.2343447855778369j) & (-0.35355339059327373-0.23434478557783686j) & (0.8001031451912656+0j) \\\\\n\\end{bmatrix}$"
          },
          "metadata": {}
        },
        {
          "output_type": "execute_result",
          "data": {
            "text/plain": [
              "(0.6532814824381883+0j)"
            ]
          },
          "metadata": {},
          "execution_count": 4
        }
      ]
    },
    {
      "cell_type": "code",
      "source": [
        "def gell_mann_matrices():\n",
        "    gm1 = np.array([[0, 1, 0], [1, 0, 0], [0, 0, 0]], dtype=complex)\n",
        "    gm2 = np.array([[0, -1j, 0], [1j, 0, 0], [0, 0, 0]], dtype=complex)\n",
        "    gm3 = np.array([[1, 0, 0], [0, -1, 0], [0, 0, 0]], dtype=complex)\n",
        "    gm4 = np.array([[0, 0, 1], [0, 0, 0], [1, 0, 0]], dtype=complex)\n",
        "    gm5 = np.array([[0, 0, -1j], [0, 0, 0], [1j, 0, 0]], dtype=complex)\n",
        "    gm6 = np.array([[0, 0, 0], [0, 0, 1], [0, 1, 0]], dtype=complex)\n",
        "    gm7 = np.array([[0, 0, 0], [0, 0, -1j], [0, 1j, 0]], dtype=complex)\n",
        "    gm8 = np.array([[1 / np.sqrt(3), 0, 0], [0, 1 / np.sqrt(3), 0], [0, 0, -2 / np.sqrt(3)]], dtype=complex)\n",
        "\n",
        "    return [gm1, gm2, gm3, gm4, gm5, gm6, gm7, gm8]"
      ],
      "metadata": {
        "id": "xE1ctru36RIV"
      },
      "execution_count": 5,
      "outputs": []
    },
    {
      "cell_type": "code",
      "source": [
        "#Define iniciala state\n",
        "def neutrino_state(theta, phi, eta, xi1, xi2):\n",
        "    alpha = np.sin(theta) * np.cos(phi) * np.exp(1j * xi1)\n",
        "    beta = np.sin(theta)* np.sin(phi) * np.exp(1j * xi2)\n",
        "    gamma = np.cos(theta)\n",
        "    return np.array([alpha, beta, gamma])"
      ],
      "metadata": {
        "id": "yhV6SZkH6UX0"
      },
      "execution_count": 6,
      "outputs": []
    },
    {
      "cell_type": "code",
      "source": [
        "def evolve_state(state, delta_m2_ij, L, E):\n",
        "    if len(delta_m2_ij) != len(state) - 1:\n",
        "        raise ValueError(\"El tamaño de delta_m2_ij debe ser igual al número de diferencias de masas del estado (3 componentes => 2 diferencias de masa).\")\n",
        "\n",
        "    # Crear un array de fases con longitud igual al estado\n",
        "    phases = np.ones(len(state), dtype=complex)\n",
        "    for i in range(len(delta_m2_ij)):\n",
        "        phases[i] = np.exp(-1j * delta_m2_ij[i] * L / (2 * E))\n",
        "\n",
        "    # Aplicar las fases al estado\n",
        "    evolved_state = state * phases\n",
        "    # Normalizar el estado\n",
        "    norm = np.linalg.norm(evolved_state)\n",
        "    if not np.isclose(norm, 1):\n",
        "        evolved_state /= norm\n",
        "\n",
        "    return evolved_state\n"
      ],
      "metadata": {
        "id": "vJB1d3sR6W52"
      },
      "execution_count": 7,
      "outputs": []
    },
    {
      "cell_type": "code",
      "source": [
        "from qudit.qudit import quditHGate, quditCNOTGate\n",
        "\n",
        "def neutrinos_circuit(state1, state2, dim, wires , device):\n",
        "\n",
        "    # Create qudits\n",
        "    qudit1 = cirq.LineQid(0, dimension=3)\n",
        "    qudit2 = cirq.LineQid(1, dimension=3)\n",
        "    # Build a circuit\n",
        "    circuit = cirq.Circuit()\n",
        "    circuit.append(quditHGate(d=3).on(qudit1))\n",
        "    circuit.append(quditHGate(d=3).on(qudit2))\n",
        "    circuit.append(quditCNOTGate(d=3).on(qudit1, qudit2))\n",
        "\n",
        "    return circuit\n"
      ],
      "metadata": {
        "colab": {
          "base_uri": "https://localhost:8080/",
          "height": 394
        },
        "id": "xDbgoG9w6ZY2",
        "outputId": "53fd136c-01b1-4bd1-c32d-711fb5f5e23d"
      },
      "execution_count": 10,
      "outputs": [
        {
          "output_type": "error",
          "ename": "ModuleNotFoundError",
          "evalue": "No module named 'qudit.qudit'",
          "traceback": [
            "\u001b[0;31m---------------------------------------------------------------------------\u001b[0m",
            "\u001b[0;31mModuleNotFoundError\u001b[0m                       Traceback (most recent call last)",
            "\u001b[0;32m<ipython-input-10-d7a73300cbd7>\u001b[0m in \u001b[0;36m<cell line: 0>\u001b[0;34m()\u001b[0m\n\u001b[0;32m----> 1\u001b[0;31m \u001b[0;32mfrom\u001b[0m \u001b[0mqudit\u001b[0m\u001b[0;34m.\u001b[0m\u001b[0mqudit\u001b[0m \u001b[0;32mimport\u001b[0m \u001b[0mquditHGate\u001b[0m\u001b[0;34m,\u001b[0m \u001b[0mquditCNOTGate\u001b[0m\u001b[0;34m\u001b[0m\u001b[0;34m\u001b[0m\u001b[0m\n\u001b[0m\u001b[1;32m      2\u001b[0m \u001b[0;34m\u001b[0m\u001b[0m\n\u001b[1;32m      3\u001b[0m \u001b[0;32mdef\u001b[0m \u001b[0mneutrinos_circuit\u001b[0m\u001b[0;34m(\u001b[0m\u001b[0mstate1\u001b[0m\u001b[0;34m,\u001b[0m \u001b[0mstate2\u001b[0m\u001b[0;34m,\u001b[0m \u001b[0mdim\u001b[0m\u001b[0;34m,\u001b[0m \u001b[0mwires\u001b[0m \u001b[0;34m,\u001b[0m \u001b[0mdevice\u001b[0m\u001b[0;34m)\u001b[0m\u001b[0;34m:\u001b[0m\u001b[0;34m\u001b[0m\u001b[0;34m\u001b[0m\u001b[0m\n\u001b[1;32m      4\u001b[0m \u001b[0;34m\u001b[0m\u001b[0m\n\u001b[1;32m      5\u001b[0m     \u001b[0;31m# Create qudits\u001b[0m\u001b[0;34m\u001b[0m\u001b[0;34m\u001b[0m\u001b[0m\n",
            "\u001b[0;31mModuleNotFoundError\u001b[0m: No module named 'qudit.qudit'",
            "",
            "\u001b[0;31m---------------------------------------------------------------------------\u001b[0;32m\nNOTE: If your import is failing due to a missing package, you can\nmanually install dependencies using either !pip or !apt.\n\nTo view examples of installing some common dependencies, click the\n\"Open Examples\" button below.\n\u001b[0;31m---------------------------------------------------------------------------\u001b[0m\n"
          ],
          "errorDetails": {
            "actions": [
              {
                "action": "open_url",
                "actionText": "Open Examples",
                "url": "/notebooks/snippets/importing_libraries.ipynb"
              }
            ]
          }
        }
      ]
    }
  ]
}