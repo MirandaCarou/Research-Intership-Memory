{
 "cells": [
  {
   "cell_type": "code",
   "execution_count": 1,
   "id": "5ebca32c-9eb3-4797-9e44-0eed8ee538ce",
   "metadata": {},
   "outputs": [
    {
     "name": "stdout",
     "output_type": "stream",
     "text": [
      "Collecting uproot\n",
      "  Downloading uproot-5.6.2-py3-none-any.whl.metadata (33 kB)\n",
      "Collecting awkward>=2.4.6 (from uproot)\n",
      "  Downloading awkward-2.8.4-py3-none-any.whl.metadata (7.0 kB)\n",
      "Collecting cramjam>=2.5.0 (from uproot)\n",
      "  Using cached cramjam-2.10.0-cp312-cp312-win_amd64.whl.metadata (5.1 kB)\n",
      "Requirement already satisfied: fsspec in c:\\programdata\\anaconda3\\lib\\site-packages (from uproot) (2024.3.1)\n",
      "Requirement already satisfied: numpy in c:\\programdata\\anaconda3\\lib\\site-packages (from uproot) (1.26.4)\n",
      "Requirement already satisfied: packaging in c:\\programdata\\anaconda3\\lib\\site-packages (from uproot) (23.2)\n",
      "Collecting xxhash (from uproot)\n",
      "  Using cached xxhash-3.5.0-cp312-cp312-win_amd64.whl.metadata (13 kB)\n",
      "Collecting awkward-cpp==46 (from awkward>=2.4.6->uproot)\n",
      "  Downloading awkward_cpp-46-cp312-cp312-win_amd64.whl.metadata (2.1 kB)\n",
      "Downloading uproot-5.6.2-py3-none-any.whl (375 kB)\n",
      "   ---------------------------------------- 0.0/375.7 kB ? eta -:--:--\n",
      "   ----------- ---------------------------- 112.6/375.7 kB 3.3 MB/s eta 0:00:01\n",
      "   ---------------------------------------- 375.7/375.7 kB 4.7 MB/s eta 0:00:00\n",
      "Downloading awkward-2.8.4-py3-none-any.whl (886 kB)\n",
      "   ---------------------------------------- 0.0/886.3 kB ? eta -:--:--\n",
      "   --------------------------------------- 886.3/886.3 kB 27.4 MB/s eta 0:00:00\n",
      "Downloading awkward_cpp-46-cp312-cp312-win_amd64.whl (536 kB)\n",
      "   ---------------------------------------- 0.0/536.5 kB ? eta -:--:--\n",
      "   --------------------------------------- 536.5/536.5 kB 35.1 MB/s eta 0:00:00\n",
      "Using cached cramjam-2.10.0-cp312-cp312-win_amd64.whl (1.7 MB)\n",
      "Using cached xxhash-3.5.0-cp312-cp312-win_amd64.whl (30 kB)\n",
      "Installing collected packages: xxhash, cramjam, awkward-cpp, awkward, uproot\n",
      "Successfully installed awkward-2.8.4 awkward-cpp-46 cramjam-2.10.0 uproot-5.6.2 xxhash-3.5.0\n"
     ]
    },
    {
     "name": "stderr",
     "output_type": "stream",
     "text": [
      "DEPRECATION: Loading egg at c:\\programdata\\anaconda3\\lib\\site-packages\\vboxapi-1.0-py3.12.egg is deprecated. pip 24.3 will enforce this behaviour change. A possible replacement is to use pip for package installation.. Discussion can be found at https://github.com/pypa/pip/issues/12330\n"
     ]
    },
    {
     "name": "stdout",
     "output_type": "stream",
     "text": [
      "Requirement already satisfied: awkward in c:\\programdata\\anaconda3\\lib\\site-packages (2.8.4)\n",
      "Requirement already satisfied: awkward-cpp==46 in c:\\programdata\\anaconda3\\lib\\site-packages (from awkward) (46)\n",
      "Requirement already satisfied: fsspec>=2022.11.0 in c:\\programdata\\anaconda3\\lib\\site-packages (from awkward) (2024.3.1)\n",
      "Requirement already satisfied: numpy>=1.18.0 in c:\\programdata\\anaconda3\\lib\\site-packages (from awkward) (1.26.4)\n",
      "Requirement already satisfied: packaging in c:\\programdata\\anaconda3\\lib\\site-packages (from awkward) (23.2)\n"
     ]
    },
    {
     "name": "stderr",
     "output_type": "stream",
     "text": [
      "DEPRECATION: Loading egg at c:\\programdata\\anaconda3\\lib\\site-packages\\vboxapi-1.0-py3.12.egg is deprecated. pip 24.3 will enforce this behaviour change. A possible replacement is to use pip for package installation.. Discussion can be found at https://github.com/pypa/pip/issues/12330\n"
     ]
    },
    {
     "name": "stdout",
     "output_type": "stream",
     "text": [
      "Collecting vector\n",
      "  Using cached vector-1.6.2-py3-none-any.whl.metadata (15 kB)\n",
      "Requirement already satisfied: numpy>=1.13.3 in c:\\programdata\\anaconda3\\lib\\site-packages (from vector) (1.26.4)\n",
      "Requirement already satisfied: packaging>=19 in c:\\programdata\\anaconda3\\lib\\site-packages (from vector) (23.2)\n",
      "Using cached vector-1.6.2-py3-none-any.whl (177 kB)\n",
      "Installing collected packages: vector\n",
      "Successfully installed vector-1.6.2\n"
     ]
    },
    {
     "name": "stderr",
     "output_type": "stream",
     "text": [
      "DEPRECATION: Loading egg at c:\\programdata\\anaconda3\\lib\\site-packages\\vboxapi-1.0-py3.12.egg is deprecated. pip 24.3 will enforce this behaviour change. A possible replacement is to use pip for package installation.. Discussion can be found at https://github.com/pypa/pip/issues/12330\n"
     ]
    },
    {
     "name": "stdout",
     "output_type": "stream",
     "text": [
      "Requirement already satisfied: tqdm in c:\\programdata\\anaconda3\\lib\\site-packages (4.66.4)\n",
      "Requirement already satisfied: colorama in c:\\programdata\\anaconda3\\lib\\site-packages (from tqdm) (0.4.6)\n"
     ]
    },
    {
     "name": "stderr",
     "output_type": "stream",
     "text": [
      "DEPRECATION: Loading egg at c:\\programdata\\anaconda3\\lib\\site-packages\\vboxapi-1.0-py3.12.egg is deprecated. pip 24.3 will enforce this behaviour change. A possible replacement is to use pip for package installation.. Discussion can be found at https://github.com/pypa/pip/issues/12330\n"
     ]
    }
   ],
   "source": [
    "!pip install uproot\n",
    "!pip install awkward\n",
    "!pip install vector\n",
    "!pip install tqdm"
   ]
  },
  {
   "cell_type": "markdown",
   "id": "5317508e-9001-417e-8b15-d1c2e236e255",
   "metadata": {},
   "source": [
    "16 --> exotic signal\n",
    "43 --> nominal higgs signal"
   ]
  },
  {
   "cell_type": "code",
   "execution_count": 2,
   "id": "be26265c-5363-47a0-bf69-81308eb86fc1",
   "metadata": {},
   "outputs": [],
   "source": [
    "# Import basic libraries\n",
    "import copy # copy variables\n",
    "import os   # manage paths\n",
    "\n",
    "import uproot   # use of root files\n",
    "import awkward as ak    # nested, variable sized data\n",
    "import vector   # lorentz vectors\n",
    "vector.register_awkward()\n",
    "import matplotlib.pyplot as plt # plotting\n",
    "import tqdm # progress bars"
   ]
  },
  {
   "cell_type": "code",
   "execution_count": 6,
   "id": "05d164f2-7a80-4e1b-a10b-b7f4dae0b91b",
   "metadata": {},
   "outputs": [],
   "source": [
    "filename1 = \"WToQQ_120.root\"\n",
    "filename2 = \"TTBar_120.root\""
   ]
  },
  {
   "cell_type": "code",
   "execution_count": 7,
   "id": "42247a08-d06d-414b-9b5b-9986d1a9e5ee",
   "metadata": {},
   "outputs": [
    {
     "name": "stdout",
     "output_type": "stream",
     "text": [
      "TTree objects inside the ROOT file:\n",
      "- tree;1\n",
      "- tree;1\n"
     ]
    }
   ],
   "source": [
    "\n",
    "print('TTree objects inside the ROOT file:')\n",
    "for ii in uproot.open(filename1).keys():\n",
    "    print('-',ii)\n",
    "\n",
    "for ii in uproot.open(filename2).keys():\n",
    "    print('-',ii)\n",
    "\n"
   ]
  },
  {
   "cell_type": "code",
   "execution_count": 15,
   "id": "e320a6f7-2ab5-4b7c-b546-7e883a8a4af3",
   "metadata": {},
   "outputs": [],
   "source": [
    "tree = uproot.open({filename: \"tree;1\"})"
   ]
  },
  {
   "cell_type": "code",
   "execution_count": 16,
   "id": "39d860e9-87f5-4500-b628-a516ed304e1b",
   "metadata": {},
   "outputs": [
    {
     "name": "stdout",
     "output_type": "stream",
     "text": [
      "name                                               | typename                                           | interpretation                                    \n",
      "---------------------------------------------------+----------------------------------------------------+---------------------------------------------------\n",
      "part_px                                            | std::vector<float>                                 | AsJagged(AsDtype('>f4'), header_bytes=10)\n",
      "part_py                                            | std::vector<float>                                 | AsJagged(AsDtype('>f4'), header_bytes=10)\n",
      "part_pz                                            | std::vector<float>                                 | AsJagged(AsDtype('>f4'), header_bytes=10)\n",
      "part_energy                                        | std::vector<float>                                 | AsJagged(AsDtype('>f4'), header_bytes=10)\n",
      "part_deta                                          | std::vector<float>                                 | AsJagged(AsDtype('>f4'), header_bytes=10)\n",
      "part_dphi                                          | std::vector<float>                                 | AsJagged(AsDtype('>f4'), header_bytes=10)\n",
      "part_d0val                                         | std::vector<float>                                 | AsJagged(AsDtype('>f4'), header_bytes=10)\n",
      "part_d0err                                         | std::vector<float>                                 | AsJagged(AsDtype('>f4'), header_bytes=10)\n",
      "part_dzval                                         | std::vector<float>                                 | AsJagged(AsDtype('>f4'), header_bytes=10)\n",
      "part_dzerr                                         | std::vector<float>                                 | AsJagged(AsDtype('>f4'), header_bytes=10)\n",
      "part_charge                                        | std::vector<float>                                 | AsJagged(AsDtype('>f4'), header_bytes=10)\n",
      "part_isChargedHadron                               | std::vector<int32_t>                               | AsJagged(AsDtype('>i4'), header_bytes=10)\n",
      "part_isNeutralHadron                               | std::vector<int32_t>                               | AsJagged(AsDtype('>i4'), header_bytes=10)\n",
      "part_isPhoton                                      | std::vector<int32_t>                               | AsJagged(AsDtype('>i4'), header_bytes=10)\n",
      "part_isElectron                                    | std::vector<int32_t>                               | AsJagged(AsDtype('>i4'), header_bytes=10)\n",
      "part_isMuon                                        | std::vector<int32_t>                               | AsJagged(AsDtype('>i4'), header_bytes=10)\n",
      "label_QCD                                          | float                                              | AsDtype('>f4')\n",
      "label_Hbb                                          | bool                                               | AsDtype('bool')\n",
      "label_Hcc                                          | bool                                               | AsDtype('bool')\n",
      "label_Hgg                                          | bool                                               | AsDtype('bool')\n",
      "label_H4q                                          | bool                                               | AsDtype('bool')\n",
      "label_Hqql                                         | bool                                               | AsDtype('bool')\n",
      "label_Zqq                                          | int32_t                                            | AsDtype('>i4')\n",
      "label_Wqq                                          | int32_t                                            | AsDtype('>i4')\n",
      "label_Tbqq                                         | int32_t                                            | AsDtype('>i4')\n",
      "label_Tbl                                          | int32_t                                            | AsDtype('>i4')\n",
      "jet_pt                                             | float                                              | AsDtype('>f4')\n",
      "jet_eta                                            | float                                              | AsDtype('>f4')\n",
      "jet_phi                                            | float                                              | AsDtype('>f4')\n",
      "jet_energy                                         | float                                              | AsDtype('>f4')\n",
      "jet_nparticles                                     | float                                              | AsDtype('>f4')\n",
      "jet_sdmass                                         | float                                              | AsDtype('>f4')\n",
      "jet_tau1                                           | float                                              | AsDtype('>f4')\n",
      "jet_tau2                                           | float                                              | AsDtype('>f4')\n",
      "jet_tau3                                           | float                                              | AsDtype('>f4')\n",
      "jet_tau4                                           | float                                              | AsDtype('>f4')\n",
      "aux_genpart_eta                                    | float                                              | AsDtype('>f4')\n",
      "aux_genpart_phi                                    | float                                              | AsDtype('>f4')\n",
      "aux_genpart_pid                                    | float                                              | AsDtype('>f4')\n",
      "aux_genpart_pt                                     | float                                              | AsDtype('>f4')\n",
      "aux_truth_match                                    | float                                              | AsDtype('>f4')\n"
     ]
    }
   ],
   "source": [
    "# Display only the first 10 branches\n",
    "first_10_branches = list(tree.keys())[:100]\n",
    "tree.show(filter_name=first_10_branches, name_width=50, typename_width=50, interpretation_width=50)"
   ]
  },
  {
   "cell_type": "code",
   "execution_count": 1,
   "id": "a225ee10-deec-4e71-bc76-0a65611ebd55",
   "metadata": {},
   "outputs": [
    {
     "name": "stdout",
     "output_type": "stream",
     "text": [
      "✅ Archivo convertido exitosamente a 'WToQQ_120.json'\n",
      "✅ Archivo convertido exitosamente a 'TTBar_120.json'\n",
      "✅ Archivo convertido exitosamente a 'ZJetsToNuNu_000.json'\n"
     ]
    }
   ],
   "source": [
    "import uproot\n",
    "import json\n",
    "import numpy as np\n",
    "\n",
    "def convert_root_to_json(root_file_path, json_file_path, max_events=2000):\n",
    "    with uproot.open(root_file_path) as file:\n",
    "        tree = file[\"tree\"]  # Usamos \"tree\" según tu descripción\n",
    "        branches = tree.keys()\n",
    "        arrays = tree.arrays(branches, entry_stop=max_events)\n",
    "\n",
    "        data = []\n",
    "        num_events = len(arrays[\"jet_pt\"])  # Usamos una rama escalar para contar eventos\n",
    "\n",
    "        for i in range(num_events):\n",
    "            event = {}\n",
    "            for branch in branches:\n",
    "                value = arrays[branch][i]\n",
    "                # Convertimos listas de partículas o valores escalares\n",
    "                if isinstance(value, np.ndarray):\n",
    "                    event[branch] = value.tolist()\n",
    "                elif hasattr(value, \"tolist\"):  # tipos NumPy escalares\n",
    "                    event[branch] = value.tolist()\n",
    "                else:\n",
    "                    event[branch] = value\n",
    "            data.append(event)\n",
    "\n",
    "        with open(json_file_path, \"w\") as f:\n",
    "            json.dump(data, f, indent=4)\n",
    "\n",
    "        print(f\"✅ Archivo convertido exitosamente a '{json_file_path}'\")\n",
    "\n",
    "# Uso del script\n",
    "if __name__ == \"__main__\":\n",
    "    convert_root_to_json(\"WToQQ_120.root\", \"WToQQ_120.json\", max_events=10000)\n",
    "    convert_root_to_json(\"TTBar_120.root\", \"TTBar_120.json\", max_events=10000)\n",
    "    convert_root_to_json(\"ZJetsToNuNu_000.root\", \"ZJetsToNuNu_000.json\", max_events=10000)"
   ]
  },
  {
   "cell_type": "code",
   "execution_count": 20,
   "id": "3f5e5314-282e-46dd-a940-2259ad561e3f",
   "metadata": {},
   "outputs": [],
   "source": [
    "jets = ak.zip(\n",
    "     {\n",
    "        \"pt\": tree[\"AnalysisJetsAuxDyn.pt\"].array(),\n",
    "        \"eta\": tree[\"AnalysisJetsAuxDyn.eta\"].array(),\n",
    "        \"phi\": tree[\"AnalysisJetsAuxDyn.phi\"].array(),\n",
    "    }\n",
    ")"
   ]
  },
  {
   "cell_type": "code",
   "execution_count": 21,
   "id": "f5d28a46-1f54-49ec-9a9a-15070d949ca3",
   "metadata": {},
   "outputs": [
    {
     "data": {
      "text/html": [
       "<pre>[[{pt: 8.86e+04, eta: 2.57, phi: 1.72}, ..., {pt: 2.15e+04, eta: 2.44, ...}],\n",
       " [{pt: 7.47e+04, eta: -0.602, phi: 0.557}, ..., {pt: 1.24e+04, eta: ..., ...}],\n",
       " [{pt: 6.23e+04, eta: -1.46, phi: -0.211}, ..., {pt: 1.58e+04, eta: 3.11, ...}],\n",
       " [{pt: 1.73e+05, eta: 1, phi: 2.68}, ..., {pt: 1.85e+04, eta: 0.294, ...}],\n",
       " [{pt: 1.83e+05, eta: 0.592, phi: 1.5}, ..., {pt: 1.09e+04, eta: 0.937, ...}],\n",
       " [{pt: 2.34e+05, eta: 0.455, phi: -2.85}, ..., {pt: 1.04e+04, eta: -1.13, ...}],\n",
       " [{pt: 2.01e+05, eta: 0.423, phi: 0.699}, ..., {pt: 3.82e+04, eta: 0.541, ...}],\n",
       " [{pt: 6e+04, eta: -1.89, phi: 2.5}, {...}, ..., {pt: 1.4e+04, eta: -2.9, ...}],\n",
       " [{pt: 1.25e+05, eta: -0.745, phi: 1.14}, ..., {pt: 1.09e+04, eta: ..., ...}],\n",
       " [{pt: 1.77e+05, eta: -1.4, phi: 0.667}, ..., {pt: 1.05e+04, eta: 0.554, ...}],\n",
       " ...,\n",
       " [{pt: 1.32e+05, eta: -2.09, phi: 1.02}, ..., {pt: 1.1e+04, eta: 0.596, ...}],\n",
       " [{pt: 7.47e+04, eta: -2.58, phi: 2.72}, ..., {pt: 9.68e+03, eta: ..., ...}],\n",
       " [{pt: 1.39e+05, eta: 0.815, phi: -0.732}, ..., {pt: 1.95e+04, eta: ..., ...}],\n",
       " [{pt: 3.2e+04, eta: -2.31, phi: 2.83}, ..., {pt: 8.95e+03, eta: 1.52, ...}],\n",
       " [{pt: 1.07e+05, eta: 2.99, phi: -2.06}, ..., {pt: 1.65e+04, eta: 2.17, ...}],\n",
       " [{pt: 1.75e+05, eta: 2.1, phi: 0.623}, ..., {pt: 1.57e+04, eta: 2.13, ...}],\n",
       " [{pt: 2.25e+05, eta: 0.496, phi: 2.8}, ..., {pt: 1.2e+04, eta: 1.82, ...}],\n",
       " [{pt: 3.7e+04, eta: 0.986, phi: -1.1}, ..., {pt: 1.34e+04, eta: -4.27, ...}],\n",
       " [{pt: 2.29e+05, eta: -0.511, phi: -0.38}, ..., {pt: 1.36e+04, eta: ..., ...}]]\n",
       "--------------------------------------------------------------------------------\n",
       "backend: cpu\n",
       "nbytes: 8.9 MB\n",
       "type: 120000 * var * {\n",
       "    pt: float32,\n",
       "    eta: float32,\n",
       "    phi: float32\n",
       "}</pre>"
      ],
      "text/plain": [
       "<Array [[{pt: 8.86e+04, ...}, ..., {...}], ...] type='120000 * var * {pt: f...'>"
      ]
     },
     "execution_count": 21,
     "metadata": {},
     "output_type": "execute_result"
    }
   ],
   "source": [
    "jets"
   ]
  },
  {
   "cell_type": "code",
   "execution_count": 12,
   "id": "5acbdcfa-a7d9-400c-85c4-a0e465daddef",
   "metadata": {},
   "outputs": [],
   "source": [
    "jets_as_list = ak.to_list(jets) "
   ]
  },
  {
   "cell_type": "markdown",
   "id": "659c4bca-1e18-476c-abd1-a8577b5a2db6",
   "metadata": {},
   "source": [
    "https://opendata.cern.ch/record/80012"
   ]
  },
  {
   "cell_type": "code",
   "execution_count": null,
   "id": "4e7474fe-3713-4dd6-8c52-305c582c123e",
   "metadata": {},
   "outputs": [],
   "source": [
    "schema = {\n",
    "    \"Jets\": [\n",
    "        \"pt\", \"eta\", \"phi\"\n",
    "    ]\n",
    "}\n",
    "\n",
    "def read_events(filename, schema):\n",
    "    with uproot.open({filename: \"CollectionTree\"}) as tree:\n",
    "        events = {}\n",
    "        for objname, fields in schema.items():\n",
    "            base = objname\n",
    "            if objname in [\"Jets\"]:\n",
    "                base = \"Analysis\" + objname\n",
    "                ak_zip = vector.zip\n",
    "            else:\n",
    "                ak_zip = ak.zip\n",
    "            arrays = tree.arrays(\n",
    "                fields,\n",
    "                aliases={field: f\"{base}AuxDyn.{field}\" for field in fields},\n",
    "            )\n",
    "            arrays = ak_zip(dict(zip(arrays.fields, ak.unzip(arrays))))\n",
    "            events[objname] = arrays\n",
    "        return ak.zip(events, depth_limit=1)\n"
   ]
  },
  {
   "cell_type": "code",
   "execution_count": 14,
   "id": "aae7aa73-25d4-4f0b-a51e-4348cbd42c62",
   "metadata": {},
   "outputs": [],
   "source": [
    "import json\n",
    "\n",
    "with open(\"jets_data_higgs_nominal_samples.json\", \"w\") as f:\n",
    "    json.dump(jets_as_list, f, indent=2)"
   ]
  },
  {
   "cell_type": "code",
   "execution_count": 16,
   "id": "1a64e2ca-b927-49c5-a1ec-57b193b35329",
   "metadata": {},
   "outputs": [
    {
     "name": "stdout",
     "output_type": "stream",
     "text": [
      "TTree objects inside the ROOT file:\n",
      "- ##Params;3\n",
      "- ##Params;2\n",
      "- ##Shapes;3\n",
      "- ##Shapes;2\n",
      "- ##Links;3\n",
      "- ##Links;2\n",
      "- MetaData;1\n",
      "- MetaDataHdr;1\n",
      "- MetaDataHdrForm;1\n",
      "- CollectionTree;1\n",
      "- POOLContainer;1\n",
      "- POOLContainerForm;1\n",
      "- POOLCollectionTree;1\n",
      "name                                               | typename                                           | interpretation                                    \n",
      "---------------------------------------------------+----------------------------------------------------+---------------------------------------------------\n",
      "xTrigDecisionAux.                                  | xAOD::TrigDecisionAuxInfo_v1                       | AsGroup(<TBranchElement 'xTrigDecisionAux.' (20...\n",
      "xTrigDecisionAux./xTrigDecisionAux.xAOD::AuxInf... | unknown                                            | <UnknownInterpretation 'none of the rules match...\n",
      "xTrigDecisionAux./xTrigDecisionAux.smk             | uint32_t                                           | AsDtype('>u4')\n",
      "xTrigDecisionAux./xTrigDecisionAux.bgCode          | int8_t                                             | AsDtype('int8')\n",
      "xTrigDecisionAux./xTrigDecisionAux.tav             | std::vector<uint32_t>                              | AsJagged(AsDtype('>u4'), header_bytes=10)\n",
      "xTrigDecisionAux./xTrigDecisionAux.tap             | std::vector<uint32_t>                              | AsJagged(AsDtype('>u4'), header_bytes=10)\n",
      "xTrigDecisionAux./xTrigDecisionAux.tbp             | std::vector<uint32_t>                              | AsJagged(AsDtype('>u4'), header_bytes=10)\n",
      "xTrigDecisionAux./xTrigDecisionAux.lvl2ErrorBits   | uint32_t                                           | AsDtype('>u4')\n",
      "xTrigDecisionAux./xTrigDecisionAux.efErrorBits     | uint32_t                                           | AsDtype('>u4')\n",
      "xTrigDecisionAux./xTrigDecisionAux.lvl2Truncated   | bool                                               | AsDtype('bool')\n"
     ]
    }
   ],
   "source": [
    "filename = \"DAOD_PHYSLITE.38191516._000001.pool.root.1\"\n",
    "print('TTree objects inside the ROOT file:')\n",
    "for ii in uproot.open(filename).keys():\n",
    "    print('-',ii)\n",
    "tree = uproot.open({filename: \"CollectionTree\"})\n",
    "# Display only the first 10 branches\n",
    "first_10_branches = list(tree.keys())[:10]\n",
    "tree.show(filter_name=first_10_branches, name_width=50, typename_width=50, interpretation_width=50)\n",
    "jets = ak.zip(\n",
    "     {\n",
    "        \"pt\": tree[\"AnalysisJetsAuxDyn.pt\"].array(),\n",
    "        \"eta\": tree[\"AnalysisJetsAuxDyn.eta\"].array(),\n",
    "        \"phi\": tree[\"AnalysisJetsAuxDyn.phi\"].array(),\n",
    "    }\n",
    ")\n",
    "jets_as_list = ak.to_list(jets) \n",
    "with open(\"jets_data_exotic_signals.json\", \"w\") as f:\n",
    "    json.dump(jets_as_list, f, indent=2)"
   ]
  },
  {
   "cell_type": "code",
   "execution_count": null,
   "id": "6b64376d-1fd5-4937-97be-be472b023bed",
   "metadata": {},
   "outputs": [],
   "source": []
  }
 ],
 "metadata": {
  "kernelspec": {
   "display_name": "Python 3 (ipykernel)",
   "language": "python",
   "name": "python3"
  },
  "language_info": {
   "codemirror_mode": {
    "name": "ipython",
    "version": 3
   },
   "file_extension": ".py",
   "mimetype": "text/x-python",
   "name": "python",
   "nbconvert_exporter": "python",
   "pygments_lexer": "ipython3",
   "version": "3.12.4"
  }
 },
 "nbformat": 4,
 "nbformat_minor": 5
}
