{
  "nbformat": 4,
  "nbformat_minor": 0,
  "metadata": {
    "colab": {
      "provenance": [],
      "authorship_tag": "ABX9TyPCy863jJ/rK0J/YIJGk6wJ",
      "include_colab_link": true
    },
    "kernelspec": {
      "name": "python3",
      "display_name": "Python 3"
    },
    "language_info": {
      "name": "python"
    }
  },
  "cells": [
    {
      "cell_type": "markdown",
      "metadata": {
        "id": "view-in-github",
        "colab_type": "text"
      },
      "source": [
        "<a href=\"https://colab.research.google.com/github/MirandaCarou/Research-Intership-Memory/blob/main/Qutrits_neutrinoQuForge.ipynb\" target=\"_parent\"><img src=\"https://colab.research.google.com/assets/colab-badge.svg\" alt=\"Open In Colab\"/></a>"
      ]
    },
    {
      "cell_type": "code",
      "source": [
        "!pip install quforge"
      ],
      "metadata": {
        "colab": {
          "base_uri": "https://localhost:8080/"
        },
        "id": "LkAFWYgRacVH",
        "outputId": "07144e9a-eb66-4be0-c651-70941c4ca78f"
      },
      "execution_count": 27,
      "outputs": [
        {
          "output_type": "stream",
          "name": "stdout",
          "text": [
            "Requirement already satisfied: quforge in /usr/local/lib/python3.11/dist-packages (0.1.13)\n"
          ]
        }
      ]
    },
    {
      "cell_type": "code",
      "execution_count": 2,
      "metadata": {
        "id": "l4h8mxmnZ9g8"
      },
      "outputs": [],
      "source": [
        "# # First, we import the libaries\n",
        "# import quforge.quforge as qf\n",
        "# from quforge.quforge import State as State\n",
        "import sys\n",
        "sys.path.append('../')\n",
        "import quforge.quforge as qf\n",
        "from quforge.quforge import *"
      ]
    },
    {
      "cell_type": "code",
      "source": [
        "import matplotlib.pyplot as plt\n",
        "from IPython.display import display, Math, Latex\n",
        "import numpy as np\n"
      ],
      "metadata": {
        "id": "IGJoXeR6apyI"
      },
      "execution_count": 3,
      "outputs": []
    },
    {
      "cell_type": "markdown",
      "source": [
        "**Basic Gates**\n",
        "\n",
        "\n",
        "\n",
        "```\n",
        "State(dits, dim=2, device='cpu')\n",
        "density_matrix(state)\n",
        "partial_trace(state, index=[0], dim=2, wires=1)\n",
        "projector(index, dim)\n",
        "measure(state=None, index=[0], shots=1, dim=2, wires=1)\n",
        "project(state, index=[0], dim=2)\n",
        "mean(state, observable='Z', index=0)\n",
        "\n",
        "eye(dim, device='cpu', sparse=False) # Create a sparse identity matrix\n",
        "zeros(m,n, device='cpu')\n",
        "ones(m,n, device='cpu')\n",
        "kron(matrix1, matrix2, sparse=False) # Tensor product of dense or sparse matrix\n",
        "base(D, device='cpu')\n",
        "fidelity(state1, state2)\n",
        "argmax(x)\n",
        "mean(x)\n",
        "\n",
        "Linear(nn.Linear)\n",
        "Sequential(nn.Sequential)\n",
        "ReLU(nn.ReLU)\n",
        "Sigmoid(nn.Sigmoid)\n",
        "Tanh(nn.Tanh)\n",
        "LeakyReLU(nn.LeakyReLU)\n",
        "Softmax(nn.Softmax)\n",
        "```\n",
        "\n"
      ],
      "metadata": {
        "id": "3aYxC1IcbY6r"
      }
    },
    {
      "cell_type": "markdown",
      "source": [
        "**Quantum Circuit for qudits using QuForge**.\n",
        "\n",
        "    The Circuit class allows users to dynamically add various quantum gates to construct a quantum circuit for qudit systems. It supports a wide range of gates, including single, multi-qudit, and custom gates. The class provides methods to add specific gates as well as a general interface for adding custom gates.\n",
        "\n",
        "    **Details:**\n",
        "\n",
        "    This class facilitates the construction of quantum circuits by allowing the sequential addition of gates. The circuit is represented as a sequence of quantum operations (gates) that act on qudit states.\n",
        "\n",
        "    Args:\n",
        "        dim (int): The dimension of the qudits. Default is 2.\n",
        "        wires (int): The total number of qudits (wires) in the circuit. Default is 1.\n",
        "        device (str): The device to perform the computations on. Default is 'cpu'.\n",
        "        sparse (bool): Whether to use sparse matrix representations for the gates. Default is False.\n",
        "\n",
        "    Attributes:\n",
        "        dim (int): The dimension of the qudits.\n",
        "        wires (int): The number of qudits in the circuit.\n",
        "        device (str): The device for computations ('cpu' or 'cuda').\n",
        "        circuit (nn.Sequential): A sequential container for holding the quantum gates.\n",
        "        sparse (bool): Whether to use sparse matrices in the gates.\n",
        "\n",
        "    Methods:\n",
        "        add(module, **kwargs): Dynamically add a gate module to the circuit.\n",
        "        add_gate(gate, **kwargs): Add a specific gate instance to the circuit.\n",
        "        H(**kwargs): Add a Hadamard gate to the circuit.\n",
        "        RX(**kwargs): Add a rotation-X gate to the circuit.\n",
        "        RY(**kwargs): Add a rotation-Y gate to the circuit.\n",
        "        RZ(**kwargs): Add a rotation-Z gate to the circuit.\n",
        "        X(**kwargs): Add a Pauli-X gate to the circuit.\n",
        "        Y(**kwargs): Add a Pauli-Y gate to the circuit.\n",
        "        Z(**kwargs): Add a Pauli-Z gate to the circuit.\n",
        "        CNOT(**kwargs): Add a controlled-NOT gate to the circuit.\n",
        "        SWAP(**kwargs): Add a SWAP gate to the circuit.\n",
        "        CZ(**kwargs): Add a controlled-Z gate to the circuit.\n",
        "        CCNOT(**kwargs): Add a Toffoli (CCNOT) gate to the circuit.\n",
        "        MCX(**kwargs): Add a multi-controlled-X gate to the circuit.\n",
        "        CRX(**kwargs): Add a controlled rotation-X gate to the circuit.\n",
        "        CRY(**kwargs): Add a controlled rotation-Y gate to the circuit.\n",
        "        CRZ(**kwargs): Add a controlled rotation-Z gate to the circuit.\n",
        "        Custom(**kwargs): Add a custom gate to the circuit.\n",
        "\n",
        "    Examples:\n",
        "        >>> import quforge.quforge as qf\n",
        "        >>> circuit = qf.Circuit(dim=2, wires=3, device='cpu')\n",
        "        >>> circuit.H(index=[0])\n",
        "        >>> circuit.CNOT(index=[0, 1])\n",
        "        >>> state = qf.State('0-0-0')\n",
        "        >>> result = circuit(state)\n",
        "        >>> print(result)\n",
        "    \"\"\""
      ],
      "metadata": {
        "id": "LHuJDVSva3ZW"
      }
    },
    {
      "cell_type": "markdown",
      "source": [
        "class **CustomGate**(nn.Module):\n",
        "\n",
        "    Custom Quantum Gate for qudits.\n",
        "\n",
        "    The CustomGate class allows users to define and apply a custom quantum gate to a specific qudit in a multi-qudit system. This gate can be any user-defined matrix, making it highly flexible for custom operations.\n",
        "\n",
        "    **Details:**\n",
        "\n",
        "    This gate applies a custom unitary matrix :math:`M` to the specified qudit while leaving other qudits unaffected by applying the identity operation to them.\n",
        "\n",
        "    Args:\n",
        "        M (torch.Tensor): The custom matrix to be applied as the gate.\n",
        "        dim (int): The dimension of the qudits. Default is 2.\n",
        "        wires (int): The total number of qudits (wires) in the circuit. Default is 1.\n",
        "        index (int): The index of the qudit to which the custom gate is applied. Default is 0.\n",
        "        device (str): The device to perform the computations on. Default is 'cpu'.\n",
        "\n",
        "    Attributes:\n",
        "        M (torch.Tensor): The custom matrix for the gate.\n",
        "        dim (int): The dimension of the qudits.\n",
        "        index (int): The index of the qudit on which the custom gate operates.\n",
        "        wires (int): The total number of qudits in the system.\n",
        "        device (str): The device for computations ('cpu' or 'cuda').\n",
        "\n",
        "    Examples:\n",
        "        >>> import quforge.quforge as qf\n",
        "        >>> custom_matrix = torch.tensor([[0, 1], [1, 0]])  # Example custom matrix\n",
        "        >>> gate = qf.CustomGate(M=custom_matrix, dim=2, index=0, wires=2)\n",
        "        >>> state = qf.State('00')\n",
        "        >>> result = gate(state)\n",
        "        >>> print(result)\n",
        "    \"\"\""
      ],
      "metadata": {
        "id": "AAGvKi6EbEnN"
      }
    },
    {
      "cell_type": "code",
      "source": [
        "def print_matrix(matrix):\n",
        "    \"\"\"Prints a matrix using LaTeX formatting.\"\"\"\n",
        "\n",
        "    latex_code = \"\\\\begin{bmatrix}\\n\"\n",
        "    for row in matrix:\n",
        "        latex_code += \" & \".join(map(str, row)) + \" \\\\\\\\\\n\"  # Format each row\n",
        "    latex_code += \"\\\\end{bmatrix}\"\n",
        "\n",
        "    display(Math(latex_code))  # Display using IPython's Math function\n",
        "\n",
        "def pmns_matrix(theta12, theta23, theta13, delta):\n",
        "    \"\"\"Genera la matriz PMNS con los parámetros dados.\"\"\"\n",
        "    c12, s12 = np.cos(theta12), np.sin(theta12)\n",
        "    c23, s23 = np.cos(theta23), np.sin(theta23)\n",
        "    c13, s13 = np.cos(theta13), np.sin(theta13)\n",
        "\n",
        "    e_minus_idelta = np.exp(-1j * delta)\n",
        "    e_plus_idelta = np.exp(1j * delta)\n",
        "\n",
        "    return np.array([\n",
        "        [c12 * c13, s12 * c13, s13 * e_minus_idelta],\n",
        "        [-s12 * c23 - c12 * s23 * s13 * e_plus_idelta,\n",
        "         c12 * c23 - s12 * s23 * s13 * e_plus_idelta,\n",
        "         s23 * c13],\n",
        "        [s12 * s23 - c12 * c23 * s13 * e_plus_idelta,\n",
        "         -c12 * s23 - s12 * c23 * s13 * e_plus_idelta,\n",
        "         c23 * c13]\n",
        "    ])\n",
        "\n",
        "# Parámetros de ejemplo\n",
        "theta12 = np.pi / 4\n",
        "theta23 = np.pi / 6\n",
        "theta13 = np.pi / 8\n",
        "delta = np.pi / 2\n",
        "\n",
        "# Crear matriz PMNS\n",
        "U_pmns = pmns_matrix(theta12, theta23, theta13, delta)\n",
        "\n",
        "print(\"Matriz PMNS:\")\n",
        "print_matrix(U_pmns)\n",
        "\n",
        "U_pmns[0, 0]"
      ],
      "metadata": {
        "colab": {
          "base_uri": "https://localhost:8080/",
          "height": 114
        },
        "id": "ndg9w1wCf4yd",
        "outputId": "89cf013f-7ed8-49d4-b8e6-2ef1bedcddf0"
      },
      "execution_count": 4,
      "outputs": [
        {
          "output_type": "stream",
          "name": "stdout",
          "text": [
            "Matriz PMNS:\n"
          ]
        },
        {
          "output_type": "display_data",
          "data": {
            "text/plain": [
              "<IPython.core.display.Math object>"
            ],
            "text/latex": "$\\displaystyle \\begin{bmatrix}\n(0.6532814824381883+0j) & (0.6532814824381882+0j) & (2.3432602026631493e-17-0.3826834323650898j) \\\\\n(-0.6123724356957945-0.13529902503654923j) & (0.6123724356957946-0.13529902503654923j) & (0.4619397662556433+0j) \\\\\n(0.3535533905932737-0.2343447855778369j) & (-0.35355339059327373-0.23434478557783686j) & (0.8001031451912656+0j) \\\\\n\\end{bmatrix}$"
          },
          "metadata": {}
        },
        {
          "output_type": "execute_result",
          "data": {
            "text/plain": [
              "(0.6532814824381883+0j)"
            ]
          },
          "metadata": {},
          "execution_count": 4
        }
      ]
    },
    {
      "cell_type": "code",
      "source": [
        "def gell_mann_matrices():\n",
        "    gm1 = np.array([[0, 1, 0], [1, 0, 0], [0, 0, 0]], dtype=complex)\n",
        "    gm2 = np.array([[0, -1j, 0], [1j, 0, 0], [0, 0, 0]], dtype=complex)\n",
        "    gm3 = np.array([[1, 0, 0], [0, -1, 0], [0, 0, 0]], dtype=complex)\n",
        "    gm4 = np.array([[0, 0, 1], [0, 0, 0], [1, 0, 0]], dtype=complex)\n",
        "    gm5 = np.array([[0, 0, -1j], [0, 0, 0], [1j, 0, 0]], dtype=complex)\n",
        "    gm6 = np.array([[0, 0, 0], [0, 0, 1], [0, 1, 0]], dtype=complex)\n",
        "    gm7 = np.array([[0, 0, 0], [0, 0, -1j], [0, 1j, 0]], dtype=complex)\n",
        "    gm8 = np.array([[1 / np.sqrt(3), 0, 0], [0, 1 / np.sqrt(3), 0], [0, 0, -2 / np.sqrt(3)]], dtype=complex)\n",
        "\n",
        "    return [gm1, gm2, gm3, gm4, gm5, gm6, gm7, gm8]"
      ],
      "metadata": {
        "id": "TvWjAfDxlFS4"
      },
      "execution_count": 5,
      "outputs": []
    },
    {
      "cell_type": "code",
      "source": [
        "#Define iniciala state\n",
        "def neutrino_state(theta, phi, eta, xi1, xi2):\n",
        "    alpha = np.sin(theta) * np.cos(phi) * np.exp(1j * xi1)\n",
        "    beta = np.sin(theta)* np.sin(phi) * np.exp(1j * xi2)\n",
        "    gamma = np.cos(theta)\n",
        "    return np.array([alpha, beta, gamma])"
      ],
      "metadata": {
        "id": "_-8UuacqlMcE"
      },
      "execution_count": 6,
      "outputs": []
    },
    {
      "cell_type": "code",
      "source": [
        "def evolve_state(state, delta_m2_ij, L, E):\n",
        "    if len(delta_m2_ij) != len(state) - 1:\n",
        "        raise ValueError(\"El tamaño de delta_m2_ij debe ser igual al número de diferencias de masas del estado (3 componentes => 2 diferencias de masa).\")\n",
        "\n",
        "    # Crear un array de fases con longitud igual al estado\n",
        "    phases = np.ones(len(state), dtype=complex)\n",
        "    for i in range(len(delta_m2_ij)):\n",
        "        phases[i] = np.exp(-1j * delta_m2_ij[i] * L / (2 * E))\n",
        "\n",
        "    # Aplicar las fases al estado\n",
        "    evolved_state = state * phases\n",
        "    # Normalizar el estado\n",
        "    norm = np.linalg.norm(evolved_state)\n",
        "    if not np.isclose(norm, 1):\n",
        "        evolved_state /= norm\n",
        "\n",
        "    return evolved_state\n"
      ],
      "metadata": {
        "id": "uow3AWezlQkO"
      },
      "execution_count": 7,
      "outputs": []
    },
    {
      "cell_type": "code",
      "source": [
        "def neutrinos_circuit(state1, state2, dim, wires , device):\n",
        "    circuit = qf.Circuit(dim=dim, wires=wires, device=device)\n",
        "\n",
        "    circuit.H(index=[0])\n",
        "    circuit.H(index=[1])\n",
        "    circuit.CNOT(index=[0, 1])\n",
        "\n",
        "    return circuit\n",
        "\n"
      ],
      "metadata": {
        "id": "wiep8nnvf_ds"
      },
      "execution_count": 15,
      "outputs": []
    },
    {
      "cell_type": "code",
      "source": [
        "def reduced_density_matrix(rho, qutrit_index):\n",
        "    dim = 3\n",
        "    reduced_matrix = np.zeros((dim, dim), dtype=complex)\n",
        "\n",
        "    if qutrit_index == 1:\n",
        "        # Trace over the second qutrit\n",
        "        for i in range(dim):\n",
        "            for j in range(dim):\n",
        "                for k in range(dim):\n",
        "                    reduced_matrix[i, j] += rho[i * dim + k, j * dim + k]\n",
        "    elif qutrit_index == 2:\n",
        "        # Trace over the first qutrit\n",
        "        for i in range(dim):\n",
        "            for j in range(dim):\n",
        "                for k in range(dim):\n",
        "                    reduced_matrix[i, j] += rho[k * dim + i, k * dim + j]\n",
        "    else:\n",
        "        raise ValueError(\"qutrit_index must be 1 or 2. Received: {}\".format(qutrit_index))\n",
        "\n",
        "    return reduced_matrix"
      ],
      "metadata": {
        "id": "cTvnAZxBaV24"
      },
      "execution_count": 10,
      "outputs": []
    },
    {
      "cell_type": "markdown",
      "source": [
        "\"We calculate the entropy of mixing of the mixed state ρ using the formula ...\"\n",
        "\n",
        "**Fórmula**\n",
        "\n",
        "$$E(\\rho) = -\\sum_{i} x_i \\log_3(x_i)$$"
      ],
      "metadata": {
        "id": "FOoUlwhRiWiN"
      }
    },
    {
      "cell_type": "code",
      "source": [
        "def entropy_of_mixing(rho):\n",
        "    eigenvalues = np.linalg.eigvalsh(rho)\n",
        "    print(eigenvalues)\n",
        "    eigenvalues = eigenvalues[eigenvalues > 1e-10]\n",
        "    entropy = -np.sum(eigenvalues * np.log(eigenvalues) / np.log(3))\n",
        "\n",
        "    return entropy"
      ],
      "metadata": {
        "id": "XWGfxtpRaY0v"
      },
      "execution_count": 11,
      "outputs": []
    },
    {
      "cell_type": "code",
      "source": [
        "def generalized_concurrence(rho):\n",
        "    # Ensure rho is a valid density matrix\n",
        "    assert np.allclose(rho, rho.conj().T), \"Input matrix must be Hermitian.\"\n",
        "    assert np.isclose(np.trace(rho), 1.0), \"Input matrix must have trace 1.\"\n",
        "\n",
        "    # 0_3 matrix\n",
        "    o_3_matrix = np.array([[0, -1j, 1j], [1j, 0, -1j], [-1j, 1j, 0]], dtype=complex)\n",
        "\n",
        "    # Compute the spin-flip operation: tilde_rho = (o_3_matrix ⊗ o_3_matrix) rho* (o_3_matrix ⊗ o_3_matrix)\n",
        "    rho_conj = np.conjugate(rho)\n",
        "    sigma_y_tensor = np.kron(o_3_matrix, o_3_matrix)\n",
        "    tilde_rho = sigma_y_tensor @ rho_conj @ sigma_y_tensor\n",
        "\n",
        "    # Compute the product rho * tilde_rho\n",
        "    product = rho @ tilde_rho\n",
        "\n",
        "    # Compute the eigenvalues of the product\n",
        "    eigenvalues = np.linalg.eigvals(product)\n",
        "\n",
        "    # Sort eigenvalues in descending order and clip negative values (due to numerical errors)\n",
        "    eigenvalues = np.sort(eigenvalues)[::-1]\n",
        "    eigenvalues = np.clip(eigenvalues, 0, None)\n",
        "\n",
        "    # Calculate the generalized concurrence\n",
        "    concurrence = max(0, np.sqrt(eigenvalues[0]) - sum(np.sqrt(eigenvalues[1:])))\n",
        "\n",
        "    return concurrence"
      ],
      "metadata": {
        "id": "Y1usRyW8aaVo"
      },
      "execution_count": 12,
      "outputs": []
    },
    {
      "cell_type": "code",
      "source": [
        "dim = 3\n",
        "wires = 2\n",
        "device = 'cpu'\n",
        "\n",
        "params1 = [np.pi / 2, 2*np.pi / 6, 3*np.pi / 2, 0, np.pi / 2]\n",
        "params2 = [np.pi / 6, np.pi / 4, np.pi / 3, np.pi / 2, 0]\n",
        "# Diferencias de masas al cuadrado y parámetros de evolución\n",
        "delta_m2_ij = np.array([2.4e-3, 7.5e-5])  # Diferencias de masas al cuadrado en eV^2\n",
        "L = 100  # Distancia recorrida en km\n",
        "E = 1  # Energía del neutrino en GeV\n",
        "\n",
        "\n",
        "# Estado inicial\n",
        "state1 = neutrino_state(*params1)\n",
        "state2 = neutrino_state(*params2)\n",
        "\n",
        "print(torch.tensor(state1, dtype=torch.complex64, device=device))\n",
        "\n",
        "# Evolución temporal\n",
        "state1_evo = evolve_state(state1, delta_m2_ij, L, E)\n",
        "state2_evo = evolve_state(state2, delta_m2_ij, L, E)\n",
        "\n",
        "\n",
        "\n",
        "circuit = neutrinos_circuit(state1_evo, state2_evo, dim=dim, wires=wires, device=device)\n",
        "tensor_state1_evo = torch.tensor(state1_evo, dtype=torch.complex64, device=device)\n",
        "tensor_state2_evo = torch.tensor(state2_evo, dtype=torch.complex64, device=device)\n",
        "initial_state = qf.kron(tensor_state1_evo, tensor_state2_evo)\n",
        "\n",
        "state_vector = circuit(initial_state)\n",
        "\n",
        "print(\"Estado completo del sistema de dos qutrits:\")\n",
        "print(state_vector)\n",
        "\n",
        "print(\"Matriz densidad\")\n",
        "rho = np.outer(np.asarray(state_vector), np.asarray(np.conj(state_vector)))\n",
        "print_matrix(rho.real)"
      ],
      "metadata": {
        "colab": {
          "base_uri": "https://localhost:8080/",
          "height": 307
        },
        "id": "BUgsyKhvakd3",
        "outputId": "6724a6e6-c397-419e-899e-0ffcb7a20a74"
      },
      "execution_count": 25,
      "outputs": [
        {
          "output_type": "stream",
          "name": "stdout",
          "text": [
            "tensor([5.0000e-01+0.0000j, 5.3029e-17+0.8660j, 6.1232e-17+0.0000j])\n",
            "Estado completo del sistema de dos qutrits:\n",
            "tensor([ 0.1162+0.3973j, -0.0696-0.1675j, -0.3085-0.0203j,  0.1783+0.0252j,\n",
            "        -0.0502-0.2359j,  0.0331+0.1003j, -0.2502+0.0553j, -0.1045+0.4240j,\n",
            "         0.5814-0.0634j])\n",
            "Matriz densidad\n"
          ]
        },
        {
          "output_type": "display_data",
          "data": {
            "text/plain": [
              "<IPython.core.display.Math object>"
            ],
            "text/latex": "$\\displaystyle \\begin{bmatrix}\n0.1713819 & -0.074648224 & -0.04391418 & 0.030737791 & -0.099561825 & 0.043721106 & -0.007086263 & 0.15633655 & 0.042363264 \\\\\n-0.074648224 & 0.032903906 & 0.024859138 & -0.016626997 & 0.043010503 & -0.019115048 & 0.008133401 & -0.06376589 & -0.029817788 \\\\\n-0.04391418 & 0.024859138 & 0.095564626 & -0.05551688 & 0.020284817 & -0.0122561185 & 0.07605557 & 0.023622267 & -0.17804652 \\\\\n0.030737791 & -0.016626997 & -0.05551688 & 0.032432385 & -0.014903438 & 0.00843661 & -0.04322026 & -0.007943841 & 0.102069795 \\\\\n-0.099561825 & 0.043010503 & 0.020284817 & -0.014903438 & 0.05816298 & -0.025333852 & -0.00048543987 & -0.09476902 & -0.014246173 \\\\\n0.043721106 & -0.019115048 & -0.0122561185 & 0.00843661 & -0.025333852 & 0.011166815 & -0.002735155 & 0.03908741 & 0.012895771 \\\\\n-0.007086263 & 0.008133401 & 0.07605557 & -0.04322026 & -0.00048543987 & -0.002735155 & 0.0656637 & 0.049609385 & -0.14896952 \\\\\n0.15633655 & -0.06376589 & 0.023622267 & -0.007943841 & -0.09476902 & 0.03908741 & 0.049609385 & 0.19071066 & -0.08763602 \\\\\n0.042363264 & -0.029817788 & -0.17804652 & 0.102069795 & -0.014246173 & 0.012895771 & -0.14896952 & -0.08763602 & 0.34201318 \\\\\n\\end{bmatrix}$"
          },
          "metadata": {}
        }
      ]
    },
    {
      "cell_type": "code",
      "source": [
        "print()\n",
        "print(rho.shape)\n",
        "# Matrices de densidad reducida\n",
        "# Qutrit 1 ----------------------\n",
        "reduced_rho_matrix_qutrit1 = reduced_density_matrix(rho, 1)\n",
        "print(\"\\nMatriz de densidad reducida del Qutrit 1:\")\n",
        "print()\n",
        "print_matrix(reduced_rho_matrix_qutrit1.real)\n",
        "print()\n",
        "# Qutrit 2 ----------------------\n",
        "reduced_rho_matrix_qutrit2 = reduced_density_matrix(rho, 2)\n",
        "print(\"\\nMatriz de densidad reducida del Qutrit 2:\")\n",
        "print()\n",
        "print_matrix(reduced_rho_matrix_qutrit2.real)\n",
        "print()\n",
        "\n",
        "\n",
        "# Qutrit 1 -------------------------------------------------\n",
        "# Entropía de mezcla\n",
        "entropy_qutrit1 = entropy_of_mixing(reduced_rho_matrix_qutrit1)\n",
        "print(\"\\nEntropía de mezcla del Qutrit 1:\")\n",
        "print()\n",
        "print(entropy_qutrit1.real)\n",
        "print()\n",
        "# Qutrit 2 -------------------------------------------------\n",
        "entropy_qutrit2 = entropy_of_mixing(reduced_rho_matrix_qutrit2)\n",
        "print(\"\\nEntropía de mezcla del Qutrit 2:\")\n",
        "print()\n",
        "print(entropy_qutrit2.real)\n",
        "print()\n",
        "# Concurrencia Generalizada\n",
        "concurrence_value = generalized_concurrence(rho)\n",
        "print(\"\\nConcurrencia Generalizada:\")\n",
        "print(concurrence_value)\n",
        "print()"
      ],
      "metadata": {
        "colab": {
          "base_uri": "https://localhost:8080/",
          "height": 604
        },
        "id": "sipUlbTE0zY-",
        "outputId": "4421589b-deef-400f-cd6e-05d7ff214f12"
      },
      "execution_count": 26,
      "outputs": [
        {
          "output_type": "stream",
          "name": "stdout",
          "text": [
            "\n",
            "(9, 9)\n",
            "\n",
            "Matriz de densidad reducida del Qutrit 1:\n",
            "\n"
          ]
        },
        {
          "output_type": "display_data",
          "data": {
            "text/plain": [
              "<IPython.core.display.Math object>"
            ],
            "text/latex": "$\\displaystyle \\begin{bmatrix}\n0.2998504377901554 & 0.06149217579513788 & -0.24889867845922709 \\\\\n0.06149217579513788 & 0.10176217928528786 & -0.12509351130574942 \\\\\n-0.24889867845922709 & -0.12509351130574942 & 0.5983875468373299 \\\\\n\\end{bmatrix}$"
          },
          "metadata": {}
        },
        {
          "output_type": "stream",
          "name": "stdout",
          "text": [
            "\n",
            "\n",
            "Matriz de densidad reducida del Qutrit 2:\n",
            "\n"
          ]
        },
        {
          "output_type": "display_data",
          "data": {
            "text/plain": [
              "<IPython.core.display.Math object>"
            ],
            "text/latex": "$\\displaystyle \\begin{bmatrix}\n0.2694779932498932 & -0.039942276664078236 & -0.1844470864161849 \\\\\n-0.039942276664078236 & 0.2817775495350361 & -0.08811073005199432 \\\\\n-0.1844470864161849 & -0.08811073005199432 & 0.44874462112784386 \\\\\n\\end{bmatrix}$"
          },
          "metadata": {}
        },
        {
          "output_type": "stream",
          "name": "stdout",
          "text": [
            "\n",
            "[0.04864655 0.14779059 0.80356302]\n",
            "\n",
            "Entropía de mezcla del Qutrit 1:\n",
            "\n",
            "0.5510365320048556\n",
            "\n",
            "[0.04864654 0.1477906  0.80356303]\n",
            "\n",
            "Entropía de mezcla del Qutrit 2:\n",
            "\n",
            "0.5510365111508502\n",
            "\n",
            "\n",
            "Concurrencia Generalizada:\n",
            "(0.45927943454897735+3.507262697626458e-09j)\n",
            "\n"
          ]
        }
      ]
    }
  ]
}