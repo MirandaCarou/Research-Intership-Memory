{
 "cells": [
  {
   "cell_type": "code",
   "execution_count": 1,
   "id": "cee10b53-b292-4b15-8d60-4aa6c0e0da8b",
   "metadata": {},
   "outputs": [
    {
     "name": "stdout",
     "output_type": "stream",
     "text": [
      "Requirement already satisfied: h5py in c:\\users\\miranda\\.conda\\envs\\mqist\\lib\\site-packages (3.13.0)\n",
      "Requirement already satisfied: numpy>=1.19.3 in c:\\users\\miranda\\.conda\\envs\\mqist\\lib\\site-packages (from h5py) (2.1.2)\n"
     ]
    }
   ],
   "source": [
    "!pip install h5py"
   ]
  },
  {
   "cell_type": "code",
   "execution_count": null,
   "id": "8dfdf742-859d-4ba4-b20d-b58ff97b9508",
   "metadata": {},
   "outputs": [],
   "source": [
    "import h5py\n",
    "import json\n",
    "import numpy as np\n",
    "\n",
    "def convert_h5_to_json(h5_file_path, json_file_path):\n",
    "    \"\"\"\n",
    "    Converts an HDF5 file containing jet physics data to a JSON file.\n",
    "\n",
    "    Args:\n",
    "        h5_file_path (str): Path to the input .h5 file.\n",
    "        json_file_path (str): Path to the output .json file.\n",
    "    \"\"\"\n",
    "    try:\n",
    "        with h5py.File(h5_file_path, 'r') as hf:\n",
    "            data = []\n",
    "            N_jets = hf['event_info'].shape[0]\n",
    "\n",
    "            for i in range(N_jets):\n",
    "                event = {}\n",
    "\n",
    "                # Event Info\n",
    "                event['event_info'] = hf['event_info'][i].tolist()\n",
    "\n",
    "                # Jet Kinematics\n",
    "                event['jet_kinematics'] = hf['jet_kinematics'][i].tolist()\n",
    "\n",
    "                # PF Candidates\n",
    "                pfcands = hf['PFCands'][i]\n",
    "                # Remove zero-padded candidates\n",
    "                valid_pfcands = pfcands[np.any(pfcands != 0, axis=1)].tolist()\n",
    "                event['PFCands'] = valid_pfcands\n",
    "\n",
    "                # Jet Tagging\n",
    "                event['jet_tagging'] = hf['jet_tagging'][i].tolist()\n",
    "\n",
    "                data.append(event)\n",
    "\n",
    "            with open(json_file_path, 'w') as jf:\n",
    "                json.dump(data, jf, indent=4)  # Use indent for pretty formatting\n",
    "\n",
    "            print(f\"Successfully converted '{h5_file_path}' to '{json_file_path}'\")\n",
    "\n",
    "    except ImportError:\n",
    "        print(\"Error: Please make sure you have 'h5py' and 'json' installed (json is usually built-in).\")\n",
    "    except FileNotFoundError:\n",
    "        print(f\"Error: The file '{h5_file_path}' was not found.\")\n",
    "    except KeyError as e:\n",
    "        print(f\"Error: Key '{e}' not found in the HDF5 file. Please check the file structure.\")\n",
    "    except Exception as e:\n",
    "        print(f\"An unexpected error occurred: {e}\")\n",
    "\n",
    "if __name__ == '__main__':\n",
    "    h5_file = 'RunG_batch0.h5'  # Replace with the actual path to your .h5 file\n",
    "    json_file = 'runG_batch0.json'      # Replace with the desired path for your .json file\n",
    "    convert_h5_to_json(h5_file, json_file)"
   ]
  },
  {
   "cell_type": "code",
   "execution_count": null,
   "id": "32587ac4-0d20-4ccc-840b-5a3c47af8b17",
   "metadata": {},
   "outputs": [],
   "source": []
  }
 ],
 "metadata": {
  "kernelspec": {
   "display_name": "Python 3 (ipykernel)",
   "language": "python",
   "name": "python3"
  },
  "language_info": {
   "codemirror_mode": {
    "name": "ipython",
    "version": 3
   },
   "file_extension": ".py",
   "mimetype": "text/x-python",
   "name": "python",
   "nbconvert_exporter": "python",
   "pygments_lexer": "ipython3",
   "version": "3.12.4"
  }
 },
 "nbformat": 4,
 "nbformat_minor": 5
}
